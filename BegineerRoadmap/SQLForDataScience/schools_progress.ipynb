{
 "cells": [
  {
   "cell_type": "code",
   "execution_count": 2,
   "metadata": {},
   "outputs": [
    {
     "data": {
      "text/html": [
       "<div>\n",
       "<style scoped>\n",
       "    .dataframe tbody tr th:only-of-type {\n",
       "        vertical-align: middle;\n",
       "    }\n",
       "\n",
       "    .dataframe tbody tr th {\n",
       "        vertical-align: top;\n",
       "    }\n",
       "\n",
       "    .dataframe thead th {\n",
       "        text-align: right;\n",
       "    }\n",
       "</style>\n",
       "<table border=\"1\" class=\"dataframe\">\n",
       "  <thead>\n",
       "    <tr style=\"text-align: right;\">\n",
       "      <th></th>\n",
       "      <th>School_ID</th>\n",
       "      <th>NAME_OF_SCHOOL</th>\n",
       "      <th>Elementary_Middle_or_High_School</th>\n",
       "      <th>Street_Address</th>\n",
       "      <th>City</th>\n",
       "      <th>State</th>\n",
       "      <th>ZIP_Code</th>\n",
       "      <th>Phone_Number</th>\n",
       "      <th>Link</th>\n",
       "      <th>Network_Manager</th>\n",
       "      <th>...</th>\n",
       "      <th>Freshman_on_Track_Rate_percentage</th>\n",
       "      <th>X_COORDINATE</th>\n",
       "      <th>Y_COORDINATE</th>\n",
       "      <th>Latitude</th>\n",
       "      <th>Longitude</th>\n",
       "      <th>COMMUNITY_AREA_NUMBER</th>\n",
       "      <th>COMMUNITY_AREA_NAME</th>\n",
       "      <th>Ward</th>\n",
       "      <th>Police District</th>\n",
       "      <th>Location</th>\n",
       "    </tr>\n",
       "  </thead>\n",
       "  <tbody>\n",
       "    <tr>\n",
       "      <th>0</th>\n",
       "      <td>610038</td>\n",
       "      <td>Abraham Lincoln Elementary School</td>\n",
       "      <td>ES</td>\n",
       "      <td>615 W Kemper Pl</td>\n",
       "      <td>Chicago</td>\n",
       "      <td>IL</td>\n",
       "      <td>60614</td>\n",
       "      <td>(773) 534-5720</td>\n",
       "      <td>http://schoolreports.cps.edu/SchoolProgressRep...</td>\n",
       "      <td>Fullerton Elementary Network</td>\n",
       "      <td>...</td>\n",
       "      <td>NDA</td>\n",
       "      <td>1171699.458</td>\n",
       "      <td>1915829.428</td>\n",
       "      <td>41.924497</td>\n",
       "      <td>-87.644522</td>\n",
       "      <td>7</td>\n",
       "      <td>LINCOLN PARK</td>\n",
       "      <td>43</td>\n",
       "      <td>18</td>\n",
       "      <td>(41.92449696, -87.64452163)</td>\n",
       "    </tr>\n",
       "    <tr>\n",
       "      <th>1</th>\n",
       "      <td>610281</td>\n",
       "      <td>Adam Clayton Powell Paideia Community Academy ...</td>\n",
       "      <td>ES</td>\n",
       "      <td>7511 S South Shore Dr</td>\n",
       "      <td>Chicago</td>\n",
       "      <td>IL</td>\n",
       "      <td>60649</td>\n",
       "      <td>(773) 535-6650</td>\n",
       "      <td>http://schoolreports.cps.edu/SchoolProgressRep...</td>\n",
       "      <td>Skyway Elementary Network</td>\n",
       "      <td>...</td>\n",
       "      <td>NDA</td>\n",
       "      <td>1196129.985</td>\n",
       "      <td>1856209.466</td>\n",
       "      <td>41.760324</td>\n",
       "      <td>-87.556736</td>\n",
       "      <td>43</td>\n",
       "      <td>SOUTH SHORE</td>\n",
       "      <td>7</td>\n",
       "      <td>4</td>\n",
       "      <td>(41.76032435, -87.55673627)</td>\n",
       "    </tr>\n",
       "    <tr>\n",
       "      <th>2</th>\n",
       "      <td>610185</td>\n",
       "      <td>Adlai E Stevenson Elementary School</td>\n",
       "      <td>ES</td>\n",
       "      <td>8010 S Kostner Ave</td>\n",
       "      <td>Chicago</td>\n",
       "      <td>IL</td>\n",
       "      <td>60652</td>\n",
       "      <td>(773) 535-2280</td>\n",
       "      <td>http://schoolreports.cps.edu/SchoolProgressRep...</td>\n",
       "      <td>Midway Elementary Network</td>\n",
       "      <td>...</td>\n",
       "      <td>NDA</td>\n",
       "      <td>1148427.165</td>\n",
       "      <td>1851012.215</td>\n",
       "      <td>41.747111</td>\n",
       "      <td>-87.731702</td>\n",
       "      <td>70</td>\n",
       "      <td>ASHBURN</td>\n",
       "      <td>13</td>\n",
       "      <td>8</td>\n",
       "      <td>(41.74711093, -87.73170248)</td>\n",
       "    </tr>\n",
       "    <tr>\n",
       "      <th>3</th>\n",
       "      <td>609993</td>\n",
       "      <td>Agustin Lara Elementary Academy</td>\n",
       "      <td>ES</td>\n",
       "      <td>4619 S Wolcott Ave</td>\n",
       "      <td>Chicago</td>\n",
       "      <td>IL</td>\n",
       "      <td>60609</td>\n",
       "      <td>(773) 535-4389</td>\n",
       "      <td>http://schoolreports.cps.edu/SchoolProgressRep...</td>\n",
       "      <td>Pershing Elementary Network</td>\n",
       "      <td>...</td>\n",
       "      <td>NDA</td>\n",
       "      <td>1164504.290</td>\n",
       "      <td>1873959.199</td>\n",
       "      <td>41.809757</td>\n",
       "      <td>-87.672145</td>\n",
       "      <td>61</td>\n",
       "      <td>NEW CITY</td>\n",
       "      <td>20</td>\n",
       "      <td>9</td>\n",
       "      <td>(41.8097569, -87.6721446)</td>\n",
       "    </tr>\n",
       "    <tr>\n",
       "      <th>4</th>\n",
       "      <td>610513</td>\n",
       "      <td>Air Force Academy High School</td>\n",
       "      <td>HS</td>\n",
       "      <td>3630 S Wells St</td>\n",
       "      <td>Chicago</td>\n",
       "      <td>IL</td>\n",
       "      <td>60609</td>\n",
       "      <td>(773) 535-1590</td>\n",
       "      <td>http://schoolreports.cps.edu/SchoolProgressRep...</td>\n",
       "      <td>Southwest Side High School Network</td>\n",
       "      <td>...</td>\n",
       "      <td>91.8</td>\n",
       "      <td>1175177.622</td>\n",
       "      <td>1880745.126</td>\n",
       "      <td>41.828146</td>\n",
       "      <td>-87.632794</td>\n",
       "      <td>34</td>\n",
       "      <td>ARMOUR SQUARE</td>\n",
       "      <td>11</td>\n",
       "      <td>9</td>\n",
       "      <td>(41.82814609, -87.63279369)</td>\n",
       "    </tr>\n",
       "  </tbody>\n",
       "</table>\n",
       "<p>5 rows × 78 columns</p>\n",
       "</div>"
      ],
      "text/plain": [
       "   School_ID                                     NAME_OF_SCHOOL  \\\n",
       "0     610038                  Abraham Lincoln Elementary School   \n",
       "1     610281  Adam Clayton Powell Paideia Community Academy ...   \n",
       "2     610185                Adlai E Stevenson Elementary School   \n",
       "3     609993                    Agustin Lara Elementary Academy   \n",
       "4     610513                      Air Force Academy High School   \n",
       "\n",
       "  Elementary_Middle_or_High_School          Street_Address     City State  \\\n",
       "0                               ES        615 W Kemper Pl   Chicago    IL   \n",
       "1                               ES  7511 S South Shore Dr   Chicago    IL   \n",
       "2                               ES     8010 S Kostner Ave   Chicago    IL   \n",
       "3                               ES     4619 S Wolcott Ave   Chicago    IL   \n",
       "4                               HS        3630 S Wells St   Chicago    IL   \n",
       "\n",
       "   ZIP_Code    Phone_Number  \\\n",
       "0     60614  (773) 534-5720   \n",
       "1     60649  (773) 535-6650   \n",
       "2     60652  (773) 535-2280   \n",
       "3     60609  (773) 535-4389   \n",
       "4     60609  (773) 535-1590   \n",
       "\n",
       "                                               Link   \\\n",
       "0  http://schoolreports.cps.edu/SchoolProgressRep...   \n",
       "1  http://schoolreports.cps.edu/SchoolProgressRep...   \n",
       "2  http://schoolreports.cps.edu/SchoolProgressRep...   \n",
       "3  http://schoolreports.cps.edu/SchoolProgressRep...   \n",
       "4  http://schoolreports.cps.edu/SchoolProgressRep...   \n",
       "\n",
       "                      Network_Manager  ... Freshman_on_Track_Rate_percentage  \\\n",
       "0        Fullerton Elementary Network  ...                               NDA   \n",
       "1           Skyway Elementary Network  ...                               NDA   \n",
       "2           Midway Elementary Network  ...                               NDA   \n",
       "3         Pershing Elementary Network  ...                               NDA   \n",
       "4  Southwest Side High School Network  ...                              91.8   \n",
       "\n",
       "  X_COORDINATE Y_COORDINATE   Latitude  Longitude COMMUNITY_AREA_NUMBER  \\\n",
       "0  1171699.458  1915829.428  41.924497 -87.644522                     7   \n",
       "1  1196129.985  1856209.466  41.760324 -87.556736                    43   \n",
       "2  1148427.165  1851012.215  41.747111 -87.731702                    70   \n",
       "3  1164504.290  1873959.199  41.809757 -87.672145                    61   \n",
       "4  1175177.622  1880745.126  41.828146 -87.632794                    34   \n",
       "\n",
       "  COMMUNITY_AREA_NAME  Ward Police District                     Location  \n",
       "0        LINCOLN PARK    43              18  (41.92449696, -87.64452163)  \n",
       "1         SOUTH SHORE     7               4  (41.76032435, -87.55673627)  \n",
       "2             ASHBURN    13               8  (41.74711093, -87.73170248)  \n",
       "3            NEW CITY    20               9    (41.8097569, -87.6721446)  \n",
       "4       ARMOUR SQUARE    11               9  (41.82814609, -87.63279369)  \n",
       "\n",
       "[5 rows x 78 columns]"
      ]
     },
     "execution_count": 2,
     "metadata": {},
     "output_type": "execute_result"
    }
   ],
   "source": [
    "import pandas as pd\n",
    "\n",
    "data= pd.read_csv(\"new_sql/schools_progress.csv\")\n",
    "\n",
    "data.head()"
   ]
  },
  {
   "cell_type": "code",
   "execution_count": null,
   "metadata": {},
   "outputs": [],
   "source": []
  },
  {
   "cell_type": "code",
   "execution_count": 7,
   "metadata": {},
   "outputs": [
    {
     "data": {
      "text/plain": [
       "0      08/28/2004 05:50:56 PM\n",
       "1      06/26/2004 12:40:00 PM\n",
       "2      04/04/2011 05:45:00 AM\n",
       "3      12/30/2010 04:30:00 PM\n",
       "4      02/02/2016 07:30:00 PM\n",
       "                ...          \n",
       "528    03/01/2016 12:00:00 AM\n",
       "529    01/29/2016 03:30:00 PM\n",
       "530    11/08/2003 04:54:15 PM\n",
       "531    02/06/2017 01:20:00 PM\n",
       "532    01/11/2001 02:30:41 AM\n",
       "Name: DATE, Length: 533, dtype: object"
      ]
     },
     "execution_count": 7,
     "metadata": {},
     "output_type": "execute_result"
    }
   ],
   "source": [
    "data['DATE']"
   ]
  },
  {
   "cell_type": "code",
   "execution_count": 8,
   "metadata": {},
   "outputs": [
    {
     "data": {
      "text/plain": [
       "0     2004-08-28 17:50:56\n",
       "1     2004-06-26 12:40:00\n",
       "2     2011-04-04 05:45:00\n",
       "3     2010-12-30 16:30:00\n",
       "4     2016-02-02 19:30:00\n",
       "              ...        \n",
       "528   2016-03-01 00:00:00\n",
       "529   2016-01-29 15:30:00\n",
       "530   2003-11-08 16:54:15\n",
       "531   2017-02-06 13:20:00\n",
       "532   2001-01-11 02:30:41\n",
       "Name: DATE, Length: 533, dtype: datetime64[ns]"
      ]
     },
     "execution_count": 8,
     "metadata": {},
     "output_type": "execute_result"
    }
   ],
   "source": [
    "pd.to_datetime(data['DATE'])"
   ]
  },
  {
   "cell_type": "code",
   "execution_count": 9,
   "metadata": {},
   "outputs": [
    {
     "data": {
      "text/plain": [
       "0      08/28/2004 05:50:56 PM\n",
       "1      06/26/2004 12:40:00 PM\n",
       "2      04/04/2011 05:45:00 AM\n",
       "3      12/30/2010 04:30:00 PM\n",
       "4      02/02/2016 07:30:00 PM\n",
       "                ...          \n",
       "528    03/01/2016 12:00:00 AM\n",
       "529    01/29/2016 03:30:00 PM\n",
       "530    11/08/2003 04:54:15 PM\n",
       "531    02/06/2017 01:20:00 PM\n",
       "532    01/11/2001 02:30:41 AM\n",
       "Name: DATE, Length: 533, dtype: object"
      ]
     },
     "execution_count": 9,
     "metadata": {},
     "output_type": "execute_result"
    }
   ],
   "source": [
    "data['DATE'].replace(pd.to_datetime(data['DATE']))"
   ]
  },
  {
   "cell_type": "code",
   "execution_count": 10,
   "metadata": {},
   "outputs": [],
   "source": [
    "data.to_csv('new-data.csv')"
   ]
  },
  {
   "cell_type": "code",
   "execution_count": 15,
   "metadata": {},
   "outputs": [
    {
     "data": {
      "text/plain": [
       "0      02/10/2018 03:50:01 PM\n",
       "1      02/10/2018 03:50:01 PM\n",
       "2      02/10/2018 03:50:01 PM\n",
       "3      02/10/2018 03:50:01 PM\n",
       "4      02/10/2018 03:50:01 PM\n",
       "                ...          \n",
       "528    02/10/2018 03:50:01 PM\n",
       "529    02/10/2018 03:50:01 PM\n",
       "530    02/10/2018 03:50:01 PM\n",
       "531    02/10/2018 03:50:01 PM\n",
       "532    02/10/2018 03:50:01 PM\n",
       "Name: UPDATEDON, Length: 533, dtype: object"
      ]
     },
     "execution_count": 15,
     "metadata": {},
     "output_type": "execute_result"
    }
   ],
   "source": [
    "data['UPDATEDON'].replace([data['UPDATEDON'], pd.to_datetime(data['UPDATEDON'])])"
   ]
  },
  {
   "cell_type": "code",
   "execution_count": 12,
   "metadata": {},
   "outputs": [
    {
     "data": {
      "text/plain": [
       "0     2018-02-10 15:50:01\n",
       "1     2018-02-28 15:56:25\n",
       "2     2018-02-10 15:50:01\n",
       "3     2018-02-10 15:50:01\n",
       "4     2018-02-10 15:50:01\n",
       "              ...        \n",
       "528   2018-02-10 15:50:01\n",
       "529   2018-02-10 15:50:01\n",
       "530   2018-02-28 15:56:25\n",
       "531   2017-02-14 15:49:42\n",
       "532   2015-08-17 15:03:40\n",
       "Name: UPDATEDON, Length: 533, dtype: datetime64[ns]"
      ]
     },
     "execution_count": 12,
     "metadata": {},
     "output_type": "execute_result"
    }
   ],
   "source": [
    "pd.to_datetime(data['UPDATEDON'])"
   ]
  },
  {
   "cell_type": "code",
   "execution_count": 19,
   "metadata": {},
   "outputs": [],
   "source": [
    "original_data = list(data['UPDATEDON'])"
   ]
  },
  {
   "cell_type": "code",
   "execution_count": 23,
   "metadata": {},
   "outputs": [],
   "source": [
    "replace_data = list(pd.to_datetime(data['UPDATEDON']))"
   ]
  },
  {
   "cell_type": "code",
   "execution_count": 35,
   "metadata": {},
   "outputs": [],
   "source": [
    "new_data = {}\n",
    "\n",
    "for i in range(len(original_data)):\n",
    "    new_data[original_data[i]]=replace_data[i]"
   ]
  },
  {
   "cell_type": "code",
   "execution_count": 36,
   "metadata": {},
   "outputs": [
    {
     "data": {
      "text/plain": [
       "{'02/10/2018 03:50:01 PM': Timestamp('2018-02-10 15:50:01'),\n",
       " '02/28/2018 03:56:25 PM': Timestamp('2018-02-28 15:56:25'),\n",
       " '02/04/2016 06:33:39 AM': Timestamp('2016-02-04 06:33:39'),\n",
       " '05/04/2018 03:51:04 PM': Timestamp('2018-05-04 15:51:04'),\n",
       " '08/17/2015 03:03:40 PM': Timestamp('2015-08-17 15:03:40'),\n",
       " '12/26/2016 03:47:26 PM': Timestamp('2016-12-26 15:47:26'),\n",
       " '02/14/2017 03:49:42 PM': Timestamp('2017-02-14 15:49:42'),\n",
       " '11/22/2016 03:51:04 PM': Timestamp('2016-11-22 15:51:04'),\n",
       " '08/05/2016 03:48:24 PM': Timestamp('2016-08-05 15:48:24'),\n",
       " '07/30/2017 03:51:44 PM': Timestamp('2017-07-30 15:51:44')}"
      ]
     },
     "execution_count": 36,
     "metadata": {},
     "output_type": "execute_result"
    }
   ],
   "source": [
    "new_data"
   ]
  },
  {
   "cell_type": "code",
   "execution_count": 37,
   "metadata": {},
   "outputs": [],
   "source": [
    "data['UPDATEDON'].replace(new_data, inplace=True)"
   ]
  },
  {
   "cell_type": "code",
   "execution_count": 38,
   "metadata": {},
   "outputs": [
    {
     "data": {
      "text/plain": [
       "0     2018-02-10 15:50:01\n",
       "1     2018-02-10 15:50:01\n",
       "2     2018-02-10 15:50:01\n",
       "3     2018-02-10 15:50:01\n",
       "4     2018-02-10 15:50:01\n",
       "              ...        \n",
       "528   2018-02-10 15:50:01\n",
       "529   2018-02-10 15:50:01\n",
       "530   2018-02-10 15:50:01\n",
       "531   2018-02-10 15:50:01\n",
       "532   2018-02-10 15:50:01\n",
       "Name: UPDATEDON, Length: 533, dtype: datetime64[ns]"
      ]
     },
     "execution_count": 38,
     "metadata": {},
     "output_type": "execute_result"
    }
   ],
   "source": [
    "data['UPDATEDON']"
   ]
  },
  {
   "cell_type": "code",
   "execution_count": 39,
   "metadata": {},
   "outputs": [],
   "source": [
    "original_date = list(data['DATE'])"
   ]
  },
  {
   "cell_type": "code",
   "execution_count": 40,
   "metadata": {},
   "outputs": [],
   "source": [
    "replace_date = list(pd.to_datetime(data['DATE']))"
   ]
  },
  {
   "cell_type": "code",
   "execution_count": 41,
   "metadata": {},
   "outputs": [],
   "source": [
    "new_date = {}\n",
    "\n",
    "for i in range(len(original_date)):\n",
    "    new_date[original_date[i]]=replace_date[i]"
   ]
  },
  {
   "cell_type": "code",
   "execution_count": 42,
   "metadata": {},
   "outputs": [],
   "source": [
    "data['DATE'].replace(new_date, inplace=True)"
   ]
  },
  {
   "cell_type": "code",
   "execution_count": 43,
   "metadata": {},
   "outputs": [
    {
     "data": {
      "text/plain": [
       "0     2004-08-28 17:50:56\n",
       "1     2004-06-26 12:40:00\n",
       "2     2011-04-04 05:45:00\n",
       "3     2010-12-30 16:30:00\n",
       "4     2016-02-02 19:30:00\n",
       "              ...        \n",
       "528   2016-03-01 00:00:00\n",
       "529   2016-01-29 15:30:00\n",
       "530   2003-11-08 16:54:15\n",
       "531   2017-02-06 13:20:00\n",
       "532   2001-01-11 02:30:41\n",
       "Name: DATE, Length: 533, dtype: datetime64[ns]"
      ]
     },
     "execution_count": 43,
     "metadata": {},
     "output_type": "execute_result"
    }
   ],
   "source": [
    "data['DATE']"
   ]
  },
  {
   "cell_type": "code",
   "execution_count": 44,
   "metadata": {},
   "outputs": [],
   "source": [
    "data.to_csv('new-data.csv')"
   ]
  },
  {
   "cell_type": "code",
   "execution_count": 54,
   "metadata": {},
   "outputs": [],
   "source": [
    "id = list(data['ID'])"
   ]
  },
  {
   "cell_type": "code",
   "execution_count": 55,
   "metadata": {},
   "outputs": [],
   "source": [
    "new_id = {}\n",
    "\n",
    "for i in range(len(id)):\n",
    "    new_id[id[i]]=id[i]-1"
   ]
  },
  {
   "cell_type": "code",
   "execution_count": 56,
   "metadata": {},
   "outputs": [],
   "source": [
    "data['ID'].replace(new_id, inplace=True)"
   ]
  },
  {
   "cell_type": "code",
   "execution_count": 57,
   "metadata": {},
   "outputs": [],
   "source": [
    "data.to_csv('new-data.csv')"
   ]
  },
  {
   "cell_type": "code",
   "execution_count": 58,
   "metadata": {},
   "outputs": [
    {
     "data": {
      "text/plain": [
       "0       3512276\n",
       "1       3406613\n",
       "2       8002131\n",
       "3       7903289\n",
       "4      10402076\n",
       "         ...   \n",
       "528    10453948\n",
       "529    10397129\n",
       "530     3269495\n",
       "531    10840565\n",
       "532     1326195\n",
       "Name: ID, Length: 533, dtype: int64"
      ]
     },
     "execution_count": 58,
     "metadata": {},
     "output_type": "execute_result"
    }
   ],
   "source": [
    "data['ID']"
   ]
  },
  {
   "cell_type": "code",
   "execution_count": 3,
   "metadata": {},
   "outputs": [],
   "source": [
    "data['College_Enrollment_Rate_Percentage'].replace(['NDA', 0], inplace=True)"
   ]
  },
  {
   "cell_type": "code",
   "execution_count": 4,
   "metadata": {},
   "outputs": [],
   "source": [
    "data.to_csv('new_sql/schools_progress.csv')"
   ]
  },
  {
   "cell_type": "code",
   "execution_count": null,
   "metadata": {},
   "outputs": [],
   "source": []
  }
 ],
 "metadata": {
  "kernelspec": {
   "display_name": "Python 3",
   "language": "python",
   "name": "python3"
  },
  "language_info": {
   "codemirror_mode": {
    "name": "ipython",
    "version": 3
   },
   "file_extension": ".py",
   "mimetype": "text/x-python",
   "name": "python",
   "nbconvert_exporter": "python",
   "pygments_lexer": "ipython3",
   "version": "3.6.9"
  }
 },
 "nbformat": 4,
 "nbformat_minor": 4
}
