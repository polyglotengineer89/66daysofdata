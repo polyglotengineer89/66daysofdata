{
 "cells": [
  {
   "cell_type": "code",
   "execution_count": 4,
   "metadata": {},
   "outputs": [
    {
     "data": {
      "text/html": [
       "<div>\n",
       "<style scoped>\n",
       "    .dataframe tbody tr th:only-of-type {\n",
       "        vertical-align: middle;\n",
       "    }\n",
       "\n",
       "    .dataframe tbody tr th {\n",
       "        vertical-align: top;\n",
       "    }\n",
       "\n",
       "    .dataframe thead th {\n",
       "        text-align: right;\n",
       "    }\n",
       "</style>\n",
       "<table border=\"1\" class=\"dataframe\">\n",
       "  <thead>\n",
       "    <tr style=\"text-align: right;\">\n",
       "      <th></th>\n",
       "      <th>ID</th>\n",
       "      <th>CASE_NUMBER</th>\n",
       "      <th>DATE</th>\n",
       "      <th>BLOCK</th>\n",
       "      <th>IUCR</th>\n",
       "      <th>PRIMARY_TYPE</th>\n",
       "      <th>DESCRIPTION</th>\n",
       "      <th>LOCATION_DESCRIPTION</th>\n",
       "      <th>ARREST</th>\n",
       "      <th>DOMESTIC</th>\n",
       "      <th>...</th>\n",
       "      <th>WARD</th>\n",
       "      <th>COMMUNITY_AREA_NUMBER</th>\n",
       "      <th>FBICODE</th>\n",
       "      <th>X_COORDINATE</th>\n",
       "      <th>Y_COORDINATE</th>\n",
       "      <th>YEAR</th>\n",
       "      <th>UPDATEDON</th>\n",
       "      <th>LATITUDE</th>\n",
       "      <th>LONGITUDE</th>\n",
       "      <th>LOCATION</th>\n",
       "    </tr>\n",
       "  </thead>\n",
       "  <tbody>\n",
       "    <tr>\n",
       "      <th>0</th>\n",
       "      <td>3512276</td>\n",
       "      <td>HK587712</td>\n",
       "      <td>08/28/2004 05:50:56 PM</td>\n",
       "      <td>047XX S KEDZIE AVE</td>\n",
       "      <td>890</td>\n",
       "      <td>THEFT</td>\n",
       "      <td>FROM BUILDING</td>\n",
       "      <td>SMALL RETAIL STORE</td>\n",
       "      <td>False</td>\n",
       "      <td>False</td>\n",
       "      <td>...</td>\n",
       "      <td>14.0</td>\n",
       "      <td>58.0</td>\n",
       "      <td>6</td>\n",
       "      <td>1155838.0</td>\n",
       "      <td>1873050.0</td>\n",
       "      <td>2004</td>\n",
       "      <td>02/10/2018 03:50:01 PM</td>\n",
       "      <td>41.807441</td>\n",
       "      <td>-87.703956</td>\n",
       "      <td>(41.8074405, -87.703955849)</td>\n",
       "    </tr>\n",
       "    <tr>\n",
       "      <th>1</th>\n",
       "      <td>3406613</td>\n",
       "      <td>HK456306</td>\n",
       "      <td>06/26/2004 12:40:00 PM</td>\n",
       "      <td>009XX N CENTRAL PARK AVE</td>\n",
       "      <td>820</td>\n",
       "      <td>THEFT</td>\n",
       "      <td>$500 AND UNDER</td>\n",
       "      <td>OTHER</td>\n",
       "      <td>False</td>\n",
       "      <td>False</td>\n",
       "      <td>...</td>\n",
       "      <td>27.0</td>\n",
       "      <td>23.0</td>\n",
       "      <td>6</td>\n",
       "      <td>1152206.0</td>\n",
       "      <td>1906127.0</td>\n",
       "      <td>2004</td>\n",
       "      <td>02/28/2018 03:56:25 PM</td>\n",
       "      <td>41.898280</td>\n",
       "      <td>-87.716406</td>\n",
       "      <td>(41.898279962, -87.716405505)</td>\n",
       "    </tr>\n",
       "    <tr>\n",
       "      <th>2</th>\n",
       "      <td>8002131</td>\n",
       "      <td>HT233595</td>\n",
       "      <td>04/04/2011 05:45:00 AM</td>\n",
       "      <td>043XX S WABASH AVE</td>\n",
       "      <td>820</td>\n",
       "      <td>THEFT</td>\n",
       "      <td>$500 AND UNDER</td>\n",
       "      <td>NURSING HOME/RETIREMENT HOME</td>\n",
       "      <td>False</td>\n",
       "      <td>False</td>\n",
       "      <td>...</td>\n",
       "      <td>3.0</td>\n",
       "      <td>38.0</td>\n",
       "      <td>6</td>\n",
       "      <td>1177436.0</td>\n",
       "      <td>1876313.0</td>\n",
       "      <td>2011</td>\n",
       "      <td>02/10/2018 03:50:01 PM</td>\n",
       "      <td>41.815933</td>\n",
       "      <td>-87.624642</td>\n",
       "      <td>(41.815933131, -87.624642127)</td>\n",
       "    </tr>\n",
       "    <tr>\n",
       "      <th>3</th>\n",
       "      <td>7903289</td>\n",
       "      <td>HT133522</td>\n",
       "      <td>12/30/2010 04:30:00 PM</td>\n",
       "      <td>083XX S KINGSTON AVE</td>\n",
       "      <td>840</td>\n",
       "      <td>THEFT</td>\n",
       "      <td>FINANCIAL ID THEFT: OVER $300</td>\n",
       "      <td>RESIDENCE</td>\n",
       "      <td>False</td>\n",
       "      <td>False</td>\n",
       "      <td>...</td>\n",
       "      <td>7.0</td>\n",
       "      <td>46.0</td>\n",
       "      <td>6</td>\n",
       "      <td>1194622.0</td>\n",
       "      <td>1850125.0</td>\n",
       "      <td>2010</td>\n",
       "      <td>02/10/2018 03:50:01 PM</td>\n",
       "      <td>41.743665</td>\n",
       "      <td>-87.562463</td>\n",
       "      <td>(41.743665322, -87.562462756)</td>\n",
       "    </tr>\n",
       "    <tr>\n",
       "      <th>4</th>\n",
       "      <td>10402076</td>\n",
       "      <td>HZ138551</td>\n",
       "      <td>02/02/2016 07:30:00 PM</td>\n",
       "      <td>033XX W 66TH ST</td>\n",
       "      <td>820</td>\n",
       "      <td>THEFT</td>\n",
       "      <td>$500 AND UNDER</td>\n",
       "      <td>ALLEY</td>\n",
       "      <td>False</td>\n",
       "      <td>False</td>\n",
       "      <td>...</td>\n",
       "      <td>15.0</td>\n",
       "      <td>66.0</td>\n",
       "      <td>6</td>\n",
       "      <td>1155240.0</td>\n",
       "      <td>1860661.0</td>\n",
       "      <td>2016</td>\n",
       "      <td>02/10/2018 03:50:01 PM</td>\n",
       "      <td>41.773455</td>\n",
       "      <td>-87.706480</td>\n",
       "      <td>(41.773455295, -87.706480471)</td>\n",
       "    </tr>\n",
       "  </tbody>\n",
       "</table>\n",
       "<p>5 rows × 22 columns</p>\n",
       "</div>"
      ],
      "text/plain": [
       "         ID CASE_NUMBER                    DATE                     BLOCK  \\\n",
       "0   3512276    HK587712  08/28/2004 05:50:56 PM        047XX S KEDZIE AVE   \n",
       "1   3406613    HK456306  06/26/2004 12:40:00 PM  009XX N CENTRAL PARK AVE   \n",
       "2   8002131    HT233595  04/04/2011 05:45:00 AM        043XX S WABASH AVE   \n",
       "3   7903289    HT133522  12/30/2010 04:30:00 PM      083XX S KINGSTON AVE   \n",
       "4  10402076    HZ138551  02/02/2016 07:30:00 PM           033XX W 66TH ST   \n",
       "\n",
       "  IUCR PRIMARY_TYPE                    DESCRIPTION  \\\n",
       "0  890        THEFT                  FROM BUILDING   \n",
       "1  820        THEFT                 $500 AND UNDER   \n",
       "2  820        THEFT                 $500 AND UNDER   \n",
       "3  840        THEFT  FINANCIAL ID THEFT: OVER $300   \n",
       "4  820        THEFT                 $500 AND UNDER   \n",
       "\n",
       "           LOCATION_DESCRIPTION  ARREST  DOMESTIC  ...  WARD  \\\n",
       "0            SMALL RETAIL STORE   False     False  ...  14.0   \n",
       "1                         OTHER   False     False  ...  27.0   \n",
       "2  NURSING HOME/RETIREMENT HOME   False     False  ...   3.0   \n",
       "3                     RESIDENCE   False     False  ...   7.0   \n",
       "4                         ALLEY   False     False  ...  15.0   \n",
       "\n",
       "   COMMUNITY_AREA_NUMBER  FBICODE  X_COORDINATE Y_COORDINATE  YEAR  \\\n",
       "0                   58.0        6     1155838.0    1873050.0  2004   \n",
       "1                   23.0        6     1152206.0    1906127.0  2004   \n",
       "2                   38.0        6     1177436.0    1876313.0  2011   \n",
       "3                   46.0        6     1194622.0    1850125.0  2010   \n",
       "4                   66.0        6     1155240.0    1860661.0  2016   \n",
       "\n",
       "                UPDATEDON   LATITUDE  LONGITUDE                       LOCATION  \n",
       "0  02/10/2018 03:50:01 PM  41.807441 -87.703956    (41.8074405, -87.703955849)  \n",
       "1  02/28/2018 03:56:25 PM  41.898280 -87.716406  (41.898279962, -87.716405505)  \n",
       "2  02/10/2018 03:50:01 PM  41.815933 -87.624642  (41.815933131, -87.624642127)  \n",
       "3  02/10/2018 03:50:01 PM  41.743665 -87.562463  (41.743665322, -87.562462756)  \n",
       "4  02/10/2018 03:50:01 PM  41.773455 -87.706480  (41.773455295, -87.706480471)  \n",
       "\n",
       "[5 rows x 22 columns]"
      ]
     },
     "execution_count": 4,
     "metadata": {},
     "output_type": "execute_result"
    }
   ],
   "source": [
    "import pandas as pd\n",
    "\n",
    "data= pd.read_csv(\"sql/Chicago_Crime_Data-v2.csv\")\n",
    "\n",
    "data.head()"
   ]
  },
  {
   "cell_type": "code",
   "execution_count": 2,
   "metadata": {},
   "outputs": [
    {
     "name": "stdout",
     "output_type": "stream",
     "text": [
      "Defaulting to user installation because normal site-packages is not writeable\n",
      "Collecting panda\n",
      "  Downloading panda-0.3.1.tar.gz (5.8 kB)\n",
      "Requirement already satisfied: requests in /usr/lib/python3/dist-packages (from panda) (2.18.4)\n",
      "Requirement already satisfied: setuptools in /usr/lib/python3/dist-packages (from panda) (39.0.1)\n",
      "Building wheels for collected packages: panda\n",
      "  Building wheel for panda (setup.py) ... \u001b[?25ldone\n",
      "\u001b[?25h  Created wheel for panda: filename=panda-0.3.1-py3-none-any.whl size=8116 sha256=87b6695032067a35c85f3213a8da582957a60ce45fb58f587d76afa9adb613ea\n",
      "  Stored in directory: /home/muhyasin89/.cache/pip/wheels/4b/55/7b/2b679fe26b9aa259e4fc0e8dde413901271d979f17aa50ee8a\n",
      "Successfully built panda\n",
      "Installing collected packages: panda\n",
      "Successfully installed panda-0.3.1\n"
     ]
    }
   ],
   "source": [
    "!pip install panda"
   ]
  },
  {
   "cell_type": "code",
   "execution_count": 7,
   "metadata": {},
   "outputs": [
    {
     "data": {
      "text/plain": [
       "0      08/28/2004 05:50:56 PM\n",
       "1      06/26/2004 12:40:00 PM\n",
       "2      04/04/2011 05:45:00 AM\n",
       "3      12/30/2010 04:30:00 PM\n",
       "4      02/02/2016 07:30:00 PM\n",
       "                ...          \n",
       "528    03/01/2016 12:00:00 AM\n",
       "529    01/29/2016 03:30:00 PM\n",
       "530    11/08/2003 04:54:15 PM\n",
       "531    02/06/2017 01:20:00 PM\n",
       "532    01/11/2001 02:30:41 AM\n",
       "Name: DATE, Length: 533, dtype: object"
      ]
     },
     "execution_count": 7,
     "metadata": {},
     "output_type": "execute_result"
    }
   ],
   "source": [
    "data['DATE']"
   ]
  },
  {
   "cell_type": "code",
   "execution_count": 8,
   "metadata": {},
   "outputs": [
    {
     "data": {
      "text/plain": [
       "0     2004-08-28 17:50:56\n",
       "1     2004-06-26 12:40:00\n",
       "2     2011-04-04 05:45:00\n",
       "3     2010-12-30 16:30:00\n",
       "4     2016-02-02 19:30:00\n",
       "              ...        \n",
       "528   2016-03-01 00:00:00\n",
       "529   2016-01-29 15:30:00\n",
       "530   2003-11-08 16:54:15\n",
       "531   2017-02-06 13:20:00\n",
       "532   2001-01-11 02:30:41\n",
       "Name: DATE, Length: 533, dtype: datetime64[ns]"
      ]
     },
     "execution_count": 8,
     "metadata": {},
     "output_type": "execute_result"
    }
   ],
   "source": [
    "pd.to_datetime(data['DATE'])"
   ]
  },
  {
   "cell_type": "code",
   "execution_count": 9,
   "metadata": {},
   "outputs": [
    {
     "data": {
      "text/plain": [
       "0      08/28/2004 05:50:56 PM\n",
       "1      06/26/2004 12:40:00 PM\n",
       "2      04/04/2011 05:45:00 AM\n",
       "3      12/30/2010 04:30:00 PM\n",
       "4      02/02/2016 07:30:00 PM\n",
       "                ...          \n",
       "528    03/01/2016 12:00:00 AM\n",
       "529    01/29/2016 03:30:00 PM\n",
       "530    11/08/2003 04:54:15 PM\n",
       "531    02/06/2017 01:20:00 PM\n",
       "532    01/11/2001 02:30:41 AM\n",
       "Name: DATE, Length: 533, dtype: object"
      ]
     },
     "execution_count": 9,
     "metadata": {},
     "output_type": "execute_result"
    }
   ],
   "source": [
    "data['DATE'].replace(pd.to_datetime(data['DATE']))"
   ]
  },
  {
   "cell_type": "code",
   "execution_count": 10,
   "metadata": {},
   "outputs": [],
   "source": [
    "data.to_csv('new-data.csv')"
   ]
  },
  {
   "cell_type": "code",
   "execution_count": 15,
   "metadata": {},
   "outputs": [
    {
     "data": {
      "text/plain": [
       "0      02/10/2018 03:50:01 PM\n",
       "1      02/10/2018 03:50:01 PM\n",
       "2      02/10/2018 03:50:01 PM\n",
       "3      02/10/2018 03:50:01 PM\n",
       "4      02/10/2018 03:50:01 PM\n",
       "                ...          \n",
       "528    02/10/2018 03:50:01 PM\n",
       "529    02/10/2018 03:50:01 PM\n",
       "530    02/10/2018 03:50:01 PM\n",
       "531    02/10/2018 03:50:01 PM\n",
       "532    02/10/2018 03:50:01 PM\n",
       "Name: UPDATEDON, Length: 533, dtype: object"
      ]
     },
     "execution_count": 15,
     "metadata": {},
     "output_type": "execute_result"
    }
   ],
   "source": [
    "data['UPDATEDON'].replace([data['UPDATEDON'], pd.to_datetime(data['UPDATEDON'])])"
   ]
  },
  {
   "cell_type": "code",
   "execution_count": 12,
   "metadata": {},
   "outputs": [
    {
     "data": {
      "text/plain": [
       "0     2018-02-10 15:50:01\n",
       "1     2018-02-28 15:56:25\n",
       "2     2018-02-10 15:50:01\n",
       "3     2018-02-10 15:50:01\n",
       "4     2018-02-10 15:50:01\n",
       "              ...        \n",
       "528   2018-02-10 15:50:01\n",
       "529   2018-02-10 15:50:01\n",
       "530   2018-02-28 15:56:25\n",
       "531   2017-02-14 15:49:42\n",
       "532   2015-08-17 15:03:40\n",
       "Name: UPDATEDON, Length: 533, dtype: datetime64[ns]"
      ]
     },
     "execution_count": 12,
     "metadata": {},
     "output_type": "execute_result"
    }
   ],
   "source": [
    "pd.to_datetime(data['UPDATEDON'])"
   ]
  },
  {
   "cell_type": "code",
   "execution_count": 19,
   "metadata": {},
   "outputs": [],
   "source": [
    "original_data = list(data['UPDATEDON'])"
   ]
  },
  {
   "cell_type": "code",
   "execution_count": 23,
   "metadata": {},
   "outputs": [],
   "source": [
    "replace_data = list(pd.to_datetime(data['UPDATEDON']))"
   ]
  },
  {
   "cell_type": "code",
   "execution_count": 35,
   "metadata": {},
   "outputs": [],
   "source": [
    "new_data = {}\n",
    "\n",
    "for i in range(len(original_data)):\n",
    "    new_data[original_data[i]]=replace_data[i]"
   ]
  },
  {
   "cell_type": "code",
   "execution_count": 36,
   "metadata": {},
   "outputs": [
    {
     "data": {
      "text/plain": [
       "{'02/10/2018 03:50:01 PM': Timestamp('2018-02-10 15:50:01'),\n",
       " '02/28/2018 03:56:25 PM': Timestamp('2018-02-28 15:56:25'),\n",
       " '02/04/2016 06:33:39 AM': Timestamp('2016-02-04 06:33:39'),\n",
       " '05/04/2018 03:51:04 PM': Timestamp('2018-05-04 15:51:04'),\n",
       " '08/17/2015 03:03:40 PM': Timestamp('2015-08-17 15:03:40'),\n",
       " '12/26/2016 03:47:26 PM': Timestamp('2016-12-26 15:47:26'),\n",
       " '02/14/2017 03:49:42 PM': Timestamp('2017-02-14 15:49:42'),\n",
       " '11/22/2016 03:51:04 PM': Timestamp('2016-11-22 15:51:04'),\n",
       " '08/05/2016 03:48:24 PM': Timestamp('2016-08-05 15:48:24'),\n",
       " '07/30/2017 03:51:44 PM': Timestamp('2017-07-30 15:51:44')}"
      ]
     },
     "execution_count": 36,
     "metadata": {},
     "output_type": "execute_result"
    }
   ],
   "source": [
    "new_data"
   ]
  },
  {
   "cell_type": "code",
   "execution_count": 37,
   "metadata": {},
   "outputs": [],
   "source": [
    "data['UPDATEDON'].replace(new_data, inplace=True)"
   ]
  },
  {
   "cell_type": "code",
   "execution_count": 38,
   "metadata": {},
   "outputs": [
    {
     "data": {
      "text/plain": [
       "0     2018-02-10 15:50:01\n",
       "1     2018-02-10 15:50:01\n",
       "2     2018-02-10 15:50:01\n",
       "3     2018-02-10 15:50:01\n",
       "4     2018-02-10 15:50:01\n",
       "              ...        \n",
       "528   2018-02-10 15:50:01\n",
       "529   2018-02-10 15:50:01\n",
       "530   2018-02-10 15:50:01\n",
       "531   2018-02-10 15:50:01\n",
       "532   2018-02-10 15:50:01\n",
       "Name: UPDATEDON, Length: 533, dtype: datetime64[ns]"
      ]
     },
     "execution_count": 38,
     "metadata": {},
     "output_type": "execute_result"
    }
   ],
   "source": [
    "data['UPDATEDON']"
   ]
  },
  {
   "cell_type": "code",
   "execution_count": 39,
   "metadata": {},
   "outputs": [],
   "source": [
    "original_date = list(data['DATE'])"
   ]
  },
  {
   "cell_type": "code",
   "execution_count": 40,
   "metadata": {},
   "outputs": [],
   "source": [
    "replace_date = list(pd.to_datetime(data['DATE']))"
   ]
  },
  {
   "cell_type": "code",
   "execution_count": 41,
   "metadata": {},
   "outputs": [],
   "source": [
    "new_date = {}\n",
    "\n",
    "for i in range(len(original_date)):\n",
    "    new_date[original_date[i]]=replace_date[i]"
   ]
  },
  {
   "cell_type": "code",
   "execution_count": 42,
   "metadata": {},
   "outputs": [],
   "source": [
    "data['DATE'].replace(new_date, inplace=True)"
   ]
  },
  {
   "cell_type": "code",
   "execution_count": 43,
   "metadata": {},
   "outputs": [
    {
     "data": {
      "text/plain": [
       "0     2004-08-28 17:50:56\n",
       "1     2004-06-26 12:40:00\n",
       "2     2011-04-04 05:45:00\n",
       "3     2010-12-30 16:30:00\n",
       "4     2016-02-02 19:30:00\n",
       "              ...        \n",
       "528   2016-03-01 00:00:00\n",
       "529   2016-01-29 15:30:00\n",
       "530   2003-11-08 16:54:15\n",
       "531   2017-02-06 13:20:00\n",
       "532   2001-01-11 02:30:41\n",
       "Name: DATE, Length: 533, dtype: datetime64[ns]"
      ]
     },
     "execution_count": 43,
     "metadata": {},
     "output_type": "execute_result"
    }
   ],
   "source": [
    "data['DATE']"
   ]
  },
  {
   "cell_type": "code",
   "execution_count": 44,
   "metadata": {},
   "outputs": [],
   "source": [
    "data.to_csv('new-data.csv')"
   ]
  },
  {
   "cell_type": "code",
   "execution_count": 54,
   "metadata": {},
   "outputs": [],
   "source": [
    "id = list(data['ID'])"
   ]
  },
  {
   "cell_type": "code",
   "execution_count": 55,
   "metadata": {},
   "outputs": [],
   "source": [
    "new_id = {}\n",
    "\n",
    "for i in range(len(id)):\n",
    "    new_id[id[i]]=id[i]-1"
   ]
  },
  {
   "cell_type": "code",
   "execution_count": 56,
   "metadata": {},
   "outputs": [],
   "source": [
    "data['ID'].replace(new_id, inplace=True)"
   ]
  },
  {
   "cell_type": "code",
   "execution_count": 57,
   "metadata": {},
   "outputs": [],
   "source": [
    "data.to_csv('new-data.csv')"
   ]
  },
  {
   "cell_type": "code",
   "execution_count": 58,
   "metadata": {},
   "outputs": [
    {
     "data": {
      "text/plain": [
       "0       3512276\n",
       "1       3406613\n",
       "2       8002131\n",
       "3       7903289\n",
       "4      10402076\n",
       "         ...   \n",
       "528    10453948\n",
       "529    10397129\n",
       "530     3269495\n",
       "531    10840565\n",
       "532     1326195\n",
       "Name: ID, Length: 533, dtype: int64"
      ]
     },
     "execution_count": 58,
     "metadata": {},
     "output_type": "execute_result"
    }
   ],
   "source": [
    "data['ID']"
   ]
  },
  {
   "cell_type": "code",
   "execution_count": null,
   "metadata": {},
   "outputs": [],
   "source": []
  }
 ],
 "metadata": {
  "kernelspec": {
   "display_name": "Python 3",
   "language": "python",
   "name": "python3"
  },
  "language_info": {
   "codemirror_mode": {
    "name": "ipython",
    "version": 3
   },
   "file_extension": ".py",
   "mimetype": "text/x-python",
   "name": "python",
   "nbconvert_exporter": "python",
   "pygments_lexer": "ipython3",
   "version": "3.6.9"
  }
 },
 "nbformat": 4,
 "nbformat_minor": 4
}
