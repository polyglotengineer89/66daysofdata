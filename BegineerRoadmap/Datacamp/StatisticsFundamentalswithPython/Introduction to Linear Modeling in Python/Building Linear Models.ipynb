{
 "cells": [
  {
   "cell_type": "markdown",
   "metadata": {},
   "source": [
    "# Introduction to Modelling Data"
   ]
  },
  {
   "cell_type": "markdown",
   "metadata": {},
   "source": [
    "#### chapter Road Map:\n",
    "<ul>\n",
    "   <li>Motivating Example</li>\n",
    "   <li>Data Visualization</li>\n",
    "   <li>Descriptive Statics</li>\n",
    "</ul>\n",
    "\n",
    "<h3>Models as Descriptions</h3>\n",
    "\n",
    "<pre>\n",
    "<code>\n",
    "//range of y data, in miles\n",
    "y_range = np.max(y) - np.min(y)\n",
    "\n",
    "//range of x data, in hours\n",
    "x_range = np.max(x) - np.min(x)\n",
    "\n",
    "//estimating the speed\n",
    "mph = y_range / x_range = 300 / 6 = 50\n",
    "</code>\n",
    "</pre>"
   ]
  },
  {
   "cell_type": "markdown",
   "metadata": {},
   "source": [
    "<h4>Models Prediction</h4><br>\n",
    "\n",
    "model often use as Prediction\n",
    "<pre>\n",
    "//model as python expression\n",
    "miles = 50*hours\n",
    "\n",
    "//Model predict distance is 300 miles in 6 hours \n",
    "time = 6\n",
    "distance = 50 * time =. 50 * 6 = 300\n",
    "\n",
    "def modal(time):\n",
    "    return 50*time\n",
    "    \n",
    "predicted_distance = model(time=10)\n",
    "</pre>\n",
    "\n",
    "\n",
    "<h3>Interpolation</h3>\n",
    "\n",
    "\n",
    "<h3>Extrapolation</h3>"
   ]
  },
  {
   "cell_type": "code",
   "execution_count": null,
   "metadata": {},
   "outputs": [],
   "source": []
  }
 ],
 "metadata": {
  "kernelspec": {
   "display_name": "Python 3",
   "language": "python",
   "name": "python3"
  },
  "language_info": {
   "codemirror_mode": {
    "name": "ipython",
    "version": 3
   },
   "file_extension": ".py",
   "mimetype": "text/x-python",
   "name": "python",
   "nbconvert_exporter": "python",
   "pygments_lexer": "ipython3",
   "version": "3.8.10"
  }
 },
 "nbformat": 4,
 "nbformat_minor": 4
}
