{
 "cells": [
  {
   "cell_type": "code",
   "execution_count": 4,
   "metadata": {},
   "outputs": [],
   "source": [
    "import numpy as np\n",
    "import matplotlib.pyplot as plt\n",
    "import pandas as pd\n",
    "\n",
    "#import the data\n",
    "dataset = pd.read_csv(\"Salary_Data.csv\")\n",
    "\n",
    "x1 = dataset.iloc[:, :-1].values\n",
    "y1 = dataset.iloc[:,1].values\n",
    "\n",
    "#spliting dataset into Training set and Test set \n",
    "from sklearn.model_selection import train_test_split\n",
    "x_train, x_test, y_train, y_test = train_test_split(x1,y1, test_size=0.2, random_state=0) "
   ]
  },
  {
   "cell_type": "code",
   "execution_count": 11,
   "metadata": {},
   "outputs": [
    {
     "data": {
      "text/plain": [
       "array([[ 1.75832984],\n",
       "       [-0.40973925],\n",
       "       [ 0.09356251],\n",
       "       [ 1.10016601],\n",
       "       [-0.83560996],\n",
       "       [ 0.01613147],\n",
       "       [-0.7194634 ],\n",
       "       [-0.21616165],\n",
       "       [ 1.21631257],\n",
       "       [ 0.6742953 ],\n",
       "       [-1.45505827],\n",
       "       [ 2.10676952],\n",
       "       [-0.79689444],\n",
       "       [-1.1066186 ],\n",
       "       [ 0.32585562],\n",
       "       [ 0.36457114],\n",
       "       [-0.52588581],\n",
       "       [-0.7194634 ],\n",
       "       [ 1.52603672],\n",
       "       [-1.18404964],\n",
       "       [-1.53248931],\n",
       "       [ 0.79044186],\n",
       "       [-0.06129957],\n",
       "       [-0.40973925]])"
      ]
     },
     "execution_count": 11,
     "metadata": {},
     "output_type": "execute_result"
    }
   ],
   "source": [
    "x_train"
   ]
  },
  {
   "cell_type": "code",
   "execution_count": 12,
   "metadata": {},
   "outputs": [
    {
     "data": {
      "text/plain": [
       "array([[-1.46136985],\n",
       "       [ 1.19933112],\n",
       "       [-0.67525365],\n",
       "       [-0.73572413],\n",
       "       [ 0.95744921],\n",
       "       [ 0.7155673 ]])"
      ]
     },
     "execution_count": 12,
     "metadata": {},
     "output_type": "execute_result"
    }
   ],
   "source": [
    "x_test"
   ]
  },
  {
   "cell_type": "code",
   "execution_count": 13,
   "metadata": {},
   "outputs": [
    {
     "data": {
      "text/plain": [
       "array([[ 1.56283548],\n",
       "       [-0.72970392],\n",
       "       [ 0.37113122],\n",
       "       [ 1.1057473 ],\n",
       "       [-0.69550196],\n",
       "       [-0.31690082],\n",
       "       [-0.3807875 ],\n",
       "       [-0.51525604],\n",
       "       [ 1.61030683],\n",
       "       [ 0.72000731],\n",
       "       [-1.11645222],\n",
       "       [ 1.93538674],\n",
       "       [-0.55401557],\n",
       "       [-1.3711116 ],\n",
       "       [ 0.30155767],\n",
       "       [ 0.80881947],\n",
       "       [-0.67344009],\n",
       "       [-0.78411245],\n",
       "       [ 1.27837039],\n",
       "       [-1.22454331],\n",
       "       [-1.39321381],\n",
       "       [ 0.98358017],\n",
       "       [-0.23990609],\n",
       "       [-0.68279723]])"
      ]
     },
     "execution_count": 13,
     "metadata": {},
     "output_type": "execute_result"
    }
   ],
   "source": [
    "y_train"
   ]
  },
  {
   "cell_type": "code",
   "execution_count": 14,
   "metadata": {},
   "outputs": [
    {
     "data": {
      "text/plain": [
       "array([[-1.41964718],\n",
       "       [ 1.15180068],\n",
       "       [-0.8319137 ],\n",
       "       [-0.64550955],\n",
       "       [ 0.98711381],\n",
       "       [ 0.75815593]])"
      ]
     },
     "execution_count": 14,
     "metadata": {},
     "output_type": "execute_result"
    }
   ],
   "source": [
    "y_test"
   ]
  },
  {
   "cell_type": "code",
   "execution_count": 16,
   "metadata": {},
   "outputs": [
    {
     "data": {
      "text/plain": [
       "array([[ 1.75832984],\n",
       "       [-0.40973925],\n",
       "       [ 0.09356251],\n",
       "       [ 1.10016601],\n",
       "       [-0.83560996],\n",
       "       [ 0.01613147],\n",
       "       [-0.7194634 ],\n",
       "       [-0.21616165],\n",
       "       [ 1.21631257],\n",
       "       [ 0.6742953 ],\n",
       "       [-1.45505827],\n",
       "       [ 2.10676952],\n",
       "       [-0.79689444],\n",
       "       [-1.1066186 ],\n",
       "       [ 0.32585562],\n",
       "       [ 0.36457114],\n",
       "       [-0.52588581],\n",
       "       [-0.7194634 ],\n",
       "       [ 1.52603672],\n",
       "       [-1.18404964],\n",
       "       [-1.53248931],\n",
       "       [ 0.79044186],\n",
       "       [-0.06129957],\n",
       "       [-0.40973925]])"
      ]
     },
     "execution_count": 16,
     "metadata": {},
     "output_type": "execute_result"
    }
   ],
   "source": [
    "x_train.reshape(-1,1)"
   ]
  },
  {
   "cell_type": "code",
   "execution_count": 18,
   "metadata": {},
   "outputs": [],
   "source": [
    "#feature scalling \n",
    "from sklearn.preprocessing import StandardScaler\n",
    "sc_x = StandardScaler()\n",
    "x_train = sc_x.fit_transform(x_train.reshape(-1,1))\n",
    "x_test = sc_x.fit_transform(x_test.reshape(-1,1))\n",
    "sc_y = StandardScaler()\n",
    "y_train = sc_y.fit_transform(y_train.reshape(-1,1))\n",
    "y_test = sc_y.fit_transform(y_test.reshape(-1,1))"
   ]
  },
  {
   "cell_type": "code",
   "execution_count": 19,
   "metadata": {},
   "outputs": [
    {
     "data": {
      "text/plain": [
       "array([[ 1.75832984],\n",
       "       [-0.40973925],\n",
       "       [ 0.09356251],\n",
       "       [ 1.10016601],\n",
       "       [-0.83560996],\n",
       "       [ 0.01613147],\n",
       "       [-0.7194634 ],\n",
       "       [-0.21616165],\n",
       "       [ 1.21631257],\n",
       "       [ 0.6742953 ],\n",
       "       [-1.45505827],\n",
       "       [ 2.10676952],\n",
       "       [-0.79689444],\n",
       "       [-1.1066186 ],\n",
       "       [ 0.32585562],\n",
       "       [ 0.36457114],\n",
       "       [-0.52588581],\n",
       "       [-0.7194634 ],\n",
       "       [ 1.52603672],\n",
       "       [-1.18404964],\n",
       "       [-1.53248931],\n",
       "       [ 0.79044186],\n",
       "       [-0.06129957],\n",
       "       [-0.40973925]])"
      ]
     },
     "execution_count": 19,
     "metadata": {},
     "output_type": "execute_result"
    }
   ],
   "source": [
    "x_train"
   ]
  },
  {
   "cell_type": "code",
   "execution_count": 14,
   "metadata": {},
   "outputs": [
    {
     "data": {
      "text/plain": [
       "LinearRegression(copy_X=True, fit_intercept=True, n_jobs=None, normalize=False)"
      ]
     },
     "execution_count": 14,
     "metadata": {},
     "output_type": "execute_result"
    }
   ],
   "source": [
    "#part 2\n",
    "from sklearn.linear_model import LinearRegression\n",
    "regressor = LinearRegression()\n",
    "\n",
    "regressor.fit(x_train, y_train)"
   ]
  },
  {
   "cell_type": "code",
   "execution_count": 9,
   "metadata": {},
   "outputs": [
    {
     "data": {
      "text/plain": [
       "array([ 40748.96184072, 122699.62295594,  64961.65717022,  63099.14214487,\n",
       "       115249.56285456, 107799.50275317])"
      ]
     },
     "execution_count": 9,
     "metadata": {},
     "output_type": "execute_result"
    }
   ],
   "source": [
    "#part 3\n",
    "#predicting the test set result\n",
    "y_pred = regressor.predict(x_test)\n",
    "y_pred"
   ]
  },
  {
   "cell_type": "code",
   "execution_count": 11,
   "metadata": {},
   "outputs": [
    {
     "data": {
      "text/plain": [
       "<matplotlib.collections.PathCollection at 0x22246667e80>"
      ]
     },
     "execution_count": 11,
     "metadata": {},
     "output_type": "execute_result"
    },
    {
     "data": {
      "image/png": "[encoded data removed]",
      "text/plain": [
       "<Figure size 432x288 with 1 Axes>"
      ]
     },
     "metadata": {
      "needs_background": "light"
     },
     "output_type": "display_data"
    }
   ],
   "source": [
    "#part 4\n",
    "#visualizint the training set result\n",
    "plt.scatter(x_train, y_train, color=\"red\")\n"
   ]
  },
  {
   "cell_type": "code",
   "execution_count": 20,
   "metadata": {},
   "outputs": [
    {
     "data": {
      "image/png": "[encoded data removed]",
      "text/plain": [
       "<Figure size 432x288 with 1 Axes>"
      ]
     },
     "metadata": {
      "needs_background": "light"
     },
     "output_type": "display_data"
    }
   ],
   "source": [
    "plt.plot(x_train, regressor.predict(x_train), color='blue')\n",
    "plt.title(\"Salary vs Expectation(training set)\")\n",
    "plt.xlabel(\"Year of experience\")\n",
    "plt.ylabel(\"Salary\")\n",
    "\n",
    "plt.show()"
   ]
  },
  {
   "cell_type": "code",
   "execution_count": 23,
   "metadata": {},
   "outputs": [
    {
     "data": {
      "image/png": "[encoded data removed]",
      "text/plain": [
       "<Figure size 432x288 with 1 Axes>"
      ]
     },
     "metadata": {
      "needs_background": "light"
     },
     "output_type": "display_data"
    }
   ],
   "source": [
    "#visualizing the training set result\n",
    "plt.scatter(x_train, y_train, color=\"red\")\n",
    "\n",
    "plt.plot(x_train, regressor.predict(x_train), color='blue')\n",
    "plt.title(\"Salary vs Expectation(training set)\")\n",
    "plt.xlabel(\"Year of experience\")\n",
    "plt.ylabel(\"Salary\")\n",
    "\n",
    "plt.show()\n"
   ]
  },
  {
   "cell_type": "code",
   "execution_count": 22,
   "metadata": {},
   "outputs": [
    {
     "data": {
      "image/png": "[encoded data removed]",
      "text/plain": [
       "<Figure size 432x288 with 1 Axes>"
      ]
     },
     "metadata": {
      "needs_background": "light"
     },
     "output_type": "display_data"
    }
   ],
   "source": [
    "#visualizint the test set result\n",
    "plt.scatter(x_test, y_test, color=\"red\")\n",
    "\n",
    "plt.plot(x_test, regressor.predict(x_test), color='blue')\n",
    "plt.title(\"Salary vs Expectation(training set)\")\n",
    "plt.xlabel(\"Year of experience\")\n",
    "plt.ylabel(\"Salary\")\n",
    "\n",
    "plt.show()"
   ]
  },
  {
   "cell_type": "code",
   "execution_count": null,
   "metadata": {},
   "outputs": [],
   "source": []
  }
 ],
 "metadata": {
  "kernelspec": {
   "display_name": "Python 3",
   "language": "python",
   "name": "python3"
  },
  "language_info": {
   "codemirror_mode": {
    "name": "ipython",
    "version": 3
   },
   "file_extension": ".py",
   "mimetype": "text/x-python",
   "name": "python",
   "nbconvert_exporter": "python",
   "pygments_lexer": "ipython3",
   "version": "3.7.3"
  }
 },
 "nbformat": 4,
 "nbformat_minor": 2
}
