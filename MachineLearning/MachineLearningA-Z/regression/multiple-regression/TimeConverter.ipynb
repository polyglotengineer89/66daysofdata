{
 "cells": [
  {
   "cell_type": "code",
   "execution_count": 3,
   "metadata": {},
   "outputs": [
    {
     "name": "stdout",
     "output_type": "stream",
     "text": [
      "1989-10-13 00:00:00\n"
     ]
    }
   ],
   "source": [
    "import datetime\n",
    "\n",
    "crash_text = \"Friday the 13th, Oct, 1989\"\n",
    "\n",
    "# Create a format string mapping the text\n",
    "crash_format_str = \"%A the %dth, %b, %Y\"\n",
    "min_crash = datetime.datetime.strptime(crash_text, crash_format_str)\n",
    "print(min_crash)\n",
    "\n"
   ]
  },
  {
   "cell_type": "code",
   "execution_count": 13,
   "metadata": {},
   "outputs": [],
   "source": [
    "recession_text = \"07/03/90\"\n",
    "\n",
    "# Create format string\n",
    "recession_format_str = \"%m/%d/%y\"\n",
    "\n",
    "min_crash = min_crash.strftime(recession_format_str)"
   ]
  },
  {
   "cell_type": "code",
   "execution_count": 15,
   "metadata": {},
   "outputs": [
    {
     "name": "stdout",
     "output_type": "stream",
     "text": [
      "1989-10-13 00:00:00\n"
     ]
    }
   ],
   "source": [
    "\n",
    "# Create datetime from text using format string\n",
    "nineties_rec = datetime.datetime.strptime(min_crash, recession_format_str)\n",
    "print(nineties_rec)"
   ]
  },
  {
   "cell_type": "code",
   "execution_count": null,
   "metadata": {},
   "outputs": [],
   "source": []
  },
  {
   "cell_type": "code",
   "execution_count": null,
   "metadata": {},
   "outputs": [],
   "source": []
  }
 ],
 "metadata": {
  "kernelspec": {
   "display_name": "Python 3",
   "language": "python",
   "name": "python3"
  },
  "language_info": {
   "codemirror_mode": {
    "name": "ipython",
    "version": 3
   },
   "file_extension": ".py",
   "mimetype": "text/x-python",
   "name": "python",
   "nbconvert_exporter": "python",
   "pygments_lexer": "ipython3",
   "version": "3.6.9"
  }
 },
 "nbformat": 4,
 "nbformat_minor": 4
}
