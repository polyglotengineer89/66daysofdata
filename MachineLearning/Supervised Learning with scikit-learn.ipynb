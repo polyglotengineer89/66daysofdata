{
 "cells": [
  {
   "cell_type": "markdown",
   "metadata": {},
   "source": [
    "### <b> Supervise Learning</b>"
   ]
  },
  {
   "cell_type": "code",
   "execution_count": null,
   "metadata": {},
   "outputs": [],
   "source": []
  },
  {
   "cell_type": "markdown",
   "metadata": {},
   "source": [
    "### K-Nearest Neighbors\n",
    " - Basic Idea: Predict the label of data point by\n",
    "     - Looking at 'k' closest data point\n",
    "     - Taking Majority vote"
   ]
  },
  {
   "cell_type": "markdown",
   "metadata": {},
   "source": [
    "![title](SuperviseLearning/K-NearestNeighbors.png)\n",
    "![title](SuperviseLearning/k-NN.png)"
   ]
  },
  {
   "cell_type": "markdown",
   "metadata": {},
   "source": [
    "### Scikit-learn fit and Predict\n",
    "  - All machine learning models implemented as Python classes\n",
    "      - They implement algorithm for learning and predicting\n",
    "      - Store the information learned from the data\n",
    "      \n",
    "  - Training a model on the data = fitting a model to data\n",
    "      - .fit() method\n",
    "  - To predict the label of new data: .predict() method"
   ]
  },
  {
   "cell_type": "markdown",
   "metadata": {},
   "source": [
    "![title](SuperviseLearning/FitClassifier.png)\n",
    "![title](SuperviseLearning/PredictingUnlabeledData.png)"
   ]
  },
  {
   "cell_type": "code",
   "execution_count": null,
   "metadata": {},
   "outputs": [],
   "source": []
  }
 ],
 "metadata": {
  "kernelspec": {
   "display_name": "Python 3",
   "language": "python",
   "name": "python3"
  },
  "language_info": {
   "codemirror_mode": {
    "name": "ipython",
    "version": 3
   },
   "file_extension": ".py",
   "mimetype": "text/x-python",
   "name": "python",
   "nbconvert_exporter": "python",
   "pygments_lexer": "ipython3",
   "version": "3.8.11"
  }
 },
 "nbformat": 4,
 "nbformat_minor": 4
}
