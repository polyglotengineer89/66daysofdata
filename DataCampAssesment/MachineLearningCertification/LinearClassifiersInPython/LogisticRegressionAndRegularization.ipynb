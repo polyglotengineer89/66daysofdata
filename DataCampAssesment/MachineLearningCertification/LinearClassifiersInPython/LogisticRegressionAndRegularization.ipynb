{
 "cells": [
  {
   "cell_type": "code",
   "execution_count": 1,
   "id": "5a603af6",
   "metadata": {},
   "outputs": [
    {
     "data": {
      "text/html": [
       "<img src=\"./LogisticRegressionAndRegularizationImages/1.png\" width=\"400\"/>"
      ],
      "text/plain": [
       "<IPython.core.display.Image object>"
      ]
     },
     "execution_count": 1,
     "metadata": {},
     "output_type": "execute_result"
    }
   ],
   "source": [
    "from IPython.display import Image\n",
    "\n",
    "\n",
    "Image(url= \"./LogisticRegressionAndRegularizationImages/1.png\", width=400)"
   ]
  },
  {
   "cell_type": "code",
   "execution_count": 2,
   "id": "d52170e3",
   "metadata": {},
   "outputs": [
    {
     "data": {
      "text/html": [
       "<img src=\"./LogisticRegressionAndRegularizationImages/2.png\" width=\"400\"/>"
      ],
      "text/plain": [
       "<IPython.core.display.Image object>"
      ]
     },
     "execution_count": 2,
     "metadata": {},
     "output_type": "execute_result"
    }
   ],
   "source": [
    "Image(url= \"./LogisticRegressionAndRegularizationImages/2.png\", width=400)"
   ]
  },
  {
   "cell_type": "code",
   "execution_count": 3,
   "id": "83c2e778",
   "metadata": {},
   "outputs": [
    {
     "data": {
      "text/html": [
       "<img src=\"./LogisticRegressionAndRegularizationImages/3.png\" width=\"400\"/>"
      ],
      "text/plain": [
       "<IPython.core.display.Image object>"
      ]
     },
     "execution_count": 3,
     "metadata": {},
     "output_type": "execute_result"
    }
   ],
   "source": [
    "Image(url= \"./LogisticRegressionAndRegularizationImages/3.png\", width=400)"
   ]
  },
  {
   "cell_type": "code",
   "execution_count": 4,
   "id": "bc7b1c56",
   "metadata": {},
   "outputs": [
    {
     "data": {
      "text/html": [
       "<img src=\"./LogisticRegressionAndRegularizationImages/4.png\" width=\"400\"/>"
      ],
      "text/plain": [
       "<IPython.core.display.Image object>"
      ]
     },
     "execution_count": 4,
     "metadata": {},
     "output_type": "execute_result"
    }
   ],
   "source": [
    "Image(url= \"./LogisticRegressionAndRegularizationImages/4.png\", width=400)"
   ]
  },
  {
   "cell_type": "code",
   "execution_count": 5,
   "id": "8840b73d",
   "metadata": {},
   "outputs": [
    {
     "data": {
      "text/html": [
       "<img src=\"./LogisticRegressionAndRegularizationImages/5.png\" width=\"400\"/>"
      ],
      "text/plain": [
       "<IPython.core.display.Image object>"
      ]
     },
     "execution_count": 5,
     "metadata": {},
     "output_type": "execute_result"
    }
   ],
   "source": [
    "Image(url= \"./LogisticRegressionAndRegularizationImages/5.png\", width=400)"
   ]
  },
  {
   "cell_type": "markdown",
   "id": "4a3f91f1",
   "metadata": {},
   "source": [
    "<h4>Exercise</h4>\n",
    "<h2>Regularized logistic regression</h2>\n",
    "In Chapter 1, you used logistic regression on the handwritten digits data set. Here, we'll explore the effect of L2 regularization.\n",
    "\n",
    "The handwritten digits dataset is already loaded, split, and stored in the variables X_train, y_train, X_valid, and y_valid. The variables train_errs and valid_errs are already initialized as empty lists.\n",
    "\n",
    "<h4>Instructions</h4>\n",
    "<ul>\n",
    "    <li>Loop over the different values of C_value, creating and fitting a LogisticRegression model each time.</li>\n",
    "    <li>Save the error on the training set and the validation set for each model.</li>\n",
    "    <li>Create a plot of the training and testing error as a function of the regularization parameter, C.</li>\n",
    "    <li>Looking at the plot, what's the best value of C?</li>\n",
    "</ul>"
   ]
  },
  {
   "cell_type": "raw",
   "id": "d0fdb520",
   "metadata": {},
   "source": [
    "# Train and validaton errors initialized as empty list\n",
    "train_errs = list(X_train, y_train)\n",
    "valid_errs = list(X_valid, y_valid)\n",
    "\n",
    "# Loop over values of C_value\n",
    "for C_value in [0.001, 0.01, 0.1, 1, 10, 100, 1000]:\n",
    "    # Create LogisticRegression object and fit\n",
    "    lr = ____\n",
    "    lr.fit(____)\n",
    "    \n",
    "    # Evaluate error rates and append to lists\n",
    "    train_errs.append( 1.0 - lr.score(____) )\n",
    "    valid_errs.append( 1.0 - lr.score(____) )\n",
    "    \n",
    "# Plot results\n",
    "plt.semilogx(C_values, train_errs, C_values, valid_errs)\n",
    "plt.legend((\"train\", \"validation\"))\n",
    "plt.show()"
   ]
  },
  {
   "cell_type": "code",
   "execution_count": null,
   "id": "55d6f780",
   "metadata": {},
   "outputs": [],
   "source": []
  }
 ],
 "metadata": {
  "kernelspec": {
   "display_name": "Python 3 (ipykernel)",
   "language": "python",
   "name": "python3"
  },
  "language_info": {
   "codemirror_mode": {
    "name": "ipython",
    "version": 3
   },
   "file_extension": ".py",
   "mimetype": "text/x-python",
   "name": "python",
   "nbconvert_exporter": "python",
   "pygments_lexer": "ipython3",
   "version": "3.9.7"
  }
 },
 "nbformat": 4,
 "nbformat_minor": 5
}
