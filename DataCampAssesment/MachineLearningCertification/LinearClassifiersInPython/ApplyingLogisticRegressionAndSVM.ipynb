{
 "cells": [
  {
   "cell_type": "code",
   "execution_count": 1,
   "id": "1d8c3e4b",
   "metadata": {},
   "outputs": [
    {
     "data": {
      "text/html": [
       "<img src=\"./ApplyingLogisticRegressionAndSVMImages/1.png\" width=\"400\"/>"
      ],
      "text/plain": [
       "<IPython.core.display.Image object>"
      ]
     },
     "execution_count": 1,
     "metadata": {},
     "output_type": "execute_result"
    }
   ],
   "source": [
    "from IPython.display import Image\n",
    "\n",
    "\n",
    "Image(url= \"./ApplyingLogisticRegressionAndSVMImages/1.png\", width=400)"
   ]
  },
  {
   "cell_type": "code",
   "execution_count": 2,
   "id": "62739f6d",
   "metadata": {},
   "outputs": [
    {
     "data": {
      "text/html": [
       "<img src=\"./ApplyingLogisticRegressionAndSVMImages/2.png\" width=\"400\"/>"
      ],
      "text/plain": [
       "<IPython.core.display.Image object>"
      ]
     },
     "execution_count": 2,
     "metadata": {},
     "output_type": "execute_result"
    }
   ],
   "source": [
    "Image(url= \"./ApplyingLogisticRegressionAndSVMImages/2.png\", width=400)"
   ]
  },
  {
   "cell_type": "code",
   "execution_count": 3,
   "id": "1f3b9263",
   "metadata": {},
   "outputs": [
    {
     "data": {
      "text/html": [
       "<img src=\"./ApplyingLogisticRegressionAndSVMImages/3.png\" width=\"400\"/>"
      ],
      "text/plain": [
       "<IPython.core.display.Image object>"
      ]
     },
     "execution_count": 3,
     "metadata": {},
     "output_type": "execute_result"
    }
   ],
   "source": [
    "Image(url= \"./ApplyingLogisticRegressionAndSVMImages/3.png\", width=400)"
   ]
  },
  {
   "cell_type": "code",
   "execution_count": 4,
   "id": "eaf7761b",
   "metadata": {},
   "outputs": [
    {
     "data": {
      "text/html": [
       "<img src=\"./ApplyingLogisticRegressionAndSVMImages/4.png\" width=\"400\"/>"
      ],
      "text/plain": [
       "<IPython.core.display.Image object>"
      ]
     },
     "execution_count": 4,
     "metadata": {},
     "output_type": "execute_result"
    }
   ],
   "source": [
    "Image(url= \"./ApplyingLogisticRegressionAndSVMImages/4.png\", width=400)"
   ]
  },
  {
   "cell_type": "markdown",
   "id": "de379e34",
   "metadata": {},
   "source": [
    "<h4>Exercise</h4>\n",
    "KNN classification\n",
    "In this exercise you'll explore a subset of the Large Movie Review Dataset. The variables X_train, X_test, y_train, and y_test are already loaded into the environment. The X variables contain features based on the words in the movie reviews, and the y variables contain labels for whether the review sentiment is positive (+1) or negative (-1).\n",
    "\n",
    "This course touches on a lot of concepts you may have forgotten, so if you ever need a quick refresher, download the Scikit-Learn Cheat Sheet and keep it handy!\n",
    "\n",
    "<h4>Instructions</h4>\n",
    "<ul>\n",
    "    <li>Create a KNN model with default hyperparameters.</li>\n",
    "    <li>Fit the model.</li>\n",
    "    <li>Print out the prediction for the test example 0.</li>\n",
    "</ul>"
   ]
  },
  {
   "cell_type": "raw",
   "id": "5a52efa4",
   "metadata": {},
   "source": [
    "from sklearn.neighbors import KNeighborsClassifier\n",
    "\n",
    "# Create and fit the model\n",
    "knn = KNeighborsClassifier(n_neighbors=1)\n",
    "knn.fit(X_train, y_train)\n",
    "\n",
    "# Predict on the test features, print the results\n",
    "pred = knn.predict(X_train)[0]\n",
    "print(\"Prediction for test example 0:\", pred)"
   ]
  },
  {
   "cell_type": "markdown",
   "id": "cffb653e",
   "metadata": {},
   "source": [
    "Overfitting\n",
    "Question: Which of the following situations looks like an example of overfitting?\n",
    "Ans: Training accuracy 95%, testing accuracy 50%.\n",
    "\n",
    "Great job! Looks like you understand overfitting."
   ]
  },
  {
   "cell_type": "code",
   "execution_count": 5,
   "id": "22eb2958",
   "metadata": {},
   "outputs": [
    {
     "data": {
      "text/html": [
       "<img src=\"./ApplyingLogisticRegressionAndSVMImages/5.png\" width=\"400\"/>"
      ],
      "text/plain": [
       "<IPython.core.display.Image object>"
      ]
     },
     "execution_count": 5,
     "metadata": {},
     "output_type": "execute_result"
    }
   ],
   "source": [
    "Image(url= \"./ApplyingLogisticRegressionAndSVMImages/5.png\", width=400)"
   ]
  },
  {
   "cell_type": "code",
   "execution_count": 6,
   "id": "e62ec4b0",
   "metadata": {},
   "outputs": [
    {
     "data": {
      "text/html": [
       "<img src=\"./ApplyingLogisticRegressionAndSVMImages/6.png\" width=\"400\"/>"
      ],
      "text/plain": [
       "<IPython.core.display.Image object>"
      ]
     },
     "execution_count": 6,
     "metadata": {},
     "output_type": "execute_result"
    }
   ],
   "source": [
    "Image(url= \"./ApplyingLogisticRegressionAndSVMImages/6.png\", width=400)"
   ]
  },
  {
   "cell_type": "code",
   "execution_count": 7,
   "id": "28cd3b2f",
   "metadata": {},
   "outputs": [
    {
     "data": {
      "text/html": [
       "<img src=\"./ApplyingLogisticRegressionAndSVMImages/7.png\" width=\"400\"/>"
      ],
      "text/plain": [
       "<IPython.core.display.Image object>"
      ]
     },
     "execution_count": 7,
     "metadata": {},
     "output_type": "execute_result"
    }
   ],
   "source": [
    "Image(url= \"./ApplyingLogisticRegressionAndSVMImages/7.png\", width=400)"
   ]
  },
  {
   "cell_type": "code",
   "execution_count": 8,
   "id": "a926f0e9",
   "metadata": {},
   "outputs": [
    {
     "data": {
      "text/html": [
       "<img src=\"./ApplyingLogisticRegressionAndSVMImages/8.png\" width=\"400\"/>"
      ],
      "text/plain": [
       "<IPython.core.display.Image object>"
      ]
     },
     "execution_count": 8,
     "metadata": {},
     "output_type": "execute_result"
    }
   ],
   "source": [
    "Image(url= \"./ApplyingLogisticRegressionAndSVMImages/8.png\", width=400)"
   ]
  },
  {
   "cell_type": "markdown",
   "id": "f9bf5763",
   "metadata": {},
   "source": [
    "<h4>Exercise</h4>\n",
    "<h2>Running LogisticRegression and SVC</h2>\n",
    "In this exercise, you'll apply logistic regression and a support vector machine to classify images of handwritten digits.\n",
    "\n",
    "<h4>Instructions</h4>\n",
    "Apply logistic regression and SVM (using SVC()) to the handwritten digits data set using the provided train/validation split.\n",
    "For each classifier, print out the training and validation accuracy."
   ]
  },
  {
   "cell_type": "raw",
   "id": "6229e083",
   "metadata": {},
   "source": [
    "from sklearn import datasets\n",
    "digits = datasets.load_digits()\n",
    "X_train, X_test, y_train, y_test = train_test_split(digits.data, digits.target)\n",
    "\n",
    "# Apply logistic regression and print scores\n",
    "lr = LogisticRegression()\n",
    "lr.fit(X_train, y_train)\n",
    "print(lr.score(X_train, y_train))\n",
    "print(lr.score(X_test, y_test))\n",
    "\n",
    "# Apply SVM and print scores\n",
    "svm = SVC()\n",
    "svm.fit(X_train, y_train)\n",
    "print(svm.score(X_train, y_train))\n",
    "print(svm.score(X_test, y_test))"
   ]
  },
  {
   "cell_type": "markdown",
   "id": "b23487fc",
   "metadata": {},
   "source": [
    "Nicely done! Later in the course we'll look at the similarities and differences of logistic regression vs. SVMs."
   ]
  },
  {
   "cell_type": "markdown",
   "id": "c19727bf",
   "metadata": {},
   "source": [
    "<h4>Exercise</h4>\n",
    "<h2>Sentiment analysis for movie reviews</h2>\n",
    "In this exercise you'll explore the probabilities outputted by logistic regression on a subset of the Large Movie Review Dataset.\n",
    "\n",
    "The variables X and y are already loaded into the environment. X contains features based on the number of times words appear in the movie reviews, and y contains labels for whether the review sentiment is positive (+1) or negative (-1).\n",
    "\n",
    "<h4>Instructions</h4>\n",
    "<ul>\n",
    "    <li>Train a logistic regression model on the movie review data.</li>\n",
    "    <li>Predict the probabilities of negative vs. positive for the two given reviews.</li>\n",
    "    <li>Feel free to write your own reviews and get probabilities for those too!</li>\n",
    "</ul>"
   ]
  },
  {
   "cell_type": "raw",
   "id": "3ffe9419",
   "metadata": {},
   "source": [
    "# Instantiate logistic regression and train\n",
    "lr = LogisticRegression()\n",
    "lr.fit(X, y)\n",
    "\n",
    "# Predict sentiment for a glowing review\n",
    "review1 = \"LOVED IT! This movie was amazing. Top 10 this year.\"\n",
    "review1_features = get_features(review1)\n",
    "print(\"Review:\", review1)\n",
    "print(\"Probability of positive review:\", lr.predict_proba(review1_features)[0,1])\n",
    "\n",
    "# Predict sentiment for a poor review\n",
    "review2 = \"Total junk! I'll never watch a film by that director again, no matter how good the reviews.\"\n",
    "review2_features = get_features(review2)\n",
    "print(\"Review:\", review2)\n",
    "print(\"Probability of positive review:\", lr.predict_proba(review2_features)[0,1])"
   ]
  },
  {
   "cell_type": "markdown",
   "id": "752f2b24",
   "metadata": {},
   "source": [
    "Fantastic! The second probability would have been even lower, but the word \"good\" trips it up a bit, since that's considered a \"positive\" word."
   ]
  },
  {
   "cell_type": "code",
   "execution_count": 9,
   "id": "af811f80",
   "metadata": {},
   "outputs": [
    {
     "data": {
      "text/html": [
       "<img src=\"./ApplyingLogisticRegressionAndSVMImages/9.png\" width=\"400\"/>"
      ],
      "text/plain": [
       "<IPython.core.display.Image object>"
      ]
     },
     "execution_count": 9,
     "metadata": {},
     "output_type": "execute_result"
    }
   ],
   "source": [
    "Image(url= \"./ApplyingLogisticRegressionAndSVMImages/9.png\", width=400)"
   ]
  },
  {
   "cell_type": "code",
   "execution_count": 10,
   "id": "c2707687",
   "metadata": {},
   "outputs": [
    {
     "data": {
      "text/html": [
       "<img src=\"./ApplyingLogisticRegressionAndSVMImages/10.png\" width=\"400\"/>"
      ],
      "text/plain": [
       "<IPython.core.display.Image object>"
      ]
     },
     "execution_count": 10,
     "metadata": {},
     "output_type": "execute_result"
    }
   ],
   "source": [
    "Image(url= \"./ApplyingLogisticRegressionAndSVMImages/10.png\", width=400)"
   ]
  },
  {
   "cell_type": "code",
   "execution_count": 11,
   "id": "c59952e4",
   "metadata": {},
   "outputs": [
    {
     "data": {
      "text/html": [
       "<img src=\"./ApplyingLogisticRegressionAndSVMImages/11.png\" width=\"400\"/>"
      ],
      "text/plain": [
       "<IPython.core.display.Image object>"
      ]
     },
     "execution_count": 11,
     "metadata": {},
     "output_type": "execute_result"
    }
   ],
   "source": [
    "Image(url= \"./ApplyingLogisticRegressionAndSVMImages/11.png\", width=400)"
   ]
  },
  {
   "cell_type": "markdown",
   "id": "d1112cfc",
   "metadata": {},
   "source": [
    "<h4>Exercise</h4>\n",
    "<h2>Visualizing decision boundaries</h2>\n",
    "In this exercise, you'll visualize the decision boundaries of various classifier types.\n",
    "\n",
    "A subset of scikit-learn's built-in wine dataset is already loaded into X, along with binary labels in y.\n",
    "\n",
    "<h4>Instructions</h4>\n",
    "<ul>\n",
    "    <li>Create the following classifier objects with default hyperparameters: LogisticRegression, LinearSVC, SVC, KNeighborsClassifier.</li>\n",
    "    <li>Fit each of the classifiers on the provided data using a for loop.</li>\n",
    "    <li>Call the plot_4_classifers() function (similar to the code here), passing in X, y, and a list containing the four classifiers.</li>\n",
    "</ul>"
   ]
  },
  {
   "cell_type": "raw",
   "id": "1a3880a2",
   "metadata": {},
   "source": [
    "from sklearn.linear_model import LogisticRegression\n",
    "from sklearn.svm import SVC, LinearSVC\n",
    "from sklearn.neighbors import KNeighborsClassifier\n",
    "\n",
    "# Define the classifiers\n",
    "classifiers = [LogisticRegression(), LinearSVC(), SVC(), KNeighborsClassifier()]\n",
    "\n",
    "# Fit the classifiers\n",
    "for c in classifiers:\n",
    "    c.fit(X, y)\n",
    "\n",
    "# Plot the classifiers\n",
    "plot_4_classifiers(X, y, classifiers)\n",
    "plt.show()"
   ]
  },
  {
   "cell_type": "code",
   "execution_count": 12,
   "id": "dcc23863",
   "metadata": {},
   "outputs": [
    {
     "data": {
      "text/html": [
       "<img src=\"./ApplyingLogisticRegressionAndSVMImages/12.png\" width=\"400\"/>"
      ],
      "text/plain": [
       "<IPython.core.display.Image object>"
      ]
     },
     "execution_count": 12,
     "metadata": {},
     "output_type": "execute_result"
    }
   ],
   "source": [
    "Image(url= \"./ApplyingLogisticRegressionAndSVMImages/12.png\", width=400)"
   ]
  },
  {
   "cell_type": "code",
   "execution_count": null,
   "id": "27a7aa49",
   "metadata": {},
   "outputs": [],
   "source": []
  }
 ],
 "metadata": {
  "kernelspec": {
   "display_name": "Python 3 (ipykernel)",
   "language": "python",
   "name": "python3"
  },
  "language_info": {
   "codemirror_mode": {
    "name": "ipython",
    "version": 3
   },
   "file_extension": ".py",
   "mimetype": "text/x-python",
   "name": "python",
   "nbconvert_exporter": "python",
   "pygments_lexer": "ipython3",
   "version": "3.9.7"
  }
 },
 "nbformat": 4,
 "nbformat_minor": 5
}
