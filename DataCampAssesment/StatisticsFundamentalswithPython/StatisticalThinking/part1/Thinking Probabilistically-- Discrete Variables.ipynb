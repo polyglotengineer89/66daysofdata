{
 "cells": [
  {
   "cell_type": "markdown",
   "metadata": {},
   "source": [
    "For next lesson it will related to statistical inference\n",
    "\n",
    "General Definition:<br>\n",
    "Statistical inference refers to the process of drawing conclusions from the model estimation\n",
    "\n",
    "Reference: https://www.sciencedirect.com/topics/neuroscience/statistical-inference#:~:text=Statistical%20inference%20is%20the%20process,data%20drawn%20from%20that%20population.\n",
    "\n",
    "\n",
    "<h4>Binomial Distribution: Story</h4>\n",
    "<ul>\n",
    "    <li>The number of heads in 4 coin flip with 0.5 probability of head</li>\n",
    "</ul>"
   ]
  },
  {
   "cell_type": "markdown",
   "metadata": {},
   "source": [
    "### Simulating 4 coin flip(statistical part 1)"
   ]
  },
  {
   "cell_type": "code",
   "execution_count": 2,
   "metadata": {},
   "outputs": [
    {
     "data": {
      "text/plain": [
       "0.575"
      ]
     },
     "execution_count": 2,
     "metadata": {},
     "output_type": "execute_result"
    }
   ],
   "source": [
    "import numpy as np\n",
    "\n",
    "n_all_heads = 0\n",
    "\n",
    "for _ in range(10000):\n",
    "    heads = np.random.random(size=4) < 0.5\n",
    "    n_heads = np.sum(heads)\n",
    "    if n_heads == 4:\n",
    "        n_all_heads += 1\n",
    "        \n",
    "n_all_heads/1000"
   ]
  },
  {
   "cell_type": "markdown",
   "metadata": {},
   "source": [
    "That code above doesnt work as spose to be, the result shall be 0.062"
   ]
  },
  {
   "cell_type": "code",
   "execution_count": 20,
   "metadata": {},
   "outputs": [
    {
     "data": {
      "text/plain": [
       "array([0.37454012, 0.95071431, 0.73199394, 0.59865848])"
      ]
     },
     "execution_count": 20,
     "metadata": {},
     "output_type": "execute_result"
    }
   ],
   "source": [
    "# Seed the random number generator\n",
    "np.random.seed(42)\n",
    "\n",
    "# Initialize random numbers: random_numbers\n",
    "random_numbers = np.random.random(size=4)\n",
    "\n",
    "random_numbers"
   ]
  },
  {
   "cell_type": "code",
   "execution_count": 21,
   "metadata": {},
   "outputs": [
    {
     "data": {
      "text/plain": [
       "array([ True, False, False, False])"
      ]
     },
     "execution_count": 21,
     "metadata": {},
     "output_type": "execute_result"
    }
   ],
   "source": [
    "heads = random_numbers < 0.5\n",
    "\n",
    "heads"
   ]
  },
  {
   "cell_type": "code",
   "execution_count": 22,
   "metadata": {},
   "outputs": [
    {
     "data": {
      "text/plain": [
       "1"
      ]
     },
     "execution_count": 22,
     "metadata": {},
     "output_type": "execute_result"
    }
   ],
   "source": [
    "np.sum(heads)"
   ]
  },
  {
   "cell_type": "raw",
   "metadata": {},
   "source": [
    "The number of heads can be computed by summing the array of Booleans, because in numerical contexts, Python treats True as 1 and False as 0.\n",
    "We want to know the probability of getting four heads if we were to repeatedly flip the 4 coins\n",
    "without list comprehension\n",
    "n_all_heads = 0  # initialize number of 4-heads trials\n",
    "\n",
    "for _ in range(10000):\n",
    "    heads = np.random.random(size=4) < 0.5\n",
    "    n_heads = np.sum(heads)\n",
    "    if n_heads == 4:\n",
    "        n_all_heads += 1\n",
    "        \n",
    "        \n",
    "with list comprehension"
   ]
  },
  {
   "cell_type": "code",
   "execution_count": 23,
   "metadata": {},
   "outputs": [
    {
     "data": {
      "text/plain": [
       "619"
      ]
     },
     "execution_count": 23,
     "metadata": {},
     "output_type": "execute_result"
    }
   ],
   "source": [
    "n_all_heads = sum([1 for _ in range(10000) if sum(np.random.random(size=4) < 0.5) == 4])\n",
    "n_all_heads"
   ]
  },
  {
   "cell_type": "code",
   "execution_count": 24,
   "metadata": {},
   "outputs": [
    {
     "data": {
      "text/plain": [
       "0.0619"
      ]
     },
     "execution_count": 24,
     "metadata": {},
     "output_type": "execute_result"
    }
   ],
   "source": [
    "n_all_heads/10000"
   ]
  },
  {
   "cell_type": "raw",
   "metadata": {},
   "source": [
    "Generating random numbers using the np.random module\n",
    "We will be hammering the np.random module for the rest of this course and its sequel. Actually, you will probably call functions from this module more than any other while wearing your hacker statistician hat. Let's start by taking its simplest function, np.random.random() for a test spin. The function returns a random number between zero and one. Call np.random.random() a few times in the IPython shell. You should see numbers jumping around between zero and one.\n",
    "\n",
    "\n",
    "In this exercise, we'll generate lots of random numbers between zero and one, and then plot a histogram of the results. If the numbers are truly random, all bars in the histogram should be of (close to) equal height.\n",
    "\n",
    "You may have noticed that, in the video, Justin generated 4 random numbers by passing the keyword argument size=4 to np.random.random(). Such an approach is more efficient than a for loop: in this exercise, however, you will write a for loop to experience hacker statistics as the practice of repeating an experiment over and over again.\n"
   ]
  },
  {
   "cell_type": "code",
   "execution_count": 8,
   "metadata": {},
   "outputs": [
    {
     "data": {
      "image/png": "[encoded data removed]",
      "text/plain": [
       "<Figure size 432x288 with 1 Axes>"
      ]
     },
     "metadata": {
      "needs_background": "light"
     },
     "output_type": "display_data"
    }
   ],
   "source": [
    "from matplotlib import pyplot as plt\n",
    "# Seed the random number generator\n",
    "np.random.seed(42)\n",
    "\n",
    "# Initialize random numbers: random_numbers\n",
    "random_numbers = np.empty(100000)\n",
    "\n",
    "# Generate random numbers by looping over range(100000)\n",
    "for i in range(100000):\n",
    "    random_numbers[i] = np.random.random()\n",
    "\n",
    "# Plot a histogram\n",
    "_ = plt.hist(random_numbers)\n",
    "\n",
    "# Show the plot\n",
    "plt.show()\n"
   ]
  },
  {
   "cell_type": "markdown",
   "metadata": {},
   "source": [
    "## Bernoulli trials"
   ]
  },
  {
   "cell_type": "markdown",
   "metadata": {},
   "source": [
    "what is Bernoulli trials?\n",
    "\n",
    "what is the function?\n",
    "\n",
    "how it used?\n",
    "\n",
    "what situation that need bernoulli trials?"
   ]
  },
  {
   "cell_type": "markdown",
   "metadata": {},
   "source": [
    "In the theory of probability and statistics, a Bernoulli trial (or binomial trial) is a random experiment with exactly two possible outcomes, \"success\" and \"failure\", in which the probability of success is the same every time the experiment is conducted.It is named after Jacob Bernoulli, a 17th-century Swiss mathematician, who analyzed them in his Ars Conjectandi (1713).\n",
    "\n",
    "reference: https://en.wikipedia.org/wiki/Bernoulli_trial"
   ]
  },
  {
   "cell_type": "markdown",
   "metadata": {},
   "source": [
    "### 3.2.2  The np.random module and Bernoulli trials"
   ]
  },
  {
   "cell_type": "markdown",
   "metadata": {},
   "source": [
    "The np.random module and Bernoulli trials\n",
    "You can think of a Bernoulli trial as a flip of a possibly biased coin. Specifically, each coin flip has a probability  <b>1-p</b> of landing heads (success) and probability  of landing tails (failure). In this exercise, you will write a function to perform <b>n</b> Bernoulli trials, <b>perform_bernoulli_trials(n, p)</b>, which returns the number of successes out of n Bernoulli trials, each of which has probability p of success. To perform each Bernoulli trial, use the <b>np.random.random()</b> function, which returns a random number between zero and one"
   ]
  },
  {
   "cell_type": "markdown",
   "metadata": {},
   "source": [
    "#### Instruction"
   ]
  },
  {
   "cell_type": "markdown",
   "metadata": {},
   "source": [
    "<ul>\n",
    "    <li>Define a function with signature perform_bernoulli_trials(n, p).</li>\n",
    "    <li>Initialize to zero a variable n_success the counter of Trues, which are Bernoulli trial successes.</li>\n",
    "    <li>Write a for loop where you perform a Bernoulli trial in each iterat\n",
    "        ion and increment the number of success if the result is True. Perform n iterations by looping over range(n). \n",
    "        <ul>\n",
    "            <li>To perform a Bernoulli trial, choose a random number between zero and one using np.random.random().If the number you chose is less than p, increment n_success (use the += 1 operator to achieve this).\n",
    "            </li>\n",
    "        </ul>\n",
    "    </li>\n",
    "    <li>The function returns the number of successes n_success</li>\n",
    "</ul>"
   ]
  },
  {
   "cell_type": "code",
   "execution_count": 30,
   "metadata": {},
   "outputs": [],
   "source": [
    "def perform_bernoulli_trials(n, p):\n",
    "    \"\"\"Perform n Bernoulli trials with success probability p\n",
    "    and return number of successes.\"\"\"\n",
    "    # Initialize number of successes: n_success\n",
    "    n_success = 0\n",
    "\n",
    "    # Perform trials\n",
    "    for i in range(n):\n",
    "        # Choose random number between zero and one: random_number\n",
    "        randoms = np.random.random()\n",
    "\n",
    "        # If less than p, it's a success so add one to n_success\n",
    "        if randoms < p:\n",
    "            n_success += 1\n",
    "\n",
    "    return n_success"
   ]
  },
  {
   "cell_type": "markdown",
   "metadata": {},
   "source": [
    "### How many defaults might we expect?"
   ]
  },
  {
   "cell_type": "markdown",
   "metadata": {},
   "source": [
    "Let's say a bank made <b>100 mortgage loans</b>. It is possible that anywhere <b>between 0 and 100 of the loans</b> will be defaulted upon. \n",
    "\n",
    "You would like to know the probability of getting a given number of defaults, given that the probability of a default is <b>p = 0.05</b>. To investigate this, you will do a simulation. \n",
    "\n",
    "You will perform <b>100 Bernoulli trials</b> using the <b>perform_bernoulli_trials()</b> function you wrote in the previous exercise and record how many defaults we get. \n",
    "\n",
    "Here, a success is a default. (Remember that the word \"success\" just means that the Bernoulli trial evaluates to <b>True</b>, i.e., did the loan recipient default?) You will do this for another <b>100</b> Bernoulli trials. And again and again until we have tried it <b>1000</b> times. Then, you will plot a histogram describing the probability of the number of defaults.\n",
    "\n"
   ]
  },
  {
   "cell_type": "markdown",
   "metadata": {},
   "source": [
    "#### instruction"
   ]
  },
  {
   "cell_type": "markdown",
   "metadata": {},
   "source": [
    "<ul>\n",
    "    <li>Seed the random number generator to 42.</li>\n",
    "    <li>Initialize n_defaults, an empty array, using np.empty(). It should contain 1000 entries, since we are doing 1000 simulations.</li>\n",
    "    <li>Write a for loop with 1000 iterations to compute the number of defaults per 100 loans using the perform_bernoulli_trials() function. It accepts two arguments: the number of trials n - in this case 100 - and the probability of success p - in this case the probability of a default, which is 0.05. On each iteration of the loop store the result in an entry of n_defaults.</li>\n",
    "    <li>Plot a histogram of n_defaults. Include the normed=True keyword argument so that the height of the bars of the histogram indicate the probability.</li>\n",
    "    <li>Show your plot.</li>\n",
    "</ul>"
   ]
  },
  {
   "cell_type": "code",
   "execution_count": 33,
   "metadata": {},
   "outputs": [
    {
     "data": {
      "image/png": "[encoded data removed]",
      "text/plain": [
       "<Figure size 432x288 with 1 Axes>"
      ]
     },
     "metadata": {
      "needs_background": "light"
     },
     "output_type": "display_data"
    }
   ],
   "source": [
    "# Seed random number generator\n",
    "np.random.seed(42)\n",
    "\n",
    "# Initialize the number of defaults: n_defaults\n",
    "n_defaults = np.empty(1000)\n",
    "\n",
    "# Compute the number of defaults\n",
    "for i in range(1000):\n",
    "    n_defaults[i] = perform_bernoulli_trials(100, 0.05)\n",
    "\n",
    "\n",
    "# Plot the histogram with default number of bins; label your axes\n",
    "# _ = plt.hist(n_defaults, normed=True)\n",
    "_ = plt.hist(n_defaults, density=True)\n",
    "_ = plt.xlabel('number of defaults out of 100 loans')\n",
    "_ = plt.ylabel('probability')\n",
    "\n",
    "# Show the plot\n",
    "plt.show()"
   ]
  },
  {
   "cell_type": "markdown",
   "metadata": {},
   "source": [
    "### Will the bank fail?"
   ]
  },
  {
   "cell_type": "markdown",
   "metadata": {},
   "source": [
    "Plot the number of defaults you got from the previous exercise, in your namespace as n_defaults, as a CDF. The ecdf() function you wrote in the first chapter is available.\n",
    "<br>\n",
    "If interest rates are such that the bank will lose money if 10 or more of its loans are defaulted upon, what is the probability that the bank will lose money?\n",
    "\n"
   ]
  },
  {
   "cell_type": "markdown",
   "metadata": {},
   "source": [
    "<li>Compute the x and y values for the ECDF of n_defaults.</li>\n",
    "<li>Plot the ECDF, making sure to label the axes. Remember to include marker = '.' and linestyle = 'none' in addition to x and y in your call plt.plot().</li>\n",
    "<li>Show the plot.</li>\n",
    "<li>Compute the total number of entries in your n_defaults array that were greater than or equal to 10. To do so, compute a boolean array that tells you whether a given entry of n_defaults is >= 10. Then sum all the entries in this array using np.sum(). For example, np.sum(n_defaults <= 5) would compute the number of defaults with 5 or fewer defaults.</li>\n",
    "<li>The probability that the bank loses money is the fraction of n_defaults that are greater than or equal to 10. Print this result by hitting 'Submit Answer'!</li>\n"
   ]
  },
  {
   "cell_type": "code",
   "execution_count": 25,
   "metadata": {},
   "outputs": [
    {
     "name": "stdout",
     "output_type": "stream",
     "text": [
      "Requirement already satisfied: statsmodels in /usr/local/lib/python3.8/site-packages (0.12.2)\n",
      "Requirement already satisfied: patsy>=0.5 in /usr/local/lib/python3.8/site-packages (from statsmodels) (0.5.1)\n",
      "Requirement already satisfied: scipy>=1.1 in /usr/local/lib/python3.8/site-packages (from statsmodels) (1.6.3)\n",
      "Requirement already satisfied: pandas>=0.21 in /usr/local/lib/python3.8/site-packages (from statsmodels) (1.2.4)\n",
      "Requirement already satisfied: numpy>=1.15 in /usr/local/lib/python3.8/site-packages (from statsmodels) (1.20.3)\n",
      "Requirement already satisfied: pytz>=2017.3 in /usr/local/lib/python3.8/site-packages (from pandas>=0.21->statsmodels) (2020.1)\n",
      "Requirement already satisfied: python-dateutil>=2.7.3 in /usr/local/lib/python3.8/site-packages (from pandas>=0.21->statsmodels) (2.8.1)\n",
      "Requirement already satisfied: six in /usr/local/lib/python3.8/site-packages (from patsy>=0.5->statsmodels) (1.15.0)\n",
      "Note: you may need to restart the kernel to use updated packages.\n"
     ]
    }
   ],
   "source": [
    "pip install statsmodels"
   ]
  },
  {
   "cell_type": "markdown",
   "metadata": {},
   "source": [
    "## 1.4.1  Computing the ECDF"
   ]
  },
  {
   "cell_type": "markdown",
   "metadata": {},
   "source": [
    " In this exercise, you will write a function that takes as input a 1D array of data and then returns the x and y values of the ECDF. You will use this function over and over again throughout this course and its sequel. ECDFs are among the most important plots in statistical analysis. You can write your own function, foo(x,y) according to the following skeleton:\n",
    "<code>\n",
    "def foo(a,b):\n",
    "    \"\"\"State what function does here\"\"\"\n",
    "    # Computation performed here\n",
    "    return x, y\n",
    "</code>\n",
    "The function foo() above takes two arguments a and b and returns two values x and y. The function header def foo(a,b): contains the function signature foo(a,b), which consists of the function name, along with its parameters. For more on writing your own functions, see DataCamp's course Python Data Science Toolbox (Part 1)!\n",
    "\n"
   ]
  },
  {
   "cell_type": "markdown",
   "metadata": {},
   "source": [
    "### Instruction"
   ]
  },
  {
   "cell_type": "markdown",
   "metadata": {},
   "source": [
    "<li>Define a function with the signature ecdf(data). Within the function definition,</li>\n",
    "<ul><li>Compute the number of data points, n, using the len() function.</li>\n",
    "    <li>The -values are the sorted data. Use the np.sort() function to perform the sorting.</li>\n",
    "<li>The  data of the ECDF go from 1/n to 1 in equally spaced increments. You can construct this using np.arange(). Remember, however, that the end value in np.arange() is not inclusive. Therefore, np.arange() will need to go from 1 to n+1. Be sure to divide this by n.</li>\n",
    "    <li>The function returns the values x and y.</li><ul>"
   ]
  },
  {
   "cell_type": "code",
   "execution_count": 23,
   "metadata": {},
   "outputs": [],
   "source": [
    "def ecdf(data):\n",
    "    \"\"\"Compute ECDF for a one-dimensional array of measurements.\"\"\"\n",
    "    # Number of data points: n\n",
    "    n = len(data)\n",
    "\n",
    "    # x-data for the ECDF: x\n",
    "    x = np.sort(data)\n",
    "\n",
    "    # y-data for the ECDF: y\n",
    "    y = np.arange(1, n+1) / n\n",
    "\n",
    "    return x, y\n"
   ]
  },
  {
   "cell_type": "markdown",
   "metadata": {},
   "source": [
    "#### With list comprehension"
   ]
  },
  {
   "cell_type": "code",
   "execution_count": 18,
   "metadata": {},
   "outputs": [],
   "source": [
    "def perform_bernoulli_trials(n: int=100000, p: float=0.5) -> int:\n",
    "    \"\"\"\n",
    "    Perform n Bernoulli trials with success probability p\n",
    "    and return number of successes.\n",
    "    n: number of iterations\n",
    "    p: target number between 0 and 1, inclusive\n",
    "    \"\"\"\n",
    "\n",
    "    return sum([1 for _ in range(n) if np.random.random() < p])"
   ]
  },
  {
   "cell_type": "code",
   "execution_count": 20,
   "metadata": {},
   "outputs": [
    {
     "data": {
      "text/plain": [
       "array([ 8,  6,  4,  2,  4,  3,  6,  3,  1,  7,  5,  2,  3,  6,  6,  4,  5,\n",
       "        5,  4,  6,  2,  6,  9,  7,  4,  3,  4,  6,  5,  4,  3,  5,  4,  6,\n",
       "        4,  3,  5,  4,  5,  1,  3,  4,  3,  3,  9,  6,  8,  5,  4,  6,  3,\n",
       "        4,  2,  4,  4,  5,  5,  4,  5,  8,  2,  4,  4,  2,  3,  4,  1,  5,\n",
       "        5,  3,  4,  9,  5, 11,  4,  4,  2,  3,  6,  5,  1, 11,  4,  4,  9,\n",
       "       10,  5,  7,  5,  2,  4,  7,  4,  2,  6,  6,  7,  5,  4,  4,  4,  2,\n",
       "        6,  5,  3,  6,  6,  6,  3,  8,  1,  3,  7,  7,  7,  4,  4,  5,  4,\n",
       "        4,  3, 10,  6,  8,  2,  3,  5,  1,  3,  4,  5,  5,  6,  2,  4,  6,\n",
       "        7,  3,  5,  5,  5,  4,  6,  4,  4,  1, 10,  5,  3,  5,  4,  8,  3,\n",
       "        7,  3,  9,  5, 10,  5,  2,  3, 10,  7,  4,  3,  3,  7,  5,  1,  3,\n",
       "        6,  3,  5,  8,  2,  7, 10,  3,  4,  5,  9,  6,  4,  2,  3,  8,  3,\n",
       "        4,  3,  9,  4,  7,  2,  3,  2,  5,  7,  5,  6,  6,  3, 11,  7,  5,\n",
       "        8,  6,  9,  5,  9,  4,  2,  8,  5,  9,  5,  4,  7,  7,  6,  4,  5,\n",
       "        4,  5,  6,  4,  4,  1,  2,  5,  8,  2,  5,  4,  2,  4,  9,  9,  5,\n",
       "        5,  8, 10,  2,  4,  8,  5,  7,  8,  4,  4,  1,  7,  4,  7,  7,  6,\n",
       "        2,  5,  6,  4,  6,  8,  4,  3,  3,  5, 11,  4,  9,  5,  3,  7,  3,\n",
       "        9,  1,  5,  4,  4,  5,  5,  3,  5,  6,  3,  8,  8,  5,  1,  5,  6,\n",
       "        9,  5,  4,  5,  9,  3,  5,  5,  5,  5,  7,  1,  1,  6,  6,  4,  4,\n",
       "        6,  4,  3,  8,  5,  9, 10,  5,  5,  3,  6,  7,  4,  7,  6,  5,  4,\n",
       "        4,  7,  8,  4,  7,  8,  8,  8,  7,  7, 12, 10,  5,  3,  3,  5,  4,\n",
       "        3,  6,  2,  5,  7,  1,  8,  2,  4,  2,  3,  6,  7,  2,  6,  7,  4,\n",
       "        9,  6,  6,  6,  3,  5,  6,  6,  5,  3,  7,  7,  3,  7,  6,  8,  7,\n",
       "        5,  4,  6,  6,  3,  6,  4,  4,  3,  8,  4,  2,  4,  4,  6,  8,  3,\n",
       "        5,  7,  2,  6,  7,  4,  4,  4,  7,  8,  3,  3,  7,  3,  4,  6,  5,\n",
       "        5,  9,  4,  6,  6,  7,  6,  5,  8,  4,  8,  1,  4,  2,  3,  4,  6,\n",
       "        9,  3,  3,  4,  8,  5,  3,  5,  6,  6,  9,  3,  7,  5,  7,  5,  0,\n",
       "        4,  5,  4,  6,  5,  7,  6,  6,  7,  3,  3,  6,  2,  4,  4,  3,  9,\n",
       "        4,  6,  4,  5,  3,  3,  4,  5,  7,  3,  4,  6,  6,  5,  3,  7,  1,\n",
       "        5,  7,  6,  1,  3,  7,  7,  9,  2,  5,  4,  4,  9,  7,  4,  5,  4,\n",
       "        8,  6, 10,  4,  4,  3,  4,  3,  3,  4,  3,  3,  5,  9,  5,  3,  3,\n",
       "        7,  6,  7,  5,  7,  3,  3,  2,  7,  6,  4,  9,  5,  8,  7,  4,  2,\n",
       "       16,  2, 10,  8,  2,  3,  8,  3,  4,  0,  2,  8,  6,  6,  6,  7,  3,\n",
       "        7, 11,  4,  7,  4,  4,  6,  5,  4,  8,  4, 10,  6,  5,  5,  2,  5,\n",
       "        0,  3,  4,  4,  3,  3,  4,  3,  6,  5,  3,  2,  5,  8,  7,  4,  6,\n",
       "        3,  7,  3,  6,  3,  4,  5,  6,  3,  6,  2,  4,  7,  9,  4,  4,  5,\n",
       "        4,  6,  4,  5,  4,  4,  3,  3,  4,  4,  6,  6,  3,  4,  7,  5,  6,\n",
       "        7,  1,  2,  2,  7,  4,  7,  3,  4,  6,  5,  3,  5,  4,  4,  7,  6,\n",
       "        4,  4,  6,  4,  6,  5,  6,  9,  5,  3,  4,  2,  7,  2,  7,  5,  8,\n",
       "        2,  7,  9,  4,  2,  7, 13,  3,  5,  4,  5, 11,  7,  4,  4,  3,  5,\n",
       "        4,  5,  7,  5,  3,  4,  4,  5,  3,  6,  3,  6,  7,  9,  4,  4,  6,\n",
       "        7,  6,  3,  6,  4,  6,  5,  9,  6,  5,  9,  7,  7,  8,  2,  3,  6,\n",
       "        3,  5,  8,  5,  1,  3,  3,  7,  3,  5,  3,  6,  8,  5,  7,  2,  6,\n",
       "        6,  7,  4,  4,  3,  4,  3,  5,  7,  8,  5,  2,  6, 12,  3,  8,  3,\n",
       "        2,  7,  8,  6,  1,  6,  8, 10,  5,  3,  3,  8,  4,  5,  6,  3,  7,\n",
       "        3,  5,  3,  5,  3,  4,  5,  9,  2,  6,  4,  5,  5,  2,  6,  8,  5,\n",
       "        3,  5,  3,  7,  3,  4,  7,  5,  6,  4,  4,  5,  7,  4,  2,  5,  6,\n",
       "        7,  6,  3,  9,  7,  5,  9,  2,  6,  7,  4,  6,  7,  3,  7,  4,  8,\n",
       "        5,  7,  2,  5,  5,  9,  9,  4,  6,  7,  2,  6,  2,  4,  5,  3,  1,\n",
       "        7,  6,  7,  8,  7,  2,  3,  6,  5,  5,  4,  3,  3,  7,  4, 11,  2,\n",
       "        7,  5,  6,  3,  8,  8,  4,  1,  5,  5,  2,  7,  7,  7,  5,  3,  2,\n",
       "        4,  6,  5,  9,  3,  4,  3, 10,  2,  2,  7, 11,  2,  6,  2,  6,  6,\n",
       "        6,  4,  2,  7,  5,  5,  6,  5,  6,  2,  4,  6,  6,  7,  3,  5,  8,\n",
       "        8,  9,  2,  3,  4,  4,  1,  4, 10,  8,  4,  7,  3,  7,  6,  1,  4,\n",
       "        4,  9,  6,  8,  1,  2,  1,  5,  8,  4,  3,  5,  5,  4, 10,  2,  8,\n",
       "        2,  8,  3,  6,  8,  8,  9,  8,  6,  6,  3,  6,  8,  8,  6,  8,  4,\n",
       "        4,  8,  3,  3,  1, 10,  2,  7,  3,  4,  2,  8,  4,  3,  8,  8,  8,\n",
       "        4,  2,  4,  5,  4,  5,  4,  6,  4,  9,  5,  7, 10,  7,  8,  7,  5,\n",
       "        3,  5,  7,  4,  3,  5,  2,  6,  3,  3,  4,  6,  6,  6,  6,  5,  8,\n",
       "       10,  9,  3,  6,  9,  4,  5,  4,  6,  6,  4,  6,  5, 10])"
      ]
     },
     "execution_count": 20,
     "metadata": {},
     "output_type": "execute_result"
    }
   ],
   "source": [
    "n_defaults = np.asarray([perform_bernoulli_trials(100, 0.05) for _ in range(1000)])\n",
    "n_defaults"
   ]
  },
  {
   "cell_type": "raw",
   "metadata": {},
   "source": [
    "n_defaults=[ 6  5  7  8  5  5  3  2  7  6  7  3  8  3  8  5  2  6  4  5  3  2  9  5\n",
    "  5  3  8  7  7  5  4  3  4  5  6  1  8  4  2  9  6  5  2  6  3  6  2  6\n",
    "  4  4  6  4  5  4  3  4  6  3  4  8  2  4  1  6  6  6  2  2  3  8  7  2\n",
    "  6  6  3  6  3 10  7  6  4  5  8  4  6  4  6  1 10  4  4  4  5  4  5  2\n",
    "  8  7  3  7  9  6  8  2  5  4  3  6  2  6  9  5  6  6  4  4  7  6  6  7\n",
    "  1  5  4  1  4  6  3  2  3  8  8  6  7  6  4  4  7  2  4  7  5  4  6  6\n",
    "  8  4  2  5  6  3  7  6  5 10  4  4  5  7  7  6  6  4  6  9  4  4  7  4\n",
    "  8  5  4  3  3  6  6  1  5  7  3  7  3  4  4  3  2  2  0  7  3  7  7  3\n",
    "  8  6  4  3  4  4  5  2  4  4  3  7  3  6  4  2  6  6  6  7  6  4  6  6\n",
    "  7  8  7  3  3  3  4  7  6  5  3  6  4  2  3  2  4  6  3  4  5  1  3  6\n",
    "  3  6  1  6  6  7  4  7  7  4  2  8  6  3  7  3  4  4  5  1  7  1  5  3\n",
    "  4  8  9  3  9  8  4  0 11  7  6  7  6  7  4  5  4  5  3  6  3  3  2  5\n",
    "  4  6  4  3 14  5  8  1  1  4  4  4  6  4  5  3  5  6  4  5  6  3  3  8\n",
    "  4  1  8  5  7  5  3  2  8  4  5  4  5  8  4  2  4  3  2  9  5  6  6  3\n",
    "  5  8  6  4  5  1  5  8  6  5  5 10  1  0  2  3  6 10  1  6  7  5  6 13\n",
    "  6  4  3  3  6  3  6  3  8  4  4  6  3  5  5  1  5  7  8  9  5  7  7  6\n",
    "  5  7  6  2  6  4  5  6  6  2 15  8  3  5  5  6  4  4  4  2  6  7  5  3\n",
    "  6  7  4  2  4  7  4  5  3  8  5  3  2  8  2  4  6  3  5  1  2  5  5  4\n",
    "  5  5  4  7  7  4  7  6  5  6  8  5  5  4  4  1  4  3  2  4  2  6  4  6\n",
    "  1  6  5  5  8  7  6  3  7  6  9  5  6  1  6  6  5  6  6  5  6  2  7  4\n",
    "  3 13  6  7  3  4  2  8  6  5  6  4  3  7  6  4  6  6  6  6  3  7  3  7\n",
    "  6  2  4  4  8  6  8  4  4  5  6  7  2  8  1  6  3  9  7  1  2  7  5  4\n",
    "  5 11  4  3  4  7  5  7  9  4  7  7  4  7  8  4  2  7  5  3 10  3  4  4\n",
    "  2  2  7  3  6  7  6  6  2  2  5  7  7  6  5  3 10  6  4  4  4  4  2  6\n",
    "  5  7  4  5  3  8  4  2 15  3  7  9  6  3  3  3  2  3  8  8  3  8  7  3\n",
    "  2  8  3  5  7  1  6  5  2  4  5  2  4  4  2  5  0  6  8  5  6  3  6  5\n",
    "  7  3  3  4  5  7  1  6  5  7  6  6  7  2  6  3  6  4  5  5  5  7  8  3\n",
    "  5  4  3  8  7  3  6  4  7  4  5  4  6  1  2  2  6  3  4  7  1  7  5  6\n",
    "  3  7  2 10  5  3  9  7  8  2  4  5  6  5  6  5  3  4  6  8 10  7  2  3\n",
    "  4  5  2  5  6  6 11  4  8  4  2  4  7  3  5  1  6  4  2  5  3  3  3  3\n",
    "  4  3  6  6  7  6  5  6  6  9  1  2  4  4  6  8  6  4  5  5  6  6  9  4\n",
    "  6  3  3  6  3  2  4  6  3  6  5  6  8  5  2  4  6  7  7  9  8  4  5  3\n",
    "  1  4  6  1  6  2  3  5  5  3  4  6  4  5  4  7  6  3  2  4  7  6  3  4\n",
    "  2  5  6  7  4  8  3  3 10  3  2  5  4  5  6  6  5  2  5  2  4  6  8  4\n",
    "  3  6  2  1  6  3  5  9  6  2  9  4  4  6  4  5  7  5  7  4  8  4  4  4\n",
    "  4  7  3  7  8  2  6  2  7  7  4  3  7  9  5  5  7  4  5  3  7  7  4  3\n",
    "  3  3  6  5  6  8  2  9  9  4  7  8  3  4  4  7  4  2  6  8  5  6  5  3\n",
    "  6  9  3  1  6  4  4  3  5  5  5 12  5 10 11  3  9  3  7  5  5  5  4  5\n",
    "  8  9  6  6  4  6  4  6  3  6  7  5  4  2  4  6  2  3  4  6  6  1  3  7\n",
    "  3  7  3  1  5  5  1  8  6  8  5  5  8  6  3  2  6  4  9  6  4  8  3  8\n",
    "  4  3  3  4  4  3  4  5  2  4  4 10  9  7  2  9  5  4  3  5  4  5  4  4\n",
    "  4  4  3  4  5  7  3  5  3  2  2  5  5  7  7  2]"
   ]
  },
  {
   "cell_type": "code",
   "execution_count": 24,
   "metadata": {},
   "outputs": [
    {
     "data": {
      "image/png": "[encoded data removed]",
      "text/plain": [
       "<Figure size 432x288 with 1 Axes>"
      ]
     },
     "metadata": {},
     "output_type": "display_data"
    },
    {
     "name": "stdout",
     "output_type": "stream",
     "text": [
      "Probability of losing money = 1.0\n"
     ]
    }
   ],
   "source": [
    "\n",
    "# Compute ECDF: x, y\n",
    "x, y = ecdf(n_defaults) \n",
    "\n",
    "# Plot the ECDF with labeled axes\n",
    "plt.plot(x, y, marker = '.', linestyle = 'none')\n",
    "plt.xlabel('Number of Defaults out of 100')\n",
    "plt.ylabel('CDF')\n",
    "\n",
    "# Show the plot\n",
    "plt.show()\n",
    "\n",
    "\n",
    "# Compute the number of 100-loan simulations with 10 or more defaults: n_lose_money\n",
    "n_lose_money = sum(n_defaults >= 10)\n",
    "\n",
    "# Compute and print probability of losing money\n",
    "print('Probability of losing money =', n_lose_money / len(n_defaults))\n"
   ]
  },
  {
   "cell_type": "markdown",
   "metadata": {},
   "source": [
    "### Probability distributions and stories: The Binomial distribution"
   ]
  },
  {
   "cell_type": "markdown",
   "metadata": {},
   "source": [
    "What is Binomial Distribution\n",
    "\n",
    "Explanation:\n",
    "https://www.youtube.com/watch?v=bT1p5tJwn_0\n",
    "\n",
    "Definition :<br> \n",
    "https://towardsdatascience.com/understanding-bernoulli-and-binomial-distributions-a1eef4e0da8f\n",
    "\n",
    "Related Topic: <br>\n",
    "Probability Mas Function(PMF)\n",
    "\n",
    "Reference: <br>\n",
    "https://en.wikipedia.org/wiki/Probability_mass_function\n",
    "\n",
    "\n",
    "Example of Binomial Distributed:\n",
    "<ul>\n",
    "    <li>The number r of success in n Bernouli Trial with probability p of success, is Binomialy distributed</li>\n",
    "    <li>The number r heads in 4 coin flip with probability 0.5 of heads, is Binomially distributed</li>\n",
    "</ul>"
   ]
  },
  {
   "cell_type": "code",
   "execution_count": 6,
   "metadata": {},
   "outputs": [
    {
     "data": {
      "text/plain": [
       "array([2, 0, 2, 3, 2, 2, 2, 3, 4, 2])"
      ]
     },
     "execution_count": 6,
     "metadata": {},
     "output_type": "execute_result"
    }
   ],
   "source": [
    "#code example\n",
    "np.random.binomial(4, 0.5)\n",
    "\n",
    "np.random.binomial(4, 0.5, size=10)"
   ]
  },
  {
   "cell_type": "markdown",
   "metadata": {},
   "source": [
    "### The Binomial PMF"
   ]
  },
  {
   "cell_type": "code",
   "execution_count": 14,
   "metadata": {},
   "outputs": [
    {
     "data": {
      "text/plain": [
       "array([6, 6, 5, ..., 7, 1, 3])"
      ]
     },
     "execution_count": 14,
     "metadata": {},
     "output_type": "execute_result"
    }
   ],
   "source": [
    "n =60\n",
    "\n",
    "p = 0.1\n",
    "\n",
    "samples = np.random.binomial(n, p, size=10000)\n",
    "samples"
   ]
  },
  {
   "cell_type": "markdown",
   "metadata": {},
   "source": [
    "### The Binomial CMF"
   ]
  },
  {
   "cell_type": "code",
   "execution_count": 21,
   "metadata": {},
   "outputs": [
    {
     "data": {
      "image/png": "[encoded data removed]",
      "text/plain": [
       "<Figure size 432x288 with 1 Axes>"
      ]
     },
     "metadata": {},
     "output_type": "display_data"
    }
   ],
   "source": [
    "import matplotlib.pyplot as plt\n",
    "\n",
    "import seaborn as sns\n",
    "\n",
    "sns.set()\n",
    "\n",
    "x, y = ecdf(samples)\n",
    "\n",
    "_ = plt.plot(x, y, marker='.', linestyle='none')\n",
    "plt.margins(0.02)  #why should give margin?\n",
    "_ = plt.xlabel(\"number of success\")\n",
    "_ = plt.ylabel(\"CDF\")\n",
    "plt.show()"
   ]
  },
  {
   "cell_type": "markdown",
   "metadata": {},
   "source": [
    "### Exercise"
   ]
  },
  {
   "cell_type": "markdown",
   "metadata": {},
   "source": [
    "<h1>Sampling out of the Binomial distribution</h1>\n",
    "Compute the probability mass function for the number of defaults we would expect for 100 loans as in the last section, but instead of simulating all of the Bernoulli trials, perform the sampling using <b>np.random.binomial()</b>. This is identical to the calculation you did in the last set of exercises using your custom-written <b>perform_bernoulli_trials()</b> function, but far more computationally efficient. Given this extra efficiency, we will take 10,000 samples instead of 1000. After taking the samples, plot the CDF as last time. This CDF that you are plotting is that of the Binomial distribution.<br>\n",
    "\n",
    "Note: For this exercise and all going forward, the random number generator is pre-seeded for you (with np.random.seed(42)) to save you typing that each time.\n",
    "\n"
   ]
  },
  {
   "cell_type": "markdown",
   "metadata": {},
   "source": [
    "### Instruction"
   ]
  },
  {
   "cell_type": "markdown",
   "metadata": {},
   "source": [
    "<ul>\n",
    "    <li>Draw samples out of the Binomial distribution using np.random.binomial(). You should use parameters n = 100 and p = 0.05, and set the size keyword argument to 10000.</li>\n",
    "    <li>Compute the CDF using your previously-written ecdf() function.</li>\n",
    "<li>Plot the CDF with axis labels. The x-axis here is the number of defaults out of 100 loans, while the y-axis is the CDF.</li>\n",
    "    <li>Show the plot.</li>\n",
    "    </ul>"
   ]
  },
  {
   "cell_type": "code",
   "execution_count": 18,
   "metadata": {},
   "outputs": [
    {
     "data": {
      "image/png": "[encoded data removed]",
      "text/plain": [
       "<Figure size 432x288 with 1 Axes>"
      ]
     },
     "metadata": {},
     "output_type": "display_data"
    }
   ],
   "source": [
    "# Take 10,000 samples out of the binomial distribution: n_defaults\n",
    "np.random.seed(42)\n",
    "n_defaults = np.random.binomial(100, 0.5, size=10000)\n",
    "\n",
    "# Compute CDF: x, y\n",
    "x, y = ecdf(n_defaults)\n",
    "\n",
    "# Plot the CDF with axis labels\n",
    "plt.plot(x, y, marker = '.', linestyle = 'none')\n",
    "plt.xlabel('Number of Defaults out of 100 loans')\n",
    "plt.ylabel('CDF')\n",
    "\n",
    "\n",
    "# Show the plot\n",
    "plt.show()\n"
   ]
  },
  {
   "cell_type": "markdown",
   "metadata": {},
   "source": [
    "### Exercise"
   ]
  },
  {
   "cell_type": "markdown",
   "metadata": {},
   "source": [
    "As mentioned in the video, plotting a nice looking PMF requires a bit of matplotlib trickery that we will not go into here. Instead, we will plot the PMF of the Binomial distribution as a histogram with skills you have already learned. The trick is setting up the edges of the bins to pass to plt.hist() via the bins keyword argument. We want the bins centered on the integers. So, the edges of the bins should be <b>-0.5, 0.5, 1.5, 2.5, ... </b>up to <b>max(n_defaults) + 1.5</b>. You can generate an array like this using <b>np.arange()</b> and then subtracting 0.5 from the array.\n",
    "\n",
    "You have already sampled out of the Binomial distribution during your exercises on loan defaults, and the resulting samples are in the NumPy array n_defaults.\n",
    "\n"
   ]
  },
  {
   "cell_type": "markdown",
   "metadata": {},
   "source": [
    "### Instruction"
   ]
  },
  {
   "cell_type": "markdown",
   "metadata": {},
   "source": [
    "<li>Using np.arange(), compute the bin edges such that the bins are centered on the integers. Store the resulting array in the variable bins.</li>\n",
    "<li>Use plt.hist() to plot the histogram of n_defaults with the normed=True and bins=bins keyword arguments.</li>\n",
    "<li>Show the plot.</li>\n"
   ]
  },
  {
   "cell_type": "code",
   "execution_count": 9,
   "metadata": {},
   "outputs": [
    {
     "data": {
      "image/png": "[encoded data removed]",
      "text/plain": [
       "<Figure size 432x288 with 1 Axes>"
      ]
     },
     "metadata": {
      "needs_background": "light"
     },
     "output_type": "display_data"
    }
   ],
   "source": [
    "# Compute bin edges: bins\n",
    "bins = np.arange(0, max(n_defaults)  + 1.5) - 0.5\n",
    "\n",
    "# Generate histogram\n",
    "plt.hist(n_defaults, normed=True, bins=bins)\n",
    "\n",
    "# Label axes\n",
    "plt.xlabel('number of defaults out of 100 loans')\n",
    "plt.ylabel('PMF')\n",
    "\n",
    "\n",
    "# Show the plot\n",
    "plt.show()"
   ]
  },
  {
   "cell_type": "markdown",
   "metadata": {},
   "source": [
    "# Poisson Processes"
   ]
  },
  {
   "cell_type": "markdown",
   "metadata": {},
   "source": [
    "<li>The timing of next event is completly independent from when the previous event happen</li>\n",
    "\n",
    "<br>\n",
    "<h2>Example of Poisson Process</h2>\n",
    "<ul>\n",
    "    <li>Natural Birth in hospital</li>\n",
    "    <li>Hit on website during rush hour</li>\n",
    "    <li>Meteor Strikes</li>\n",
    "    <li>Number of accident</li>\n",
    "</ul>"
   ]
  },
  {
   "cell_type": "markdown",
   "metadata": {},
   "source": [
    "reference:\n",
    "    https://towardsdatascience.com/the-poisson-distribution-and-poisson-process-explained-4e2cb17d459"
   ]
  },
  {
   "cell_type": "markdown",
   "metadata": {},
   "source": [
    "### Example In Code"
   ]
  },
  {
   "cell_type": "code",
   "execution_count": 20,
   "metadata": {},
   "outputs": [
    {
     "data": {
      "image/png": "[encoded data removed]",
      "text/plain": [
       "<Figure size 432x288 with 1 Axes>"
      ]
     },
     "metadata": {},
     "output_type": "display_data"
    }
   ],
   "source": [
    "samples = np.random.poisson(6, size=10000)\n",
    "x, y = ecdf(samples)\n",
    "\n",
    "_ = plt.plot(x, y, marker='.', linestyle='none')\n",
    "plt.margins(0.02)\n",
    "_ = plt.xlabel(\"number of success\")\n",
    "_ = plt.ylabel(\"CDF\")\n",
    "\n",
    "plt.show()"
   ]
  },
  {
   "cell_type": "markdown",
   "metadata": {},
   "source": [
    "### Exercise"
   ]
  },
  {
   "cell_type": "markdown",
   "metadata": {},
   "source": [
    "<h3>Relationship between Binomial and Poisson distributions</h3><br>\n",
    "You just heard that the Poisson distribution is a limit of the Binomial distribution for rare events. This makes sense if you think about the stories. Say we do a Bernoulli trial every minute for an hour, each with a success probability of 0.1. We would do 60 trials, and the number of successes is Binomially distributed, and we would expect to get about 6 successes. This is just like the Poisson story we discussed in the video, where we get on average 6 hits on a website per hour. So, the Poisson distribution with arrival rate equal to  approximates a Binomial distribution for  Bernoulli trials with probability  of success (with n large and p small). Importantly, the Poisson distribution is often simpler to work with because it has only one parameter instead of two for the Binomial distribution.\n",
    "\n",
    "Let's explore these two distributions computationally. You will compute the mean and standard deviation of samples from a Poisson distribution with an arrival rate of 10. Then, you will compute the mean and standard deviation of samples from a Binomial distribution with parameters n and p such that np=10 .\n",
    "\n"
   ]
  },
  {
   "cell_type": "markdown",
   "metadata": {},
   "source": [
    "### Instructions"
   ]
  },
  {
   "cell_type": "markdown",
   "metadata": {},
   "source": [
    "<li>Using the np.random.poisson() function, draw 10000 samples from a Poisson distribution with a mean of 10.</li>\n",
    "<li>Make a list of the n and p values to consider for the Binomial distribution. Choose n = [20, 100, 1000] and p = [0.5, 0.1, 0.01] so that  is always 10.</li>\n",
    "<li>Using np.random.binomial() inside the provided for loop, draw 10000 samples from a Binomial distribution with each n, p pair and print the mean and standard deviation of the samples. There are 3 n, p pairs: 20, 0.5, 100, 0.1, and 1000, 0.01. These can be accessed inside the loop as n[i], p[i].</li>"
   ]
  },
  {
   "cell_type": "code",
   "execution_count": null,
   "metadata": {},
   "outputs": [],
   "source": [
    "# Draw 10,000 samples out of Poisson distribution: samples_poisson\n",
    "samples_poisson = np.random.poisson(10, size=10000)\n",
    "\n",
    "# Print the mean and standard deviation\n",
    "print('Poisson:     ', np.mean(samples_poisson),\n",
    "                       np.std(samples_poisson))\n",
    "\n",
    "# Specify values of n and p to consider for Binomial: n, p\n",
    "n = [20, 100, 1000]\n",
    "p = [0.5, 0.1, 0.01]\n",
    "\n",
    "\n",
    "# Draw 10,000 samples for each n,p pair: samples_binomial\n",
    "for i in range(3):\n",
    "    samples_binomial = np.random.binomial(n[i], p[i],size=10000)\n",
    "\n",
    "    # Print results\n",
    "    print('n =', n[i], 'Binom:', np.mean(samples_binomial),\n",
    "                                 np.std(samples_binomial))\n"
   ]
  },
  {
   "cell_type": "markdown",
   "metadata": {},
   "source": [
    "### How many no-hitters in a season?"
   ]
  },
  {
   "cell_type": "markdown",
   "metadata": {},
   "source": [
    "In baseball, a no-hitter is a game in which a pitcher does not allow the other team to get a hit. This is a rare event, and since the beginning of the so-called modern era of baseball (starting in 1901), there have only been 251 of them through the 2015 season in over 200,000 games. The ECDF of the number of no-hitters in a season is shown to the right. Which probability distribution would be appropriate to describe the number of no-hitters we would expect in a given season?\n",
    "\n",
    "Note: The no-hitter data set was scraped and calculated from the data sets available at retrosheet.org (license).\n",
    "\n",
    "<li>Both Binomial and Poisson, though Poisson is easier to model and compute.</li>"
   ]
  },
  {
   "cell_type": "markdown",
   "metadata": {},
   "source": [
    "### Exercise "
   ]
  },
  {
   "cell_type": "markdown",
   "metadata": {},
   "source": [
    "<h2>Was 2015 anomalous?</h2>\n",
    "1990 and 2015 featured the most no-hitters of any season of baseball (there were seven). Given that there are on average 251/115 no-hitters per season, what is the probability of having seven or more in a season?\n",
    "\n"
   ]
  },
  {
   "cell_type": "markdown",
   "metadata": {},
   "source": [
    "### instructions"
   ]
  },
  {
   "cell_type": "markdown",
   "metadata": {},
   "source": [
    "<li>Draw 10000 samples from a Poisson distribution with a mean of 251/115 and assign to n_nohitters.</li>\n",
    "<li>Determine how many of your samples had a result greater than or equal to 7 and assign to n_large.</li>\n",
    "<li>Compute the probability, p_large, of having 7 or more no-hitters by dividing n_large by the total number of samples (10000).</li>\n",
    "<li>Hit 'Submit Answer' to print the probability that you calculated.</li>\n"
   ]
  },
  {
   "cell_type": "code",
   "execution_count": 28,
   "metadata": {},
   "outputs": [
    {
     "name": "stdout",
     "output_type": "stream",
     "text": [
      "Probability of seven or more no-hitters: 0.0069\n"
     ]
    }
   ],
   "source": [
    "# Draw 10,000 samples out of Poisson distribution: n_nohitters\n",
    "n_nohitters = np.random.poisson(251/115, size=10000)\n",
    "\n",
    "# Compute number of samples that are seven or greater: n_large\n",
    "n_large = np.sum(n_nohitters >= 7)\n",
    "\n",
    "# Compute probability of getting seven or more: p_large\n",
    "p_large = n_large/len(n_nohitters)\n",
    "\n",
    "# Print the result\n",
    "print('Probability of seven or more no-hitters:', p_large)\n"
   ]
  },
  {
   "cell_type": "code",
   "execution_count": null,
   "metadata": {},
   "outputs": [],
   "source": []
  }
 ],
 "metadata": {
  "kernelspec": {
   "display_name": "Python 3",
   "language": "python",
   "name": "python3"
  },
  "language_info": {
   "codemirror_mode": {
    "name": "ipython",
    "version": 3
   },
   "file_extension": ".py",
   "mimetype": "text/x-python",
   "name": "python",
   "nbconvert_exporter": "python",
   "pygments_lexer": "ipython3",
   "version": "3.8.10"
  }
 },
 "nbformat": 4,
 "nbformat_minor": 4
}
