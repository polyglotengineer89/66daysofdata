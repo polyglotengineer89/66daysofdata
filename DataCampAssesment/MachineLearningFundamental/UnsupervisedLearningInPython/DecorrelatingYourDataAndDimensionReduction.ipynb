{
 "cells": [
  {
   "cell_type": "code",
   "execution_count": 2,
   "id": "1aa62089",
   "metadata": {},
   "outputs": [
    {
     "data": {
      "text/html": [
       "<img src=\"./DecorrelatingYourDataAndDimensionReductionImg/1.png\" width=\"400\"/>"
      ],
      "text/plain": [
       "<IPython.core.display.Image object>"
      ]
     },
     "execution_count": 2,
     "metadata": {},
     "output_type": "execute_result"
    }
   ],
   "source": [
    "from IPython.display import Image\n",
    "\n",
    "\n",
    "Image(url= \"./DecorrelatingYourDataAndDimensionReductionImg/1.png\", width=400)"
   ]
  },
  {
   "cell_type": "code",
   "execution_count": 3,
   "id": "d598426b",
   "metadata": {},
   "outputs": [
    {
     "data": {
      "text/html": [
       "<img src=\"./DecorrelatingYourDataAndDimensionReductionImg/2.png\" width=\"400\"/>"
      ],
      "text/plain": [
       "<IPython.core.display.Image object>"
      ]
     },
     "execution_count": 3,
     "metadata": {},
     "output_type": "execute_result"
    }
   ],
   "source": [
    "Image(url= \"./DecorrelatingYourDataAndDimensionReductionImg/2.png\", width=400)"
   ]
  },
  {
   "cell_type": "code",
   "execution_count": 4,
   "id": "1cfabfa6",
   "metadata": {},
   "outputs": [
    {
     "data": {
      "text/html": [
       "<img src=\"./DecorrelatingYourDataAndDimensionReductionImg/3.png\" width=\"400\"/>"
      ],
      "text/plain": [
       "<IPython.core.display.Image object>"
      ]
     },
     "execution_count": 4,
     "metadata": {},
     "output_type": "execute_result"
    }
   ],
   "source": [
    "Image(url= \"./DecorrelatingYourDataAndDimensionReductionImg/3.png\", width=400)"
   ]
  },
  {
   "cell_type": "code",
   "execution_count": 5,
   "id": "02829f53",
   "metadata": {},
   "outputs": [
    {
     "data": {
      "text/html": [
       "<img src=\"./DecorrelatingYourDataAndDimensionReductionImg/4.png\" width=\"400\"/>"
      ],
      "text/plain": [
       "<IPython.core.display.Image object>"
      ]
     },
     "execution_count": 5,
     "metadata": {},
     "output_type": "execute_result"
    }
   ],
   "source": [
    "Image(url= \"./DecorrelatingYourDataAndDimensionReductionImg/4.png\", width=400)"
   ]
  },
  {
   "cell_type": "code",
   "execution_count": 6,
   "id": "660085ab",
   "metadata": {},
   "outputs": [
    {
     "data": {
      "text/html": [
       "<img src=\"./DecorrelatingYourDataAndDimensionReductionImg/5.png\" width=\"400\"/>"
      ],
      "text/plain": [
       "<IPython.core.display.Image object>"
      ]
     },
     "execution_count": 6,
     "metadata": {},
     "output_type": "execute_result"
    }
   ],
   "source": [
    "Image(url= \"./DecorrelatingYourDataAndDimensionReductionImg/5.png\", width=400)"
   ]
  },
  {
   "cell_type": "code",
   "execution_count": 7,
   "id": "1dc2a4b0",
   "metadata": {},
   "outputs": [
    {
     "data": {
      "text/html": [
       "<img src=\"./DecorrelatingYourDataAndDimensionReductionImg/6.png\" width=\"400\"/>"
      ],
      "text/plain": [
       "<IPython.core.display.Image object>"
      ]
     },
     "execution_count": 7,
     "metadata": {},
     "output_type": "execute_result"
    }
   ],
   "source": [
    "Image(url= \"./DecorrelatingYourDataAndDimensionReductionImg/6.png\", width=400)"
   ]
  },
  {
   "cell_type": "code",
   "execution_count": 8,
   "id": "639f54a2",
   "metadata": {},
   "outputs": [
    {
     "data": {
      "text/html": [
       "<img src=\"./DecorrelatingYourDataAndDimensionReductionImg/7.png\" width=\"400\"/>"
      ],
      "text/plain": [
       "<IPython.core.display.Image object>"
      ]
     },
     "execution_count": 8,
     "metadata": {},
     "output_type": "execute_result"
    }
   ],
   "source": [
    "Image(url= \"./DecorrelatingYourDataAndDimensionReductionImg/7.png\", width=400)"
   ]
  },
  {
   "cell_type": "code",
   "execution_count": 9,
   "id": "d8994173",
   "metadata": {},
   "outputs": [
    {
     "data": {
      "text/html": [
       "<img src=\"./DecorrelatingYourDataAndDimensionReductionImg/8.png\" width=\"400\"/>"
      ],
      "text/plain": [
       "<IPython.core.display.Image object>"
      ]
     },
     "execution_count": 9,
     "metadata": {},
     "output_type": "execute_result"
    }
   ],
   "source": [
    "Image(url= \"./DecorrelatingYourDataAndDimensionReductionImg/8.png\", width=400)"
   ]
  },
  {
   "cell_type": "code",
   "execution_count": 10,
   "id": "aee0cd9e",
   "metadata": {},
   "outputs": [
    {
     "data": {
      "text/html": [
       "<img src=\"./DecorrelatingYourDataAndDimensionReductionImg/9.png\" width=\"400\"/>"
      ],
      "text/plain": [
       "<IPython.core.display.Image object>"
      ]
     },
     "execution_count": 10,
     "metadata": {},
     "output_type": "execute_result"
    }
   ],
   "source": [
    "Image(url= \"./DecorrelatingYourDataAndDimensionReductionImg/9.png\", width=400)"
   ]
  },
  {
   "cell_type": "code",
   "execution_count": 11,
   "id": "e18f68e3",
   "metadata": {},
   "outputs": [
    {
     "data": {
      "text/html": [
       "<img src=\"./DecorrelatingYourDataAndDimensionReductionImg/10.png\" width=\"400\"/>"
      ],
      "text/plain": [
       "<IPython.core.display.Image object>"
      ]
     },
     "execution_count": 11,
     "metadata": {},
     "output_type": "execute_result"
    }
   ],
   "source": [
    "Image(url= \"./DecorrelatingYourDataAndDimensionReductionImg/10.png\", width=400)"
   ]
  },
  {
   "cell_type": "markdown",
   "id": "27419ee8",
   "metadata": {},
   "source": [
    "<h4>Exercise</h4>\n",
    "<h2>Correlated data in nature</h2>\n",
    "You are given an array grains giving the width and length of samples of grain. You suspect that width and length will be correlated. To confirm this, make a scatter plot of width vs length and measure their Pearson correlation.\n",
    "\n",
    "<h4>Instructions</h4>\n",
    "<ul>\n",
    "    <li>\n",
    "        Import:\n",
    "        <ul>\n",
    "            <li>matplotlib.pyplot as plt.</li>\n",
    "            <li>pearsonr from scipy.stats.</li>\n",
    "        </ul>\n",
    "    </li>\n",
    "    <li>Assign column 0 of grains to width and column 1 of grains to length.</li>\n",
    "    <li>Make a scatter plot with width on the x-axis and length on the y-axis.</li>\n",
    "    <li>Use the pearsonr() function to calculate the Pearson correlation of width and length.</li>\n",
    "</ul>"
   ]
  },
  {
   "cell_type": "raw",
   "id": "2be41380",
   "metadata": {},
   "source": [
    "# Perform the necessary imports\n",
    "import matplotlib.pyplot as plt\n",
    "from scipy.stats import pearsonr\n",
    "\n",
    "# Assign the 0th column of grains: width\n",
    "width = grains[:,0]\n",
    "\n",
    "# Assign the 1st column of grains: length\n",
    "length = grains[:,1]\n",
    "\n",
    "# Scatter plot width vs length\n",
    "plt.scatter(width, length)\n",
    "plt.axis('equal')\n",
    "plt.show()\n",
    "\n",
    "# Calculate the Pearson correlation\n",
    "correlation, pvalue = pearsonr(width,length)\n",
    "\n",
    "# Display the correlation\n",
    "print(correlation)\n"
   ]
  },
  {
   "cell_type": "markdown",
   "id": "d23bb744",
   "metadata": {},
   "source": [
    "0.8604149377143466"
   ]
  },
  {
   "cell_type": "markdown",
   "id": "de68268a",
   "metadata": {},
   "source": [
    "Great work! As you would expect, the width and length of the grain samples are highly correlated."
   ]
  },
  {
   "cell_type": "markdown",
   "id": "056eee6a",
   "metadata": {},
   "source": [
    "<h4>Exercise</h4>\n",
    "<h2>Decorrelating the grain measurements with PCA</h2>\n",
    "You observed in the previous exercise that the width and length measurements of the grain are correlated. Now, you'll use PCA to decorrelate these measurements, then plot the decorrelated points and measure their Pearson correlation.\n",
    "\n",
    "<h4>Instructions</h4>\n",
    "<ul>\n",
    "    <li>Import PCA from sklearn.decomposition.</li>\n",
    "    <li>Create an instance of PCA called model.</li>\n",
    "    <li>Use the .fit_transform() method of model to apply the PCA transformation to grains. Assign the result to pca_features.</li>\n",
    "    <li>The subsequent code to extract, plot, and compute the Pearson correlation of the first two columns pca_features has been written for you, so hit submit to see the result!</li>\n",
    "</ul>"
   ]
  },
  {
   "cell_type": "raw",
   "id": "3c115ed2",
   "metadata": {},
   "source": [
    "# Import PCA\n",
    "from sklearn.decomposition import PCA\n",
    "\n",
    "# Create PCA instance: model\n",
    "model = PCA()\n",
    "\n",
    "# Apply the fit_transform method of model to grains: pca_features\n",
    "pca_features = model.fit_transform(grains)\n",
    "\n",
    "# Assign 0th column of pca_features: xs\n",
    "xs = pca_features[:,0]\n",
    "\n",
    "# Assign 1st column of pca_features: ys\n",
    "ys = pca_features[:,1]\n",
    "\n",
    "# Scatter plot xs vs ys\n",
    "plt.scatter(xs, ys)\n",
    "plt.axis('equal')\n",
    "plt.show()\n",
    "\n",
    "# Calculate the Pearson correlation of xs and ys\n",
    "correlation, pvalue = pearsonr(xs, ys)\n",
    "\n",
    "# Display the correlation\n",
    "print(correlation)"
   ]
  },
  {
   "cell_type": "raw",
   "id": "14831def",
   "metadata": {},
   "source": [
    "2.5478751053409354e-17"
   ]
  },
  {
   "cell_type": "markdown",
   "id": "2b99bad5",
   "metadata": {},
   "source": [
    "Excellent! You've successfully decorrelated the grain measurements with PCA!"
   ]
  },
  {
   "cell_type": "markdown",
   "id": "02ae9760",
   "metadata": {},
   "source": [
    "Well done! You've correctly inferred that the principal components have to align with the axes of the point cloud. This happens in both plot 1 and plot 3."
   ]
  },
  {
   "cell_type": "code",
   "execution_count": 13,
   "id": "88015d05",
   "metadata": {},
   "outputs": [
    {
     "data": {
      "text/html": [
       "<img src=\"./DecorrelatingYourDataAndDimensionReductionImg/11.png\" width=\"400\"/>"
      ],
      "text/plain": [
       "<IPython.core.display.Image object>"
      ]
     },
     "execution_count": 13,
     "metadata": {},
     "output_type": "execute_result"
    }
   ],
   "source": [
    "Image(url= \"./DecorrelatingYourDataAndDimensionReductionImg/11.png\", width=400)"
   ]
  },
  {
   "cell_type": "markdown",
   "id": "e121c076",
   "metadata": {},
   "source": [
    "<h4>Exercise</h4>\n",
    "<h2>Decorrelating the grain measurements with PCA</h2>\n",
    "You observed in the previous exercise that the width and length measurements of the grain are correlated. Now, you'll use PCA to decorrelate these measurements, then plot the decorrelated points and measure their Pearson correlation.\n",
    "\n",
    "<h4>Instructions</h4>\n",
    "<ul>\n",
    "    <li>Import PCA from sklearn.decomposition.</li>\n",
    "    <li>Create an instance of PCA called model.</li>\n",
    "    <li>Use the .fit_transform() method of model to apply the PCA transformation to grains. Assign the result to pca_features.</li>\n",
    "    <li>The subsequent code to extract, plot, and compute the Pearson correlation of the first two columns pca_features has been written for you, so hit submit to see the result!</li>\n",
    "</ul>"
   ]
  },
  {
   "cell_type": "raw",
   "id": "00a89323",
   "metadata": {},
   "source": [
    "# Import PCA\n",
    "from sklearn.decomposition import PCA\n",
    "\n",
    "# Create PCA instance: model\n",
    "model = PCA()\n",
    "\n",
    "# Apply the fit_transform method of model to grains: pca_features\n",
    "pca_features = model.fit_transform(grains)\n",
    "\n",
    "# Assign 0th column of pca_features: xs\n",
    "xs = pca_features[:,0]\n",
    "\n",
    "# Assign 1st column of pca_features: ys\n",
    "ys = pca_features[:,1]\n",
    "\n",
    "# Scatter plot xs vs ys\n",
    "plt.scatter(xs, ys)\n",
    "plt.axis('equal')\n",
    "plt.show()\n",
    "\n",
    "# Calculate the Pearson correlation of xs and ys\n",
    "correlation, pvalue = pearsonr(xs, ys)\n",
    "\n",
    "# Display the correlation\n",
    "print(correlation)"
   ]
  },
  {
   "cell_type": "code",
   "execution_count": 14,
   "id": "0358314d",
   "metadata": {},
   "outputs": [
    {
     "data": {
      "text/html": [
       "<img src=\"./DecorrelatingYourDataAndDimensionReductionImg/12.png\" width=\"400\"/>"
      ],
      "text/plain": [
       "<IPython.core.display.Image object>"
      ]
     },
     "execution_count": 14,
     "metadata": {},
     "output_type": "execute_result"
    }
   ],
   "source": [
    "Image(url= \"./DecorrelatingYourDataAndDimensionReductionImg/12.png\", width=400)"
   ]
  },
  {
   "cell_type": "code",
   "execution_count": 15,
   "id": "e2719e06",
   "metadata": {},
   "outputs": [
    {
     "data": {
      "text/html": [
       "<img src=\"./DecorrelatingYourDataAndDimensionReductionImg/13.png\" width=\"400\"/>"
      ],
      "text/plain": [
       "<IPython.core.display.Image object>"
      ]
     },
     "execution_count": 15,
     "metadata": {},
     "output_type": "execute_result"
    }
   ],
   "source": [
    "Image(url= \"./DecorrelatingYourDataAndDimensionReductionImg/13.png\", width=400)"
   ]
  },
  {
   "cell_type": "code",
   "execution_count": 16,
   "id": "d84f5170",
   "metadata": {},
   "outputs": [
    {
     "data": {
      "text/html": [
       "<img src=\"./DecorrelatingYourDataAndDimensionReductionImg/14.png\" width=\"400\"/>"
      ],
      "text/plain": [
       "<IPython.core.display.Image object>"
      ]
     },
     "execution_count": 16,
     "metadata": {},
     "output_type": "execute_result"
    }
   ],
   "source": [
    "Image(url= \"./DecorrelatingYourDataAndDimensionReductionImg/14.png\", width=400)"
   ]
  },
  {
   "cell_type": "code",
   "execution_count": 17,
   "id": "6b4740b9",
   "metadata": {},
   "outputs": [
    {
     "data": {
      "text/html": [
       "<img src=\"./DecorrelatingYourDataAndDimensionReductionImg/15.png\" width=\"400\"/>"
      ],
      "text/plain": [
       "<IPython.core.display.Image object>"
      ]
     },
     "execution_count": 17,
     "metadata": {},
     "output_type": "execute_result"
    }
   ],
   "source": [
    "Image(url= \"./DecorrelatingYourDataAndDimensionReductionImg/15.png\", width=400)"
   ]
  },
  {
   "cell_type": "code",
   "execution_count": 18,
   "id": "f0ed7e82",
   "metadata": {},
   "outputs": [
    {
     "data": {
      "text/html": [
       "<img src=\"./DecorrelatingYourDataAndDimensionReductionImg/16.png\" width=\"400\"/>"
      ],
      "text/plain": [
       "<IPython.core.display.Image object>"
      ]
     },
     "execution_count": 18,
     "metadata": {},
     "output_type": "execute_result"
    }
   ],
   "source": [
    "Image(url= \"./DecorrelatingYourDataAndDimensionReductionImg/16.png\", width=400)"
   ]
  },
  {
   "cell_type": "code",
   "execution_count": 19,
   "id": "ecccf8a5",
   "metadata": {},
   "outputs": [
    {
     "data": {
      "text/html": [
       "<img src=\"./DecorrelatingYourDataAndDimensionReductionImg/17.png\" width=\"400\"/>"
      ],
      "text/plain": [
       "<IPython.core.display.Image object>"
      ]
     },
     "execution_count": 19,
     "metadata": {},
     "output_type": "execute_result"
    }
   ],
   "source": [
    "Image(url= \"./DecorrelatingYourDataAndDimensionReductionImg/17.png\", width=400)"
   ]
  },
  {
   "cell_type": "code",
   "execution_count": 20,
   "id": "10b67732",
   "metadata": {},
   "outputs": [
    {
     "data": {
      "text/html": [
       "<img src=\"./DecorrelatingYourDataAndDimensionReductionImg/18.png\" width=\"400\"/>"
      ],
      "text/plain": [
       "<IPython.core.display.Image object>"
      ]
     },
     "execution_count": 20,
     "metadata": {},
     "output_type": "execute_result"
    }
   ],
   "source": [
    "Image(url= \"./DecorrelatingYourDataAndDimensionReductionImg/18.png\", width=400)"
   ]
  },
  {
   "cell_type": "code",
   "execution_count": 21,
   "id": "af4f223d",
   "metadata": {},
   "outputs": [
    {
     "data": {
      "text/html": [
       "<img src=\"./DecorrelatingYourDataAndDimensionReductionImg/19.png\" width=\"400\"/>"
      ],
      "text/plain": [
       "<IPython.core.display.Image object>"
      ]
     },
     "execution_count": 21,
     "metadata": {},
     "output_type": "execute_result"
    }
   ],
   "source": [
    "Image(url= \"./DecorrelatingYourDataAndDimensionReductionImg/19.png\", width=400)"
   ]
  },
  {
   "cell_type": "code",
   "execution_count": 22,
   "id": "de6c1184",
   "metadata": {},
   "outputs": [
    {
     "data": {
      "text/html": [
       "<img src=\"./DecorrelatingYourDataAndDimensionReductionImg/20.png\" width=\"400\"/>"
      ],
      "text/plain": [
       "<IPython.core.display.Image object>"
      ]
     },
     "execution_count": 22,
     "metadata": {},
     "output_type": "execute_result"
    }
   ],
   "source": [
    "Image(url= \"./DecorrelatingYourDataAndDimensionReductionImg/20.png\", width=400)"
   ]
  },
  {
   "cell_type": "code",
   "execution_count": 23,
   "id": "6786b8c4",
   "metadata": {},
   "outputs": [
    {
     "data": {
      "text/html": [
       "<img src=\"./DecorrelatingYourDataAndDimensionReductionImg/21.png\" width=\"400\"/>"
      ],
      "text/plain": [
       "<IPython.core.display.Image object>"
      ]
     },
     "execution_count": 23,
     "metadata": {},
     "output_type": "execute_result"
    }
   ],
   "source": [
    "Image(url= \"./DecorrelatingYourDataAndDimensionReductionImg/21.png\", width=400)"
   ]
  },
  {
   "cell_type": "code",
   "execution_count": 24,
   "id": "66533f83",
   "metadata": {},
   "outputs": [
    {
     "data": {
      "text/html": [
       "<img src=\"./DecorrelatingYourDataAndDimensionReductionImg/22.png\" width=\"400\"/>"
      ],
      "text/plain": [
       "<IPython.core.display.Image object>"
      ]
     },
     "execution_count": 24,
     "metadata": {},
     "output_type": "execute_result"
    }
   ],
   "source": [
    "Image(url= \"./DecorrelatingYourDataAndDimensionReductionImg/22.png\", width=400)"
   ]
  },
  {
   "cell_type": "code",
   "execution_count": 25,
   "id": "45d3eef2",
   "metadata": {},
   "outputs": [
    {
     "data": {
      "text/html": [
       "<img src=\"./DecorrelatingYourDataAndDimensionReductionImg/23.png\" width=\"400\"/>"
      ],
      "text/plain": [
       "<IPython.core.display.Image object>"
      ]
     },
     "execution_count": 25,
     "metadata": {},
     "output_type": "execute_result"
    }
   ],
   "source": [
    "Image(url= \"./DecorrelatingYourDataAndDimensionReductionImg/23.png\", width=400)"
   ]
  },
  {
   "cell_type": "code",
   "execution_count": 26,
   "id": "da311a84",
   "metadata": {},
   "outputs": [
    {
     "data": {
      "text/html": [
       "<img src=\"./DecorrelatingYourDataAndDimensionReductionImg/24.png\" width=\"400\"/>"
      ],
      "text/plain": [
       "<IPython.core.display.Image object>"
      ]
     },
     "execution_count": 26,
     "metadata": {},
     "output_type": "execute_result"
    }
   ],
   "source": [
    "Image(url= \"./DecorrelatingYourDataAndDimensionReductionImg/24.png\", width=400)"
   ]
  },
  {
   "cell_type": "markdown",
   "id": "346fcfa9",
   "metadata": {},
   "source": [
    "<h4>Exercise</h4>\n",
    "    <h2>The first principal component</h2>\n",
    "The first principal component of the data is the direction in which the data varies the most. In this exercise, your job is to use PCA to find the first principal component of the length and width measurements of the grain samples, and represent it as an arrow on the scatter plot.\n",
    "\n",
    "The array grains gives the length and width of the grain samples. PyPlot (plt) and PCA have already been imported for you.\n",
    "\n",
    "<h4>Instructions</h4>\n",
    "<ul>\n",
    "    <li>Make a scatter plot of the grain measurements. This has been done for you.</li>\n",
    "    <li>Create a PCA instance called model.</li>\n",
    "    <li>Fit the model to the grains data.</li>\n",
    "    <li>Extract the coordinates of the mean of the data using the .mean_ attribute of model.</li>\n",
    "    <li>Get the first principal component of model using the .components_[0,:] attribute.</li>\n",
    "    <li>Plot the first principal component as an arrow on the scatter plot, using the plt.arrow() function. You have to specify the first two arguments - mean[0] and mean[1].</li>\n",
    "</ul>"
   ]
  },
  {
   "cell_type": "markdown",
   "id": "40ead358",
   "metadata": {},
   "source": [
    "Excellent job! This is the direction in which the grain data varies the most."
   ]
  },
  {
   "cell_type": "code",
   "execution_count": 29,
   "id": "f308ad66",
   "metadata": {},
   "outputs": [
    {
     "data": {
      "text/html": [
       "<img src=\"./DecorrelatingYourDataAndDimensionReductionImg/25.png\" width=\"400\"/>"
      ],
      "text/plain": [
       "<IPython.core.display.Image object>"
      ]
     },
     "execution_count": 29,
     "metadata": {},
     "output_type": "execute_result"
    }
   ],
   "source": [
    "Image(url= \"./DecorrelatingYourDataAndDimensionReductionImg/25.png\", width=400)"
   ]
  },
  {
   "cell_type": "markdown",
   "id": "184f1e14",
   "metadata": {},
   "source": [
    "<h4>Exercise</h4>\n",
    "Variance of the PCA features\n",
    "The fish dataset is 6-dimensional. But what is its intrinsic dimension? Make a plot of the variances of the PCA features to find out. As before, samples is a 2D array, where each row represents a fish. You'll need to standardize the features first.\n",
    "\n",
    "<h4>Instructions</h4>\n",
    "<ul>\n",
    "    <li>Create an instance of StandardScaler called scaler.</li>\n",
    "    <li>Create a PCA instance called pca.</li>\n",
    "    <li>Use the make_pipeline() function to create a pipeline chaining scaler and pca.</li>\n",
    "    <li>Use the .fit() method of pipeline to fit it to the fish samples samples.</li>\n",
    "    <li>Extract the number of components used using the .n_components_ attribute of pca. Place this inside a range() function and store the result as features.</li>\n",
    "    <li>Use the plt.bar() function to plot the explained variances, with features on the x-axis and pca.explained_variance_ on the y-axis.</li>\n",
    "</ul>"
   ]
  },
  {
   "cell_type": "raw",
   "id": "82943044",
   "metadata": {},
   "source": [
    "# Perform the necessary imports\n",
    "from sklearn.decomposition import PCA\n",
    "from sklearn.preprocessing import StandardScaler\n",
    "from sklearn.pipeline import make_pipeline\n",
    "import matplotlib.pyplot as plt\n",
    "\n",
    "# Create scaler: scaler\n",
    "scaler = StandardScaler()\n",
    "\n",
    "# Create a PCA instance: pca\n",
    "pca = PCA()\n",
    "\n",
    "# Create pipeline: pipeline\n",
    "pipeline = make_pipeline(scaler, pca)\n",
    "\n",
    "# Fit the pipeline to 'samples'\n",
    "pipeline.fit(samples)\n",
    "\n",
    "# Plot the explained variances\n",
    "features = range(pca.n_components_)\n",
    "plt.bar(features, pca.explained_variance_)\n",
    "plt.xlabel('PCA feature')\n",
    "plt.ylabel('variance')\n",
    "plt.xticks(features)\n",
    "plt.show()"
   ]
  },
  {
   "cell_type": "markdown",
   "id": "ff8c0508",
   "metadata": {},
   "source": [
    "Great work! It looks like PCA features 0 and 1 have significant variance."
   ]
  },
  {
   "cell_type": "markdown",
   "id": "73d654e3",
   "metadata": {},
   "source": [
    "Great job! Since PCA features 0 and 1 have significant variance, the intrinsic dimension of this dataset appears to be 2."
   ]
  },
  {
   "cell_type": "code",
   "execution_count": null,
   "id": "d17f9a46",
   "metadata": {},
   "outputs": [],
   "source": []
  },
  {
   "cell_type": "code",
   "execution_count": null,
   "id": "c44c90d8",
   "metadata": {},
   "outputs": [],
   "source": []
  },
  {
   "cell_type": "code",
   "execution_count": null,
   "id": "a3eba51c",
   "metadata": {},
   "outputs": [],
   "source": []
  },
  {
   "cell_type": "markdown",
   "id": "b9fd022a",
   "metadata": {},
   "source": [
    "<h4>Exercise</h4>\n",
    "<h2>Dimension reduction of the fish measurements</h2>\n",
    "In a previous exercise, you saw that 2 was a reasonable choice for the \"intrinsic dimension\" of the fish measurements. Now use PCA for dimensionality reduction of the fish measurements, retaining only the 2 most important components.\n",
    "\n",
    "The fish measurements have already been scaled for you, and are available as scaled_samples.\n",
    "\n",
    "<h4>Instructions</h4>\n",
    "<ul>\n",
    "    <li>Import PCA from sklearn.decomposition.</li>\n",
    "    <li>Create a PCA instance called pca with n_components=2.</li>\n",
    "    <li>Use the .fit() method of pca to fit it to the scaled fish measurements scaled_samples.</li>\n",
    "    <li>Use the .transform() method of pca to transform the scaled_samples. Assign the result to pca_features.</li>\n",
    "</ul>"
   ]
  },
  {
   "cell_type": "raw",
   "id": "dd75ef6f",
   "metadata": {},
   "source": [
    "# Import PCA\n",
    "from sklearn.decomposition import PCA\n",
    "\n",
    "# Create a PCA model with 2 components: pca\n",
    "pca = PCA(n_components=2)\n",
    "\n",
    "# Fit the PCA instance to the scaled samples\n",
    "pca.fit(scaled_samples)\n",
    "\n",
    "# Transform the scaled samples: pca_features\n",
    "pca_features = pca.transform(scaled_samples)\n",
    "\n",
    "# Print the shape of pca_features\n",
    "print(pca_features.shape)\n"
   ]
  },
  {
   "cell_type": "markdown",
   "id": "80f75163",
   "metadata": {},
   "source": [
    "Superb! You've successfully reduced the dimensionality from 6 to 2."
   ]
  },
  {
   "cell_type": "markdown",
   "id": "7b44678e",
   "metadata": {},
   "source": [
    "<h4>Exercise</h4>\n",
    "<h2>A tf-idf word-frequency array</h2>\n",
    "In this exercise, you'll create a tf-idf word frequency array for a toy collection of documents. For this, use the TfidfVectorizer from sklearn. It transforms a list of documents into a word frequency array, which it outputs as a csr_matrix. It has fit() and transform() methods like other sklearn objects.\n",
    "\n",
    "You are given a list documents of toy documents about pets. Its contents have been printed in the IPython Shell.\n",
    "\n",
    "<h4>Instructions</h4>\n",
    "<ul>\n",
    "    <li>Import TfidfVectorizer from sklearn.feature_extraction.text.</li>\n",
    "    <li>Create a TfidfVectorizer instance called tfidf.</li>\n",
    "    <li>Apply .fit_transform() method of tfidf to documents and assign the result to csr_mat. This is a word-frequency array in csr_matrix format.</li>\n",
    "    <li>Inspect csr_mat by calling its .toarray() method and printing the result. This has been done for you.</li>\n",
    "    <li>The columns of the array correspond to words. Get the list of words by calling the .get_feature_names() method of tfidf, and assign the result to words.</li>\n",
    "</ul>"
   ]
  },
  {
   "cell_type": "raw",
   "id": "57694357",
   "metadata": {},
   "source": [
    "# Import TfidfVectorizer\n",
    "from sklearn.feature_extraction.text import TfidfVectorizer\n",
    "\n",
    "# Create a TfidfVectorizer: tfidf\n",
    "tfidf = TfidfVectorizer() \n",
    "\n",
    "# Apply fit_transform to document: csr_mat\n",
    "csr_mat = tfidf.fit_transform(documents)\n",
    "\n",
    "# Print result of toarray() method\n",
    "print(csr_mat.toarray())\n",
    "\n",
    "# Get the words: words\n",
    "words = tfidf.get_feature_names()\n",
    "\n",
    "# Print words\n",
    "print(words)\n"
   ]
  },
  {
   "cell_type": "raw",
   "id": "24bbc8ae",
   "metadata": {},
   "source": [
    "[[0.51785612 0.         0.         0.68091856 0.51785612 0.        ]\n",
    " [0.         0.         0.51785612 0.         0.51785612 0.68091856]\n",
    " [0.51785612 0.68091856 0.51785612 0.         0.         0.        ]]\n",
    "['cats', 'chase', 'dogs', 'meow', 'say', 'woof']"
   ]
  },
  {
   "cell_type": "markdown",
   "id": "0bb5d031",
   "metadata": {},
   "source": [
    "Great work! You'll now move to clustering Wikipedia articles!"
   ]
  },
  {
   "cell_type": "markdown",
   "id": "1a0f9571",
   "metadata": {},
   "source": [
    "<h4>Exercise</h4>\n",
    "<h2>Clustering Wikipedia part I</h2>\n",
    "You saw in the video that TruncatedSVD is able to perform PCA on sparse arrays in csr_matrix format, such as word-frequency arrays. Combine your knowledge of TruncatedSVD and k-means to cluster some popular pages from Wikipedia. In this exercise, build the pipeline. In the next exercise, you'll apply it to the word-frequency array of some Wikipedia articles.\n",
    "\n",
    "Create a Pipeline object consisting of a TruncatedSVD followed by KMeans. (This time, we've precomputed the word-frequency matrix for you, so there's no need for a TfidfVectorizer).\n",
    "\n",
    "The Wikipedia dataset you will be working with was obtained from here.\n",
    "\n",
    "<h4>Instructions</h4>\n",
    "<ul>\n",
    "    <li>Import:\n",
    "        <ul>\n",
    "            <li>TruncatedSVD from sklearn.decomposition.</li>\n",
    "            <li>KMeans from sklearn.cluster.</li>\n",
    "            <li>make_pipeline from sklearn.pipeline.</li>\n",
    "        </ul>\n",
    "    </li>\n",
    "    <li>Create a TruncatedSVD instance called svd with n_components=50.</li>\n",
    "    <li>Create a KMeans instance called kmeans with n_clusters=6.</li>\n",
    "    <li>Create a pipeline called pipeline consisting of svd and kmeans.</li>\n",
    "</ul>"
   ]
  },
  {
   "cell_type": "raw",
   "id": "329dadb8",
   "metadata": {},
   "source": [
    "# Perform the necessary imports\n",
    "from sklearn.decomposition import TruncatedSVD\n",
    "from sklearn.cluster import KMeans\n",
    "from sklearn.pipeline import make_pipeline\n",
    "\n",
    "# Create a TruncatedSVD instance: svd\n",
    "svd = TruncatedSVD(n_components=50)\n",
    "\n",
    "# Create a KMeans instance: kmeans\n",
    "kmeans = KMeans(n_clusters=6)\n",
    "\n",
    "# Create a pipeline: pipeline\n",
    "pipeline = make_pipeline(svd, kmeans)\n"
   ]
  },
  {
   "cell_type": "markdown",
   "id": "ae2e6b38",
   "metadata": {},
   "source": [
    "Excellent! Now that you have set up your pipeline, you will use it in the next exercise to cluster the articles."
   ]
  },
  {
   "cell_type": "markdown",
   "id": "5feef702",
   "metadata": {},
   "source": [
    "<h4>Exercise</h4>\n",
    "<h2>Clustering Wikipedia part II</h2>\n",
    "It is now time to put your pipeline from the previous exercise to work! You are given an array articles of tf-idf word-frequencies of some popular Wikipedia articles, and a list titles of their titles. Use your pipeline to cluster the Wikipedia articles.\n",
    "\n",
    "A solution to the previous exercise has been pre-loaded for you, so a Pipeline pipeline chaining TruncatedSVD with KMeans is available.\n",
    "\n",
    "<h4>Instructions</h4>\n",
    "<ul>\n",
    "    <li>Import pandas as pd.</li>\n",
    "    <li>Fit the pipeline to the word-frequency array articles.</li>\n",
    "    <li>Predict the cluster labels.</li>\n",
    "    <li>Align the cluster labels with the list titles of article titles by creating a DataFrame df with labels and titles as columns. This has been done for you.</li>\n",
    "    <li>Use the .sort_values() method of df to sort the DataFrame by the 'label' column, and print the result.</li>\n",
    "    <li>Hit submit and take a moment to investigate your amazing clustering of Wikipedia pages!</li>\n",
    "</ul>"
   ]
  },
  {
   "cell_type": "raw",
   "id": "905e9a5c",
   "metadata": {},
   "source": [
    "# Import pandas\n",
    "import pandas as pd\n",
    "\n",
    "# Fit the pipeline to articles\n",
    "pipeline.fit(articles)\n",
    "\n",
    "# Calculate the cluster labels: labels\n",
    "labels = pipeline.predict(articles)\n",
    "\n",
    "# Create a DataFrame aligning labels and titles: df\n",
    "df = pd.DataFrame({'label': labels, 'article': titles})\n",
    "\n",
    "# Display df sorted by cluster label\n",
    "print(df.sort_values('label'))\n"
   ]
  },
  {
   "cell_type": "raw",
   "id": "f521daa4",
   "metadata": {},
   "source": [
    "label                                        article\n",
    "59      0                                    Adam Levine\n",
    "50      0                                   Chad Kroeger\n",
    "51      0                                     Nate Ruess\n",
    "52      0                                     The Wanted\n",
    "53      0                                   Stevie Nicks\n",
    "58      0                                         Sepsis\n",
    "55      0                                  Black Sabbath\n",
    "56      0                                       Skrillex\n",
    "57      0                          Red Hot Chili Peppers\n",
    "54      0                                 Arctic Monkeys\n",
    "21      1                             Michael Fassbender\n",
    "28      1                                  Anne Hathaway\n",
    "27      1                                 Dakota Fanning\n",
    "26      1                                     Mila Kunis\n",
    "25      1                                  Russell Crowe\n",
    "24      1                                   Jessica Biel\n",
    "23      1                           Catherine Zeta-Jones\n",
    "22      1                              Denzel Washington\n",
    "20      1                                 Angelina Jolie\n",
    "29      1                               Jennifer Aniston\n",
    "18      2  2010 United Nations Climate Change Conference\n",
    "10      2                                 Global warming\n",
    "11      2       Nationally Appropriate Mitigation Action\n",
    "12      2                                   Nigel Lawson\n",
    "13      2                               Connie Hedegaard\n",
    "19      2  2007 United Nations Climate Change Conference\n",
    "15      2                                 Kyoto Protocol\n",
    "16      2                                        350.org\n",
    "17      2  Greenhouse gas emissions by the United States\n",
    "14      2                                 Climate change\n",
    "40      3                                    Tonsillitis\n",
    "48      3                                     Gabapentin\n",
    "47      3                                          Fever\n",
    "46      3                                     Prednisone\n",
    "45      3                                    Hepatitis C\n",
    "44      3                                           Gout\n",
    "43      3                                       Leukemia\n",
    "42      3                                    Doxycycline\n",
    "41      3                                    Hepatitis B\n",
    "49      3                                       Lymphoma\n",
    "39      4                                  Franck Ribéry\n",
    "37      4                                       Football\n",
    "36      4              2014 FIFA World Cup qualification\n",
    "35      4                Colombia national football team\n",
    "34      4                             Zlatan Ibrahimović\n",
    "33      4                                 Radamel Falcao\n",
    "32      4                                   Arsenal F.C.\n",
    "31      4                              Cristiano Ronaldo\n",
    "30      4                  France national football team\n",
    "38      4                                         Neymar\n",
    "1       5                                 Alexa Internet\n",
    "2       5                              Internet Explorer\n",
    "3       5                                    HTTP cookie\n",
    "4       5                                  Google Search\n",
    "8       5                                        Firefox\n",
    "6       5                    Hypertext Transfer Protocol\n",
    "7       5                                  Social search\n",
    "9       5                                       LinkedIn\n",
    "5       5                                         Tumblr\n",
    "0       5                                       HTTP 404"
   ]
  },
  {
   "cell_type": "markdown",
   "id": "664ed35d",
   "metadata": {},
   "source": [
    "Fantastic! Take a look at the cluster labels and see if you can identify any patterns!"
   ]
  },
  {
   "cell_type": "code",
   "execution_count": null,
   "id": "3d475db4",
   "metadata": {},
   "outputs": [],
   "source": []
  }
 ],
 "metadata": {
  "kernelspec": {
   "display_name": "Python 3 (ipykernel)",
   "language": "python",
   "name": "python3"
  },
  "language_info": {
   "codemirror_mode": {
    "name": "ipython",
    "version": 3
   },
   "file_extension": ".py",
   "mimetype": "text/x-python",
   "name": "python",
   "nbconvert_exporter": "python",
   "pygments_lexer": "ipython3",
   "version": "3.9.7"
  }
 },
 "nbformat": 4,
 "nbformat_minor": 5
}
