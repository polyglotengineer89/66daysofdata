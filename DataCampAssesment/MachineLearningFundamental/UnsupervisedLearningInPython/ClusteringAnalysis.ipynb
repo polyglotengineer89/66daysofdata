{
 "cells": [
  {
   "cell_type": "code",
   "execution_count": 2,
   "id": "267a5394",
   "metadata": {},
   "outputs": [
    {
     "data": {
      "text/html": [
       "<img src=\"./ClusteringAnalysisImg/1.png\" width=\"400\"/>"
      ],
      "text/plain": [
       "<IPython.core.display.Image object>"
      ]
     },
     "execution_count": 2,
     "metadata": {},
     "output_type": "execute_result"
    }
   ],
   "source": [
    "from IPython.display import Image\n",
    "\n",
    "\n",
    "Image(url= \"./ClusteringAnalysisImg/1.png\", width=400)"
   ]
  },
  {
   "cell_type": "code",
   "execution_count": 3,
   "id": "d5a7b629",
   "metadata": {},
   "outputs": [
    {
     "data": {
      "text/html": [
       "<img src=\"./ClusteringAnalysisImg/2.png\" width=\"400\"/>"
      ],
      "text/plain": [
       "<IPython.core.display.Image object>"
      ]
     },
     "execution_count": 3,
     "metadata": {},
     "output_type": "execute_result"
    }
   ],
   "source": [
    "Image(url= \"./ClusteringAnalysisImg/2.png\", width=400)"
   ]
  },
  {
   "cell_type": "code",
   "execution_count": 4,
   "id": "c382f83a",
   "metadata": {},
   "outputs": [
    {
     "data": {
      "text/html": [
       "<img src=\"./ClusteringAnalysisImg/3.png\" width=\"400\"/>"
      ],
      "text/plain": [
       "<IPython.core.display.Image object>"
      ]
     },
     "execution_count": 4,
     "metadata": {},
     "output_type": "execute_result"
    }
   ],
   "source": [
    "Image(url= \"./ClusteringAnalysisImg/3.png\", width=400)"
   ]
  },
  {
   "cell_type": "code",
   "execution_count": 5,
   "id": "fc46c93d",
   "metadata": {},
   "outputs": [
    {
     "data": {
      "text/html": [
       "<img src=\"./ClusteringAnalysisImg/4.png\" width=\"400\"/>"
      ],
      "text/plain": [
       "<IPython.core.display.Image object>"
      ]
     },
     "execution_count": 5,
     "metadata": {},
     "output_type": "execute_result"
    }
   ],
   "source": [
    "Image(url= \"./ClusteringAnalysisImg/4.png\", width=400)"
   ]
  },
  {
   "cell_type": "markdown",
   "id": "eb50c43c",
   "metadata": {},
   "source": [
    "<h3>Exercise</h3>\n",
    "Pokémon sightings\n",
    "There have been reports of sightings of rare, legendary Pokémon. You have been asked to investigate! Plot the coordinates of sightings to find out where the Pokémon might be. The X and Y coordinates of the points are stored in list x and y, respectively.\n",
    "\n",
    "<h3>Instructions</h3>\n",
    "<ul>\n",
    "    <li>Import the pyplot class from matplotlib library as plt.</li>\n",
    "    <li>Create a scatter plot using the pyplot class.</li>\n",
    "    <li>Display the scatter plot created in the earlier step.</li>\n",
    "</ul>"
   ]
  },
  {
   "cell_type": "raw",
   "id": "eb5cee78",
   "metadata": {},
   "source": [
    "# Import plotting class from matplotlib library\n",
    "from matplotlib import pyplot as plt\n",
    "\n",
    "# Create a scatter plot\n",
    "plt.scatter(x, y)\n",
    "\n",
    "# Display the scatter plot\n",
    "plt.show()"
   ]
  },
  {
   "cell_type": "markdown",
   "id": "641e2178",
   "metadata": {},
   "source": [
    "That is correct! Notice the areas where the sightings are dense. This indicates that there is not one, but two legendary Pokémon out there!"
   ]
  }
 ],
 "metadata": {
  "kernelspec": {
   "display_name": "Python 3 (ipykernel)",
   "language": "python",
   "name": "python3"
  },
  "language_info": {
   "codemirror_mode": {
    "name": "ipython",
    "version": 3
   },
   "file_extension": ".py",
   "mimetype": "text/x-python",
   "name": "python",
   "nbconvert_exporter": "python",
   "pygments_lexer": "ipython3",
   "version": "3.9.7"
  }
 },
 "nbformat": 4,
 "nbformat_minor": 5
}
