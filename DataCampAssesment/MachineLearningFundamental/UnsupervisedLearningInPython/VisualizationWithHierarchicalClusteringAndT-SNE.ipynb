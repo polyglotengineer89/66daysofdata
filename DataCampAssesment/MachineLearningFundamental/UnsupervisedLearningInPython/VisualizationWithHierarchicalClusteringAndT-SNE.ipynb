{
 "cells": [
  {
   "cell_type": "markdown",
   "metadata": {},
   "source": [
    "<h2>Visualization Communicate Insight</h2>"
   ]
  },
  {
   "cell_type": "markdown",
   "metadata": {},
   "source": [
    "<ul>\n",
    "    <li>\"t-SNE\": Create 2D map of dataset(later)</li>\n",
    "    <li>Hierarchical Clustering</li>\n",
    "</ul>\n",
    "<h3>A hierarchy of Group</h3>\n",
    "<ul>\n",
    "    <li>Group of living things can form a hierarcy</li>\n",
    "</ul>\n"
   ]
  },
  {
   "cell_type": "code",
   "execution_count": 2,
   "metadata": {},
   "outputs": [
    {
     "data": {
      "text/html": [
       "<img src=\"./VisualizationWithHierarchicalClusteringImg/1.png\" width=\"400\"/>"
      ],
      "text/plain": [
       "<IPython.core.display.Image object>"
      ]
     },
     "execution_count": 2,
     "metadata": {},
     "output_type": "execute_result"
    }
   ],
   "source": [
    "from IPython.display import Image\n",
    "\n",
    "\n",
    "Image(url= \"./VisualizationWithHierarchicalClusteringImg/1.png\", width=400)"
   ]
  },
  {
   "cell_type": "markdown",
   "metadata": {},
   "source": [
    "\n",
    "<h3>Eurovision Scoring Dataset</h3>\n",
    "<ul>\n",
    "    <li>Country gave scores to song performed at Eurovision 2016</li>\n",
    "    <li>2D array of scores</li>\n",
    "    <li>Row are countries, columns are songs</li>\n",
    "</ul>\n"
   ]
  },
  {
   "cell_type": "code",
   "execution_count": 3,
   "metadata": {},
   "outputs": [
    {
     "data": {
      "text/html": [
       "<img src=\"./VisualizationWithHierarchicalClusteringImg/2.png\" width=\"400\"/>"
      ],
      "text/plain": [
       "<IPython.core.display.Image object>"
      ]
     },
     "execution_count": 3,
     "metadata": {},
     "output_type": "execute_result"
    }
   ],
   "source": [
    "Image(url= \"./VisualizationWithHierarchicalClusteringImg/2.png\", width=400)"
   ]
  },
  {
   "cell_type": "markdown",
   "metadata": {},
   "source": [
    "<h3>Hierarchical Clustering</h3>\n",
    "<ul>\n",
    "    <li>Every country begin in separate cluster</li>\n",
    "    <li>At each step two clostest cluster are merged</li>\n",
    "    <li>Continue Until all country in a single cluster</li>\n",
    "    <li>This is \"agglomerative\" hierarchical clustering</li>\n",
    "</ul>"
   ]
  },
  {
   "cell_type": "code",
   "execution_count": 2,
   "metadata": {},
   "outputs": [
    {
     "data": {
      "text/html": [
       "<img src=\"./VisualizationWithHierarchicalClusteringImg/3.png\" width=\"400\"/>"
      ],
      "text/plain": [
       "<IPython.core.display.Image object>"
      ]
     },
     "execution_count": 2,
     "metadata": {},
     "output_type": "execute_result"
    }
   ],
   "source": [
    "Image(url= \"./VisualizationWithHierarchicalClusteringImg/3.png\", width=400)"
   ]
  },
  {
   "cell_type": "markdown",
   "metadata": {},
   "source": [
    "<h3>The Dendogram of a hierarichical Clustering</h3>\n",
    "<ul>\n",
    "    <li>Read From the bottom up</li>\n",
    "    <li>Vertical Line Represent Cluster</li>\n",
    "</ul>"
   ]
  },
  {
   "cell_type": "code",
   "execution_count": 4,
   "metadata": {},
   "outputs": [
    {
     "data": {
      "text/html": [
       "<img src=\"./VisualizationWithHierarchicalClusteringImg/4.png\" width=\"400\"/>"
      ],
      "text/plain": [
       "<IPython.core.display.Image object>"
      ]
     },
     "execution_count": 4,
     "metadata": {},
     "output_type": "execute_result"
    }
   ],
   "source": [
    "Image(url= \"./VisualizationWithHierarchicalClusteringImg/4.png\", width=400)"
   ]
  },
  {
   "cell_type": "code",
   "execution_count": 5,
   "metadata": {},
   "outputs": [
    {
     "data": {
      "text/html": [
       "<img src=\"./VisualizationWithHierarchicalClusteringImg/5.png\" width=\"400\"/>"
      ],
      "text/plain": [
       "<IPython.core.display.Image object>"
      ]
     },
     "execution_count": 5,
     "metadata": {},
     "output_type": "execute_result"
    }
   ],
   "source": [
    "Image(url= \"./VisualizationWithHierarchicalClusteringImg/5.png\", width=400)"
   ]
  },
  {
   "cell_type": "markdown",
   "metadata": {},
   "source": [
    "<h3>Hierarchical clustering of the grain data</h3>\n",
    "In the video, you learned that the SciPy linkage() function performs hierarchical clustering on an array of samples. Use the linkage() function to obtain a hierarchical clustering of the grain samples, and use dendrogram() to visualize the result. A sample of the grain measurements is provided in the array samples, while the variety of each grain sample is given by the list varieties.\n",
    "\n",
    "<h3>Instructions</h3>\n",
    "\n",
    "\n",
    "<ul>\n",
    "    <li>Import:\n",
    "        <ul>\n",
    "            <li>linkage and dendrogram from scipy.cluster.hierarchy.</li>\n",
    "            <li>matplotlib.pyplot as plt.</li>\n",
    "        </ul>\n",
    "    </li>\n",
    "    <li>Perform hierarchical clustering on samples using the linkage() function with the method='complete' keyword argument. Assign the result to mergings.</li>\n",
    "    <li>Plot a dendrogram using the dendrogram() function on mergings. Specify the keyword arguments labels=varieties, leaf_rotation=90, and leaf_font_size=6.</li>\n",
    "</ul>"
   ]
  },
  {
   "cell_type": "code",
   "execution_count": 9,
   "metadata": {},
   "outputs": [],
   "source": [
    "samples =[\n",
    "         [14.88,   14.57,    0.8811,  5.554,   3.333,   1.018,   4.956 ],\n",
    "         [14.69,   14.49,    0.8799,  5.563,   3.259,   3.586,   5.219 ],\n",
    "         [14.03,   14.16,    0.8796,  5.438,   3.201,   1.717,   5.001 ],\n",
    "         [13.99,   13.83,    0.9183,  5.119,   3.383,   5.234,   4.781 ],\n",
    "         [14.11,   14.26,    0.8722,  5.52 ,   3.168,   2.688,   5.219 ],\n",
    "         [13.02,   13.76,    0.8641,  5.395,   3.026,   3.373,   4.825 ],\n",
    "         [15.49,   14.94,    0.8724,  5.757,   3.371,   3.412,   5.228 ],\n",
    "         [16.2 ,   15.27,    0.8734,  5.826,   3.464,   2.823,   5.527 ],\n",
    "         [13.5 ,   13.85,    0.8852,  5.351,   3.158,   2.249,   5.176 ],\n",
    "         [15.36,   14.76,    0.8861,  5.701,   3.393,   1.367,   5.132 ],\n",
    "         [15.78,   14.91,    0.8923,  5.674,   3.434,   5.593,   5.136 ],\n",
    "         [14.46,   14.35,    0.8818,  5.388,   3.377,   2.802,   5.044 ],\n",
    "         [11.23,   12.63,    0.884 ,  4.902,   2.879,   2.269,   4.703 ],\n",
    "         [14.34,   14.37,    0.8726,  5.63 ,   3.19 ,   1.313,   5.15  ],\n",
    "         [16.84,   15.67,    0.8623,  5.998,   3.484,   4.675,   5.877 ],\n",
    "         [17.32,   15.91,    0.8599,  6.064,   3.403,   3.824,   5.922 ],\n",
    "         [18.72,   16.19,    0.8977,  6.006,   3.857,   5.324,   5.879 ],\n",
    "         [18.88,   16.26,    0.8969,  6.084,   3.764,   1.649,   6.109 ],\n",
    "         [18.76,   16.2 ,    0.8984,  6.172,   3.796,   3.12 ,   6.053 ],\n",
    "         [19.31,   16.59,    0.8815,  6.341,   3.81 ,   3.477,   6.238 ],\n",
    "         [17.99,   15.86,    0.8992,  5.89 ,   3.694,   2.068,   5.837 ],\n",
    "         [18.85,   16.17,    0.9056,  6.152,   3.806,   2.843,   6.2   ],\n",
    "         [19.38,   16.72,    0.8716,  6.303,   3.791,   3.678,   5.965 ],\n",
    "         [18.96,   16.2 ,    0.9077,  6.051,   3.897,   4.334,   5.75  ],\n",
    "         [18.14,   16.12,    0.8772,  6.059,   3.563,   3.619,   6.011 ],\n",
    "         [18.65,   16.41,    0.8698,  6.285,   3.594,   4.391,   6.102 ],\n",
    "         [18.94,   16.32,    0.8942,  6.144,   3.825,   2.908,   5.949 ],\n",
    "         [17.36,   15.76,    0.8785,  6.145,   3.574,   3.526,   5.971 ],\n",
    "         [13.32,   13.94,    0.8613,  5.541,   3.073,   7.035,   5.44  ],\n",
    "         [11.43,   13.13,    0.8335,  5.176,   2.719,   2.221,   5.132 ],\n",
    "         [12.01,   13.52,    0.8249,  5.405,   2.776,   6.992,   5.27  ],\n",
    "         [11.34,   12.87,    0.8596,  5.053,   2.849,   3.347,   5.003 ],\n",
    "         [12.02,   13.33,    0.8503,  5.35 ,   2.81 ,   4.271,   5.308 ],\n",
    "         [12.44,   13.59,    0.8462,  5.319,   2.897,   4.924,   5.27  ],\n",
    "         [11.55,   13.1 ,    0.8455,  5.167,   2.845,   6.715,   4.956 ],\n",
    "         [11.26,   13.01,    0.8355,  5.186,   2.71 ,   5.335,   5.092 ],\n",
    "         [12.46,   13.41,    0.8706,  5.236,   3.017,   4.987,   5.147 ],\n",
    "         [11.81,   13.45,    0.8198,  5.413,   2.716,   4.898,   5.352 ],\n",
    "         [11.27,   12.86,    0.8563,  5.091,   2.804,   3.985,   5.001 ],\n",
    "         [12.79,   13.53,    0.8786,  5.224,   3.054,   5.483,   4.958 ],\n",
    "         [12.67,   13.32,    0.8977,  4.984,   3.135,   2.3  ,   4.745 ],\n",
    "         [11.23,   12.88,    0.8511,  5.14 ,   2.795,   4.325,   5.003 ],\n",
    "]\n",
    "\n",
    "varieties = ['Kama wheat', 'Kama wheat', 'Kama wheat', 'Kama wheat', 'Kama wheat', 'Kama wheat', 'Kama wheat', 'Kama wheat', 'Kama wheat', 'Kama wheat', 'Kama wheat', 'Kama wheat', 'Kama wheat', 'Kama wheat', 'Rosa wheat', 'Rosa wheat', 'Rosa wheat', 'Rosa wheat', 'Rosa wheat', 'Rosa wheat', 'Rosa wheat', 'Rosa wheat', 'Rosa wheat', 'Rosa wheat', 'Rosa wheat', 'Rosa wheat', 'Rosa wheat', 'Rosa wheat', 'Canadian wheat', 'Canadian wheat', 'Canadian wheat', 'Canadian wheat', 'Canadian wheat', 'Canadian wheat', 'Canadian wheat', 'Canadian wheat', 'Canadian wheat', 'Canadian wheat', 'Canadian wheat', 'Canadian wheat', 'Canadian wheat', 'Canadian wheat']"
   ]
  },
  {
   "cell_type": "code",
   "execution_count": 10,
   "metadata": {},
   "outputs": [
    {
     "data": {
      "image/png": "[encoded data removed]",
      "text/plain": [
       "<Figure size 432x288 with 1 Axes>"
      ]
     },
     "metadata": {
      "needs_background": "light"
     },
     "output_type": "display_data"
    }
   ],
   "source": [
    "# Perform the necessary imports\n",
    "from scipy.cluster.hierarchy import linkage, dendrogram\n",
    "import matplotlib.pyplot as plt\n",
    "\n",
    "# Calculate the linkage: mergings\n",
    "mergings = linkage(samples, method='complete')\n",
    "\n",
    "# Plot the dendrogram, using varieties as labels\n",
    "dendrogram(mergings,\n",
    "           labels=varieties,\n",
    "           leaf_rotation=90,\n",
    "           leaf_font_size=6,\n",
    ")\n",
    "plt.show()"
   ]
  },
  {
   "cell_type": "markdown",
   "metadata": {},
   "source": [
    "Superb! Dendrograms are a great way to illustrate the arrangement of the clusters produced by hierarchical clustering."
   ]
  },
  {
   "cell_type": "markdown",
   "metadata": {},
   "source": [
    "<h3>Exercise</h3>\n",
    "Hierarchies of stocks\n",
    "In chapter 1, you used k-means clustering to cluster companies according to their stock price movements. Now, you'll perform hierarchical clustering of the companies. You are given a NumPy array of price movements movements, where the rows correspond to companies, and a list of the company names companies. SciPy hierarchical clustering doesn't fit into a sklearn pipeline, so you'll need to use the normalize() function from sklearn.preprocessing instead of Normalizer.\n",
    "\n",
    "linkage and dendrogram have already been imported from scipy.cluster.hierarchy, and PyPlot has been imported as plt.\n",
    "\n",
    "<h3>Instructions</h3>\n",
    "\n",
    "Import normalize from sklearn.preprocessing.\n",
    "Rescale the price movements for each stock by using the normalize() function on movements.\n",
    "Apply the linkage() function to normalized_movements, using 'complete' linkage, to calculate the hierarchical clustering. Assign the result to mergings.\n",
    "Plot a dendrogram of the hierarchical clustering, using the list companies of company names as the labels. In addition, specify the leaf_rotation=90, and leaf_font_size=6 keyword arguments as you did in the previous exercise."
   ]
  },
  {
   "cell_type": "code",
   "execution_count": 20,
   "metadata": {},
   "outputs": [
    {
     "name": "stdout",
     "output_type": "stream",
     "text": [
      "Requirement already satisfied: pandas in c:\\users\\mohamody\\anaconda3\\lib\\site-packages (1.3.4)\n",
      "Requirement already satisfied: pytz>=2017.3 in c:\\users\\mohamody\\anaconda3\\lib\\site-packages (from pandas) (2021.3)\n",
      "Requirement already satisfied: numpy>=1.17.3 in c:\\users\\mohamody\\anaconda3\\lib\\site-packages (from pandas) (1.20.3)\n",
      "Requirement already satisfied: python-dateutil>=2.7.3 in c:\\users\\mohamody\\anaconda3\\lib\\site-packages (from pandas) (2.8.2)\n",
      "Requirement already satisfied: six>=1.5 in c:\\users\\mohamody\\anaconda3\\lib\\site-packages (from python-dateutil>=2.7.3->pandas) (1.16.0)\n",
      "Note: you may need to restart the kernel to use updated packages.\n"
     ]
    }
   ],
   "source": [
    "pip install pandas"
   ]
  },
  {
   "cell_type": "code",
   "execution_count": 25,
   "metadata": {},
   "outputs": [],
   "source": [
    "import pandas as pd\n",
    "\n",
    "movements = pd.read_csv('./VisualizationWithHierarchicalClusteringImg/movements.csv', index_col=0)\n",
    "companies = ['Apple', 'AIG', 'Amazon', 'American express', 'Boeing', 'Bank of America', 'British American Tobacco', 'Canon', 'Caterpillar', 'Colgate-Palmolive', 'ConocoPhillips', 'Cisco', 'Chevron', 'DuPont de Nemours', 'Dell', 'Ford', 'General Electrics', 'Google/Alphabet', 'Goldman Sachs', 'GlaxoSmithKline', 'Home Depot', 'Honda', 'HP', 'IBM', 'Intel', 'Johnson & Johnson', 'JPMorgan Chase', 'Kimberly-Clark', 'Coca Cola', 'Lookheed Martin', 'MasterCard', 'McDonalds', '3M', 'Microsoft', 'Mitsubishi', 'Navistar', 'Northrop Grumman', 'Novartis', 'Pepsi', 'Pfizer', 'Procter Gamble', 'Philip Morris', 'Royal Dutch Shell', 'SAP', 'Schlumberger', 'Sony', 'Sanofi-Aventis', 'Symantec', 'Toyota', 'Total', 'Taiwan Semiconductor Manufacturing', 'Texas instruments', 'Unilever', 'Valero Energy', 'Walgreen', 'Wells Fargo', 'Wal-Mart', 'Exxon', 'Xerox', 'Yahoo']"
   ]
  },
  {
   "cell_type": "raw",
   "metadata": {},
   "source": [
    "# Import normalize\n",
    "from sklearn.preprocessing import normalize\n",
    "\n",
    "# Normalize the movements: normalized_movements\n",
    "normalized_movements = normalize(movements)\n",
    "\n",
    "# Calculate the linkage: mergings\n",
    "mergings = linkage(normalized_movements, method=\"complete\")\n",
    "\n",
    "# Plot the dendrogram\n",
    "dendrogram(mergings,\n",
    "           labels=companies,\n",
    "           leaf_rotation=90,\n",
    "           leaf_font_size=6,\n",
    ")\n",
    "plt.show()"
   ]
  },
  {
   "cell_type": "code",
   "execution_count": 4,
   "metadata": {},
   "outputs": [
    {
     "data": {
      "text/html": [
       "<img src=\"./VisualizationWithHierarchicalClusteringImg/6.png\" width=\"400\"/>"
      ],
      "text/plain": [
       "<IPython.core.display.Image object>"
      ]
     },
     "execution_count": 4,
     "metadata": {},
     "output_type": "execute_result"
    }
   ],
   "source": [
    "Image(url= \"./VisualizationWithHierarchicalClusteringImg/6.png\", width=400)"
   ]
  },
  {
   "cell_type": "code",
   "execution_count": 8,
   "metadata": {},
   "outputs": [
    {
     "data": {
      "text/html": [
       "<img src=\"./VisualizationWithHierarchicalClusteringImg/7.png\" width=\"400\"/>"
      ],
      "text/plain": [
       "<IPython.core.display.Image object>"
      ]
     },
     "execution_count": 8,
     "metadata": {},
     "output_type": "execute_result"
    }
   ],
   "source": [
    "Image(url= \"./VisualizationWithHierarchicalClusteringImg/7.png\", width=400)"
   ]
  },
  {
   "cell_type": "code",
   "execution_count": 7,
   "metadata": {},
   "outputs": [
    {
     "data": {
      "text/html": [
       "<img src=\"./VisualizationWithHierarchicalClusteringImg/8.png\" width=\"400\"/>"
      ],
      "text/plain": [
       "<IPython.core.display.Image object>"
      ]
     },
     "execution_count": 7,
     "metadata": {},
     "output_type": "execute_result"
    }
   ],
   "source": [
    "Image(url= \"./VisualizationWithHierarchicalClusteringImg/8.png\", width=400)"
   ]
  },
  {
   "cell_type": "code",
   "execution_count": 6,
   "metadata": {},
   "outputs": [
    {
     "data": {
      "text/html": [
       "<img src=\"./VisualizationWithHierarchicalClusteringImg/9.png\" width=\"400\"/>"
      ],
      "text/plain": [
       "<IPython.core.display.Image object>"
      ]
     },
     "execution_count": 6,
     "metadata": {},
     "output_type": "execute_result"
    }
   ],
   "source": [
    "Image(url= \"./VisualizationWithHierarchicalClusteringImg/9.png\", width=400)"
   ]
  },
  {
   "cell_type": "code",
   "execution_count": 5,
   "metadata": {},
   "outputs": [
    {
     "data": {
      "text/html": [
       "<img src=\"./VisualizationWithHierarchicalClusteringImg/10.png\" width=\"400\"/>"
      ],
      "text/plain": [
       "<IPython.core.display.Image object>"
      ]
     },
     "execution_count": 5,
     "metadata": {},
     "output_type": "execute_result"
    }
   ],
   "source": [
    "Image(url= \"./VisualizationWithHierarchicalClusteringImg/10.png\", width=400)"
   ]
  },
  {
   "cell_type": "code",
   "execution_count": 9,
   "metadata": {},
   "outputs": [
    {
     "data": {
      "text/html": [
       "<img src=\"./VisualizationWithHierarchicalClusteringImg/11.png\" width=\"400\"/>"
      ],
      "text/plain": [
       "<IPython.core.display.Image object>"
      ]
     },
     "execution_count": 9,
     "metadata": {},
     "output_type": "execute_result"
    }
   ],
   "source": [
    "Image(url= \"./VisualizationWithHierarchicalClusteringImg/11.png\", width=400)"
   ]
  },
  {
   "cell_type": "code",
   "execution_count": 11,
   "metadata": {},
   "outputs": [
    {
     "data": {
      "text/html": [
       "<img src=\"./VisualizationWithHierarchicalClusteringImg/12.png\" width=\"400\"/>"
      ],
      "text/plain": [
       "<IPython.core.display.Image object>"
      ]
     },
     "execution_count": 11,
     "metadata": {},
     "output_type": "execute_result"
    }
   ],
   "source": [
    "Image(url= \"./VisualizationWithHierarchicalClusteringImg/12.png\", width=400)"
   ]
  },
  {
   "cell_type": "markdown",
   "metadata": {},
   "source": [
    "<h3>Exercise</h3>\n",
    "Different linkage, different hierarchical clustering!\n",
    "In the video, you saw a hierarchical clustering of the voting countries at the Eurovision song contest using 'complete' linkage. Now, perform a hierarchical clustering of the voting countries with 'single' linkage, and compare the resulting dendrogram with the one in the video. Different linkage, different hierarchical clustering!<br>\n",
    "\n",
    "You are given an array samples. Each row corresponds to a voting country, and each column corresponds to a performance that was voted for. The list country_names gives the name of each voting country. This dataset was obtained from Eurovision.\n",
    "\n",
    "<h3>Instructions</h3>\n",
    "<ul>\n",
    "    <li>Import linkage and dendrogram from scipy.cluster.hierarchy.</li>\n",
    "    <li>Perform hierarchical clustering on samples using the linkage() function with the method='single' keyword argument. Assign the result to mergings.</li>\n",
    "    <li>Plot a dendrogram of the hierarchical clustering, using the list country_names as the labels. In addition, specify the leaf_rotation=90, and leaf_font_size=6 keyword arguments as you have done earlier.</li>\n",
    "</ul>"
   ]
  },
  {
   "cell_type": "raw",
   "metadata": {},
   "source": [
    "samples = \n",
    "country_names = ['Albania', 'Armenia', 'Australia', 'Austria', 'Azerbaijan', 'Belarus', 'Belgium', 'Bosnia & Herzegovina', 'Bulgaria', 'Croatia', 'Cyprus', 'Czech Republic', 'Denmark', 'Estonia', 'F.Y.R. Macedonia', 'Finland', 'France', 'Georgia', 'Germany', 'Greece', 'Hungary', 'Iceland', 'Ireland', 'Israel', 'Italy', 'Latvia', 'Lithuania', 'Malta', 'Moldova', 'Montenegro', 'Norway', 'Poland', 'Russia', 'San Marino', 'Serbia', 'Slovenia', 'Spain', 'Sweden', 'Switzerland', 'The Netherlands', 'Ukraine', 'United Kingdom']\n",
    "# Perform the necessary imports\n",
    "import matplotlib.pyplot as plt\n",
    "from scipy.cluster.hierarchy import dendrogram, linkage\n",
    "\n",
    "# Calculate the linkage: mergings\n",
    "mergings = linkage(samples, method='single')\n",
    "\n",
    "# Plot the dendrogram\n",
    "dendrogram(mergings,\n",
    "           labels=country_names,\n",
    "           leaf_rotation=90,\n",
    "           leaf_font_size=6,\n",
    ")\n",
    "plt.show()\n"
   ]
  },
  {
   "cell_type": "markdown",
   "metadata": {},
   "source": [
    "Exercise\n",
    "Extracting the cluster labels\n",
    "In the previous exercise, you saw that the intermediate clustering of the grain samples at height 6 has 3 clusters. Now, use the fcluster() function to extract the cluster labels for this intermediate clustering, and compare the labels with the grain varieties using a cross-tabulation.\n",
    "\n",
    "The hierarchical clustering has already been performed and mergings is the result of the linkage() function. The list varieties gives the variety of each grain sample.\n",
    "\n",
    "<h3>Instructions</h3>\n",
    "<ul>\n",
    "    <li>\n",
    "       Import:\n",
    "        <ul>\n",
    "            <li>pandas as pd.</li>\n",
    "            <li>fcluster from scipy.cluster.hierarchy.</li>\n",
    "        </ul>\n",
    "    </li>\n",
    "    <li>Perform a flat hierarchical clustering by using the fcluster() function on mergings. Specify a maximum height of 6 and the keyword argument criterion='distance'.</li>\n",
    "    <li>Create a DataFrame df with two columns named 'labels' and 'varieties', using labels and varieties, respectively, for the column values. This has been done for you.</li>\n",
    "    <li>Create a cross-tabulation ct between df['labels'] and df['varieties'] to count the number of times each grain variety coincides with each cluster label.</li>\n",
    "</ul>"
   ]
  },
  {
   "cell_type": "raw",
   "metadata": {},
   "source": [
    "# Perform the necessary imports\n",
    "import pandas as pd\n",
    "from scipy.cluster.hierarchy import fcluster\n",
    "\n",
    "# Use fcluster to extract labels: labels\n",
    "labels = fcluster(mergings, t=6, criterion='distance')\n",
    "\n",
    "# Create a DataFrame with labels and varieties as columns: df\n",
    "df = pd.DataFrame({'labels': labels, 'varieties': varieties})\n",
    "\n",
    "# Create crosstab: ct\n",
    "ct = pd.crosstab(df['labels'],df['varieties'])\n",
    "\n",
    "# Display ct\n",
    "print(ct)\n"
   ]
  },
  {
   "cell_type": "markdown",
   "metadata": {},
   "source": [
    "Fantastic - you've now mastered the fundamentals of k-Means and agglomerative hierarchical clustering. Next, you'll learn about t-SNE, which is a powerful tool for visualizing high dimensional data."
   ]
  },
  {
   "cell_type": "code",
   "execution_count": 3,
   "metadata": {},
   "outputs": [
    {
     "data": {
      "text/html": [
       "<img src=\"./VisualizationWithHierarchicalClusteringImg/13.png\" width=\"400\"/>"
      ],
      "text/plain": [
       "<IPython.core.display.Image object>"
      ]
     },
     "execution_count": 3,
     "metadata": {},
     "output_type": "execute_result"
    }
   ],
   "source": [
    "Image(url= \"./VisualizationWithHierarchicalClusteringImg/13.png\", width=400)"
   ]
  },
  {
   "cell_type": "code",
   "execution_count": 4,
   "metadata": {},
   "outputs": [
    {
     "data": {
      "text/html": [
       "<img src=\"./VisualizationWithHierarchicalClusteringImg/14.png\" width=\"400\"/>"
      ],
      "text/plain": [
       "<IPython.core.display.Image object>"
      ]
     },
     "execution_count": 4,
     "metadata": {},
     "output_type": "execute_result"
    }
   ],
   "source": [
    "Image(url= \"./VisualizationWithHierarchicalClusteringImg/14.png\", width=400)"
   ]
  },
  {
   "cell_type": "code",
   "execution_count": 5,
   "metadata": {},
   "outputs": [
    {
     "data": {
      "text/html": [
       "<img src=\"./VisualizationWithHierarchicalClusteringImg/15.png\" width=\"400\"/>"
      ],
      "text/plain": [
       "<IPython.core.display.Image object>"
      ]
     },
     "execution_count": 5,
     "metadata": {},
     "output_type": "execute_result"
    }
   ],
   "source": [
    "Image(url= \"./VisualizationWithHierarchicalClusteringImg/15.png\", width=400)"
   ]
  },
  {
   "cell_type": "code",
   "execution_count": 6,
   "metadata": {},
   "outputs": [
    {
     "data": {
      "text/html": [
       "<img src=\"./VisualizationWithHierarchicalClusteringImg/16.png\" width=\"400\"/>"
      ],
      "text/plain": [
       "<IPython.core.display.Image object>"
      ]
     },
     "execution_count": 6,
     "metadata": {},
     "output_type": "execute_result"
    }
   ],
   "source": [
    "Image(url= \"./VisualizationWithHierarchicalClusteringImg/16.png\", width=400)"
   ]
  },
  {
   "cell_type": "code",
   "execution_count": 7,
   "metadata": {},
   "outputs": [
    {
     "data": {
      "text/html": [
       "<img src=\"./VisualizationWithHierarchicalClusteringImg/17.png\" width=\"400\"/>"
      ],
      "text/plain": [
       "<IPython.core.display.Image object>"
      ]
     },
     "execution_count": 7,
     "metadata": {},
     "output_type": "execute_result"
    }
   ],
   "source": [
    "Image(url= \"./VisualizationWithHierarchicalClusteringImg/17.png\", width=400)"
   ]
  },
  {
   "cell_type": "code",
   "execution_count": 8,
   "metadata": {},
   "outputs": [
    {
     "data": {
      "text/html": [
       "<img src=\"./VisualizationWithHierarchicalClusteringImg/18.png\" width=\"400\"/>"
      ],
      "text/plain": [
       "<IPython.core.display.Image object>"
      ]
     },
     "execution_count": 8,
     "metadata": {},
     "output_type": "execute_result"
    }
   ],
   "source": [
    "Image(url= \"./VisualizationWithHierarchicalClusteringImg/18.png\", width=400)"
   ]
  },
  {
   "cell_type": "code",
   "execution_count": 9,
   "metadata": {},
   "outputs": [
    {
     "data": {
      "text/html": [
       "<img src=\"./VisualizationWithHierarchicalClusteringImg/19.png\" width=\"400\"/>"
      ],
      "text/plain": [
       "<IPython.core.display.Image object>"
      ]
     },
     "execution_count": 9,
     "metadata": {},
     "output_type": "execute_result"
    }
   ],
   "source": [
    "Image(url= \"./VisualizationWithHierarchicalClusteringImg/19.png\", width=400)"
   ]
  },
  {
   "cell_type": "markdown",
   "metadata": {},
   "source": [
    "<h4>Exercise</h4>\n",
    "t-SNE visualization of grain dataset\n",
    "In the video, you saw t-SNE applied to the iris dataset. In this exercise, you'll apply t-SNE to the grain samples data and inspect the resulting t-SNE features using a scatter plot. You are given an array samples of grain samples and a list variety_numbers giving the variety number of each grain sample.\n",
    "\n",
    "<h4>Instructions</h4>\n",
    "<ul>\n",
    "    <li>Import TSNE from sklearn.manifold.</li>\n",
    "    <li>Create a TSNE instance called model with learning_rate=200.</li>\n",
    "    <li>Apply the .fit_transform() method of model to samples. Assign the result to tsne_features.</li>\n",
    "    <li>Select the column 0 of tsne_features. Assign the result to xs.</li>\n",
    "    <li>Select the column 1 of tsne_features. Assign the result to ys.</li>\n",
    "    <li>Make a scatter plot of the t-SNE features xs and ys. To color the points by the grain variety, specify the additional keyword argument c=variety_numbers.</li>\n",
    "</ul>"
   ]
  },
  {
   "cell_type": "raw",
   "metadata": {},
   "source": [
    "# Import TSNE\n",
    "from sklearn.manifold import TSNE\n",
    "\n",
    "# Create a TSNE instance: model\n",
    "model = TSNE(learning_rate=200)\n",
    "\n",
    "# Apply fit_transform to samples: tsne_features\n",
    "tsne_features = model.fit_transform(samples)\n",
    "\n",
    "# Select the 0th feature: xs\n",
    "xs = tsne_features[:,0]\n",
    "\n",
    "# Select the 1st feature: ys\n",
    "ys = tsne_features[:,1]\n",
    "\n",
    "# Scatter plot, coloring by variety_numbers\n",
    "plt.scatter(xs, ys, c=variety_numbers)\n",
    "plt.show()\n"
   ]
  },
  {
   "cell_type": "markdown",
   "metadata": {},
   "source": [
    "Excellent! As you can see, the t-SNE visualization manages to separate the 3 varieties of grain samples. But how will it perform on the stock data? You'll find out in the next exercise!"
   ]
  },
  {
   "cell_type": "markdown",
   "metadata": {},
   "source": [
    "<h4>Exercise</h4>\n",
    "A t-SNE map of the stock market\n",
    "t-SNE provides great visualizations when the individual samples can be labeled. In this exercise, you'll apply t-SNE to the company stock price data. A scatter plot of the resulting t-SNE features, labeled by the company names, gives you a map of the stock market! The stock price movements for each company are available as the array normalized_movements (these have already been normalized for you). The list companies gives the name of each company. PyPlot (plt) has been imported for you.\n",
    "\n",
    "<h4>Instructions</h4>\n",
    "<ul>\n",
    "    <li>Import TSNE from sklearn.manifold.</li>\n",
    "    <li>Create a TSNE instance called model with learning_rate=50.</li>\n",
    "    <li>Apply the .fit_transform() method of model to normalized_movements. Assign the result to tsne_features.</li>\n",
    "    <li>Select column 0 and column 1 of tsne_features.</li>\n",
    "    <li>Make a scatter plot of the t-SNE features xs and ys. Specify the additional keyword argument alpha=0.5.</li>\n",
    "    <li>Code to label each point with its company name has been written for you using plt.annotate(), so just hit 'Submit Answer' to see the visualization!</li>\n",
    "</ul>"
   ]
  },
  {
   "cell_type": "raw",
   "metadata": {},
   "source": [
    "# Import TSNE\n",
    "from sklearn.manifold import TSNE\n",
    "\n",
    "# Create a TSNE instance: model\n",
    "model = TSNE(learning_rate=50)\n",
    "\n",
    "# Apply fit_transform to normalized_movements: tsne_features\n",
    "tsne_features = model.fit_transform(normalized_movements)\n",
    "\n",
    "# Select the 0th feature: xs\n",
    "xs = tsne_features[:,0]\n",
    "\n",
    "# Select the 1th feature: ys\n",
    "ys = tsne_features[:,1]\n",
    "\n",
    "# Scatter plot\n",
    "plt.scatter(xs, ys, alpha=0.5)\n",
    "\n",
    "# Annotate the points\n",
    "for x, y, company in zip(xs, ys, companies):\n",
    "    plt.annotate(company, (x, y), fontsize=5, alpha=0.75)\n",
    "plt.show()\n"
   ]
  },
  {
   "cell_type": "markdown",
   "metadata": {},
   "source": [
    "Fantastic! It's visualizations such as this that make t-SNE such a powerful tool for extracting quick insights from high dimensional data."
   ]
  }
 ],
 "metadata": {
  "kernelspec": {
   "display_name": "Python 3 (ipykernel)",
   "language": "python",
   "name": "python3"
  },
  "language_info": {
   "codemirror_mode": {
    "name": "ipython",
    "version": 3
   },
   "file_extension": ".py",
   "mimetype": "text/x-python",
   "name": "python",
   "nbconvert_exporter": "python",
   "pygments_lexer": "ipython3",
   "version": "3.9.7"
  }
 },
 "nbformat": 4,
 "nbformat_minor": 4
}
