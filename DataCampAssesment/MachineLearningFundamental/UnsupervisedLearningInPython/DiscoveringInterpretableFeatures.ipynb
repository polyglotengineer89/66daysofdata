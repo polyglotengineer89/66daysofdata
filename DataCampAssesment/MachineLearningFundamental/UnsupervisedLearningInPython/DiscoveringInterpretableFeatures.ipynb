{
 "cells": [
  {
   "cell_type": "code",
   "execution_count": 3,
   "id": "5cf9f53b",
   "metadata": {},
   "outputs": [
    {
     "data": {
      "text/html": [
       "<img src=\"./DiscoveringInterpretableFeaturesImg/1.png\" width=\"400\"/>"
      ],
      "text/plain": [
       "<IPython.core.display.Image object>"
      ]
     },
     "execution_count": 3,
     "metadata": {},
     "output_type": "execute_result"
    }
   ],
   "source": [
    "from IPython.display import Image\n",
    "\n",
    "\n",
    "Image(url= \"./DiscoveringInterpretableFeaturesImg/1.png\", width=400)"
   ]
  },
  {
   "cell_type": "code",
   "execution_count": 4,
   "id": "b4098084",
   "metadata": {},
   "outputs": [
    {
     "data": {
      "text/html": [
       "<img src=\"./DiscoveringInterpretableFeaturesImg/2.png\" width=\"400\"/>"
      ],
      "text/plain": [
       "<IPython.core.display.Image object>"
      ]
     },
     "execution_count": 4,
     "metadata": {},
     "output_type": "execute_result"
    }
   ],
   "source": [
    "Image(url= \"./DiscoveringInterpretableFeaturesImg/2.png\", width=400)"
   ]
  },
  {
   "cell_type": "code",
   "execution_count": 5,
   "id": "f2b8cf1d",
   "metadata": {},
   "outputs": [
    {
     "data": {
      "text/html": [
       "<img src=\"./DiscoveringInterpretableFeaturesImg/3.png\" width=\"400\"/>"
      ],
      "text/plain": [
       "<IPython.core.display.Image object>"
      ]
     },
     "execution_count": 5,
     "metadata": {},
     "output_type": "execute_result"
    }
   ],
   "source": [
    "Image(url= \"./DiscoveringInterpretableFeaturesImg/3.png\", width=400)"
   ]
  },
  {
   "cell_type": "code",
   "execution_count": 6,
   "id": "d96df497",
   "metadata": {},
   "outputs": [
    {
     "data": {
      "text/html": [
       "<img src=\"./DiscoveringInterpretableFeaturesImg/4.png\" width=\"400\"/>"
      ],
      "text/plain": [
       "<IPython.core.display.Image object>"
      ]
     },
     "execution_count": 6,
     "metadata": {},
     "output_type": "execute_result"
    }
   ],
   "source": [
    "Image(url= \"./DiscoveringInterpretableFeaturesImg/4.png\", width=400)"
   ]
  },
  {
   "cell_type": "code",
   "execution_count": 7,
   "id": "c8a3afd4",
   "metadata": {},
   "outputs": [
    {
     "data": {
      "text/html": [
       "<img src=\"./DiscoveringInterpretableFeaturesImg/5.png\" width=\"400\"/>"
      ],
      "text/plain": [
       "<IPython.core.display.Image object>"
      ]
     },
     "execution_count": 7,
     "metadata": {},
     "output_type": "execute_result"
    }
   ],
   "source": [
    "Image(url= \"./DiscoveringInterpretableFeaturesImg/5.png\", width=400)"
   ]
  },
  {
   "cell_type": "code",
   "execution_count": 8,
   "id": "3c2fff78",
   "metadata": {},
   "outputs": [
    {
     "data": {
      "text/html": [
       "<img src=\"./DiscoveringInterpretableFeaturesImg/6.png\" width=\"400\"/>"
      ],
      "text/plain": [
       "<IPython.core.display.Image object>"
      ]
     },
     "execution_count": 8,
     "metadata": {},
     "output_type": "execute_result"
    }
   ],
   "source": [
    "Image(url= \"./DiscoveringInterpretableFeaturesImg/6.png\", width=400)"
   ]
  },
  {
   "cell_type": "code",
   "execution_count": 9,
   "id": "c290ae9e",
   "metadata": {},
   "outputs": [
    {
     "data": {
      "text/html": [
       "<img src=\"./DiscoveringInterpretableFeaturesImg/7.png\" width=\"400\"/>"
      ],
      "text/plain": [
       "<IPython.core.display.Image object>"
      ]
     },
     "execution_count": 9,
     "metadata": {},
     "output_type": "execute_result"
    }
   ],
   "source": [
    "Image(url= \"./DiscoveringInterpretableFeaturesImg/7.png\", width=400)"
   ]
  },
  {
   "cell_type": "code",
   "execution_count": 10,
   "id": "d82e7646",
   "metadata": {},
   "outputs": [
    {
     "data": {
      "text/html": [
       "<img src=\"./DiscoveringInterpretableFeaturesImg/8.png\" width=\"400\"/>"
      ],
      "text/plain": [
       "<IPython.core.display.Image object>"
      ]
     },
     "execution_count": 10,
     "metadata": {},
     "output_type": "execute_result"
    }
   ],
   "source": [
    "Image(url= \"./DiscoveringInterpretableFeaturesImg/8.png\", width=400)"
   ]
  },
  {
   "cell_type": "code",
   "execution_count": 11,
   "id": "756876dc",
   "metadata": {},
   "outputs": [
    {
     "data": {
      "text/html": [
       "<img src=\"./DiscoveringInterpretableFeaturesImg/9.png\" width=\"400\"/>"
      ],
      "text/plain": [
       "<IPython.core.display.Image object>"
      ]
     },
     "execution_count": 11,
     "metadata": {},
     "output_type": "execute_result"
    }
   ],
   "source": [
    "Image(url= \"./DiscoveringInterpretableFeaturesImg/9.png\", width=400)"
   ]
  },
  {
   "cell_type": "code",
   "execution_count": 12,
   "id": "c932addb",
   "metadata": {},
   "outputs": [
    {
     "data": {
      "text/html": [
       "<img src=\"./DiscoveringInterpretableFeaturesImg/10.png\" width=\"400\"/>"
      ],
      "text/plain": [
       "<IPython.core.display.Image object>"
      ]
     },
     "execution_count": 12,
     "metadata": {},
     "output_type": "execute_result"
    }
   ],
   "source": [
    "Image(url= \"./DiscoveringInterpretableFeaturesImg/10.png\", width=400)"
   ]
  },
  {
   "cell_type": "code",
   "execution_count": 13,
   "id": "18fdc7dd",
   "metadata": {},
   "outputs": [
    {
     "data": {
      "text/html": [
       "<img src=\"./DiscoveringInterpretableFeaturesImg/11.png\" width=\"400\"/>"
      ],
      "text/plain": [
       "<IPython.core.display.Image object>"
      ]
     },
     "execution_count": 13,
     "metadata": {},
     "output_type": "execute_result"
    }
   ],
   "source": [
    "Image(url= \"./DiscoveringInterpretableFeaturesImg/11.png\", width=400)"
   ]
  },
  {
   "cell_type": "markdown",
   "id": "04479b20",
   "metadata": {},
   "source": [
    "Non-negative data\n",
    "Which of the following 2-dimensional arrays are examples of non-negative data?\n",
    "\n",
    "1. A tf-idf word-frequency array.\n",
    "2. An array daily stock market price movements (up and down), where each row represents a company.\n",
    "3. An array where rows are customers, columns are products and entries are 0 or 1, indicating whether a customer has purchased a product.\n",
    "\n",
    "the answer is 1 and 3\n",
    "\n",
    "Well done! Stock prices can go down as well as up, so an array of daily stock market price movements is not an example of non-negative data."
   ]
  },
  {
   "cell_type": "markdown",
   "id": "ad49cf46",
   "metadata": {},
   "source": [
    "<h4>Exercise</h4>\n",
    "NMF applied to Wikipedia articles\n",
    "In the video, you saw NMF applied to transform a toy word-frequency array. Now it's your turn to apply NMF, this time using the tf-idf word-frequency array of Wikipedia articles, given as a csr matrix articles. Here, fit the model and transform the articles. In the next exercise, you'll explore the result.\n",
    "\n",
    "<h4>Instructions</h4>\n",
    "<ul>\n",
    "    <li>Import NMF from sklearn.decomposition.</li>\n",
    "    <li>Create an NMF instance called model with 6 components.</li>\n",
    "    <li>Fit the model to the word count data articles.</li>\n",
    "    <li>Use the .transform() method of model to transform articles, and assign the result to nmf_features.</li>\n",
    "    <li>Print nmf_features to get a first idea what it looks like (.round(2) rounds the entries to 2 decimal places.)</li>\n",
    "</ul>"
   ]
  },
  {
   "cell_type": "raw",
   "id": "6fd12c07",
   "metadata": {},
   "source": [
    "# Import NMF\n",
    "from sklearn.decomposition import NMF\n",
    "\n",
    "# Create an NMF instance: model\n",
    "model = NMF(n_components=6)\n",
    "\n",
    "# Fit the model to articles\n",
    "model.fit(articles)\n",
    "\n",
    "# Transform the articles: nmf_features\n",
    "nmf_features = model.transform(articles)\n",
    "\n",
    "# Print the NMF features\n",
    "print(nmf_features.round(2))\n"
   ]
  },
  {
   "cell_type": "raw",
   "id": "4d7cbf31",
   "metadata": {},
   "source": [
    "[[0.   0.   0.   0.   0.   0.44]\n",
    " [0.   0.   0.   0.   0.   0.57]\n",
    " [0.   0.   0.   0.   0.   0.4 ]\n",
    " [0.   0.   0.   0.   0.   0.38]\n",
    " [0.   0.   0.   0.   0.   0.49]\n",
    " [0.01 0.01 0.01 0.03 0.   0.33]\n",
    " [0.   0.   0.02 0.   0.01 0.36]\n",
    " [0.   0.   0.   0.   0.   0.49]\n",
    " [0.02 0.01 0.   0.02 0.03 0.48]\n",
    " [0.01 0.03 0.03 0.07 0.02 0.34]\n",
    " [0.   0.   0.53 0.   0.03 0.  ]\n",
    " [0.   0.   0.36 0.   0.   0.  ]\n",
    " [0.01 0.01 0.31 0.06 0.01 0.02]\n",
    " [0.   0.01 0.34 0.01 0.   0.  ]\n",
    " [0.   0.   0.43 0.   0.04 0.  ]\n",
    " [0.   0.   0.48 0.   0.   0.  ]\n",
    " [0.01 0.02 0.38 0.03 0.   0.01]\n",
    " [0.   0.   0.48 0.   0.   0.  ]\n",
    " [0.   0.01 0.55 0.   0.   0.  ]\n",
    " [0.   0.   0.47 0.   0.   0.  ]\n",
    " [0.   0.01 0.02 0.52 0.06 0.01]\n",
    " [0.   0.   0.   0.51 0.   0.  ]\n",
    " [0.   0.01 0.   0.42 0.   0.  ]\n",
    " [0.   0.   0.   0.44 0.   0.  ]\n",
    " [0.   0.   0.   0.5  0.   0.  ]\n",
    " [0.1  0.09 0.   0.38 0.   0.01]\n",
    " [0.   0.   0.   0.57 0.   0.01]\n",
    " [0.01 0.01 0.   0.47 0.   0.01]\n",
    " [0.   0.   0.   0.58 0.   0.  ]\n",
    " [0.   0.   0.   0.53 0.01 0.01]\n",
    " [0.   0.41 0.   0.   0.   0.  ]\n",
    " [0.   0.61 0.   0.01 0.   0.  ]\n",
    " [0.01 0.26 0.   0.02 0.01 0.  ]\n",
    " [0.   0.64 0.   0.   0.   0.  ]\n",
    " [0.   0.61 0.   0.   0.   0.  ]\n",
    " [0.   0.34 0.   0.   0.   0.  ]\n",
    " [0.01 0.32 0.02 0.   0.01 0.  ]\n",
    " [0.01 0.21 0.01 0.05 0.02 0.01]\n",
    " [0.01 0.47 0.   0.02 0.   0.  ]\n",
    " [0.   0.64 0.   0.   0.   0.  ]\n",
    " [0.   0.   0.   0.   0.48 0.  ]\n",
    " [0.   0.   0.   0.   0.49 0.  ]\n",
    " [0.   0.   0.   0.   0.38 0.01]\n",
    " [0.   0.   0.   0.01 0.54 0.  ]\n",
    " [0.   0.   0.01 0.   0.42 0.  ]\n",
    " [0.   0.   0.   0.   0.51 0.  ]\n",
    " [0.   0.   0.   0.   0.37 0.  ]\n",
    " [0.   0.   0.04 0.   0.23 0.  ]\n",
    " [0.01 0.   0.02 0.01 0.33 0.04]\n",
    " [0.   0.   0.   0.   0.42 0.  ]\n",
    " [0.31 0.   0.   0.   0.   0.  ]\n",
    " [0.37 0.   0.   0.   0.   0.  ]\n",
    " [0.4  0.03 0.   0.02 0.   0.02]\n",
    " [0.38 0.   0.   0.04 0.   0.01]\n",
    " [0.44 0.   0.   0.   0.   0.  ]\n",
    " [0.46 0.   0.   0.   0.   0.  ]\n",
    " [0.28 0.   0.   0.05 0.   0.02]\n",
    " [0.45 0.   0.   0.   0.01 0.  ]\n",
    " [0.29 0.01 0.01 0.01 0.19 0.01]\n",
    " [0.38 0.01 0.   0.1  0.01 0.  ]]"
   ]
  },
  {
   "cell_type": "markdown",
   "id": "075fd8eb",
   "metadata": {},
   "source": [
    "Fantastic - let's explore the meaning of these features in the next exercise!"
   ]
  },
  {
   "cell_type": "markdown",
   "id": "de771a2e",
   "metadata": {},
   "source": [
    "<h4>Exercise</h4>\n",
    "NMF features of the Wikipedia articles\n",
    "Now you will explore the NMF features you created in the previous exercise. A solution to the previous exercise has been pre-loaded, so the array nmf_features is available. Also available is a list titles giving the title of each Wikipedia article.\n",
    "\n",
    "When investigating the features, notice that for both actors, the NMF feature 3 has by far the highest value. This means that both articles are reconstructed using mainly the 3rd NMF component. In the next video, you'll see why: NMF components represent topics (for instance, acting!).\n",
    "\n",
    "<h4>Instructions</h4>\n",
    "<ul>\n",
    "    <li>Import pandas as pd.</li>\n",
    "    <li>Create a DataFrame df from nmf_features using pd.DataFrame(). Set the index to titles using index=titles.</li>\n",
    "    <li>Use the .loc[] accessor of df to select the row with title 'Anne Hathaway', and print the result. These are the NMF features for the article about the actress Anne Hathaway.</li>\n",
    "    <li>Repeat the last step for 'Denzel Washington' (another actor).</li>\n",
    "</ul>"
   ]
  },
  {
   "cell_type": "raw",
   "id": "e7efad15",
   "metadata": {},
   "source": [
    "# Import pandas\n",
    "import pandas as pd\n",
    "\n",
    "# Create a pandas DataFrame: df\n",
    "df = pd.DataFrame(nmf_features, index=titles)\n",
    "\n",
    "# Print the row for 'Anne Hathaway'\n",
    "print(df.loc['Anne Hathaway'])\n",
    "\n",
    "# Print the row for 'Denzel Washington'\n",
    "print(df.loc['Denzel Washington'])\n"
   ]
  },
  {
   "cell_type": "raw",
   "id": "8372bcf5",
   "metadata": {},
   "source": [
    "<script.py> output:\n",
    "    0    0.003845\n",
    "    1    0.000000\n",
    "    2    0.000000\n",
    "    3    0.575711\n",
    "    4    0.000000\n",
    "    5    0.000000\n",
    "    Name: Anne Hathaway, dtype: float64\n",
    "    0    0.000000\n",
    "    1    0.005601\n",
    "    2    0.000000\n",
    "    3    0.422380\n",
    "    4    0.000000\n",
    "    5    0.000000\n",
    "    Name: Denzel Washington, dtype: float64"
   ]
  },
  {
   "cell_type": "markdown",
   "id": "8563145b",
   "metadata": {},
   "source": [
    "Great work! Notice that for both actors, the NMF feature 3 has by far the highest value. This means that both articles are reconstructed using mainly the 3rd NMF component. In the next video, you'll see why: NMF components represent topics (for instance, acting!)."
   ]
  },
  {
   "cell_type": "markdown",
   "id": "d7d513ef",
   "metadata": {},
   "source": [
    "<h4>Exercise</h4>\n",
    "NMF reconstructs samples\n",
    "In this exercise, you'll check your understanding of how NMF reconstructs samples from its components using the NMF feature values. On the right are the components of an NMF model. If the NMF feature values of a sample are [2, 1], then which of the following is most likely to represent the original sample? A pen and paper will help here! You have to apply the same technique Ben used in the video to reconstruct the sample [0.1203 0.1764 0.3195 0.141].\n",
    "\n",
    "<h4>Instructions</h4>\n",
    "Possible Answers\n",
    "\n",
    "[2.2, 1.1, 2.1]."
   ]
  },
  {
   "cell_type": "code",
   "execution_count": null,
   "id": "2a3d27bb",
   "metadata": {},
   "outputs": [],
   "source": []
  }
 ],
 "metadata": {
  "kernelspec": {
   "display_name": "Python 3 (ipykernel)",
   "language": "python",
   "name": "python3"
  },
  "language_info": {
   "codemirror_mode": {
    "name": "ipython",
    "version": 3
   },
   "file_extension": ".py",
   "mimetype": "text/x-python",
   "name": "python",
   "nbconvert_exporter": "python",
   "pygments_lexer": "ipython3",
   "version": "3.9.7"
  }
 },
 "nbformat": 4,
 "nbformat_minor": 5
}
