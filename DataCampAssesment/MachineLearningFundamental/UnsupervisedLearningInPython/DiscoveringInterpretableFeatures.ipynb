{
 "cells": [
  {
   "cell_type": "code",
   "execution_count": 1,
   "id": "5cf9f53b",
   "metadata": {},
   "outputs": [
    {
     "data": {
      "text/html": [
       "<img src=\"./DiscoveringInterpretableFeaturesImg/1.png\" width=\"400\"/>"
      ],
      "text/plain": [
       "<IPython.core.display.Image object>"
      ]
     },
     "execution_count": 1,
     "metadata": {},
     "output_type": "execute_result"
    }
   ],
   "source": [
    "from IPython.display import Image\n",
    "\n",
    "\n",
    "Image(url= \"./DiscoveringInterpretableFeaturesImg/1.png\", width=400)"
   ]
  },
  {
   "cell_type": "code",
   "execution_count": 4,
   "id": "b4098084",
   "metadata": {},
   "outputs": [
    {
     "data": {
      "text/html": [
       "<img src=\"./DiscoveringInterpretableFeaturesImg/2.png\" width=\"400\"/>"
      ],
      "text/plain": [
       "<IPython.core.display.Image object>"
      ]
     },
     "execution_count": 4,
     "metadata": {},
     "output_type": "execute_result"
    }
   ],
   "source": [
    "Image(url= \"./DiscoveringInterpretableFeaturesImg/2.png\", width=400)"
   ]
  },
  {
   "cell_type": "code",
   "execution_count": 5,
   "id": "f2b8cf1d",
   "metadata": {},
   "outputs": [
    {
     "data": {
      "text/html": [
       "<img src=\"./DiscoveringInterpretableFeaturesImg/3.png\" width=\"400\"/>"
      ],
      "text/plain": [
       "<IPython.core.display.Image object>"
      ]
     },
     "execution_count": 5,
     "metadata": {},
     "output_type": "execute_result"
    }
   ],
   "source": [
    "Image(url= \"./DiscoveringInterpretableFeaturesImg/3.png\", width=400)"
   ]
  },
  {
   "cell_type": "code",
   "execution_count": 6,
   "id": "d96df497",
   "metadata": {},
   "outputs": [
    {
     "data": {
      "text/html": [
       "<img src=\"./DiscoveringInterpretableFeaturesImg/4.png\" width=\"400\"/>"
      ],
      "text/plain": [
       "<IPython.core.display.Image object>"
      ]
     },
     "execution_count": 6,
     "metadata": {},
     "output_type": "execute_result"
    }
   ],
   "source": [
    "Image(url= \"./DiscoveringInterpretableFeaturesImg/4.png\", width=400)"
   ]
  },
  {
   "cell_type": "code",
   "execution_count": 7,
   "id": "c8a3afd4",
   "metadata": {},
   "outputs": [
    {
     "data": {
      "text/html": [
       "<img src=\"./DiscoveringInterpretableFeaturesImg/5.png\" width=\"400\"/>"
      ],
      "text/plain": [
       "<IPython.core.display.Image object>"
      ]
     },
     "execution_count": 7,
     "metadata": {},
     "output_type": "execute_result"
    }
   ],
   "source": [
    "Image(url= \"./DiscoveringInterpretableFeaturesImg/5.png\", width=400)"
   ]
  },
  {
   "cell_type": "code",
   "execution_count": 8,
   "id": "3c2fff78",
   "metadata": {},
   "outputs": [
    {
     "data": {
      "text/html": [
       "<img src=\"./DiscoveringInterpretableFeaturesImg/6.png\" width=\"400\"/>"
      ],
      "text/plain": [
       "<IPython.core.display.Image object>"
      ]
     },
     "execution_count": 8,
     "metadata": {},
     "output_type": "execute_result"
    }
   ],
   "source": [
    "Image(url= \"./DiscoveringInterpretableFeaturesImg/6.png\", width=400)"
   ]
  },
  {
   "cell_type": "code",
   "execution_count": 9,
   "id": "c290ae9e",
   "metadata": {},
   "outputs": [
    {
     "data": {
      "text/html": [
       "<img src=\"./DiscoveringInterpretableFeaturesImg/7.png\" width=\"400\"/>"
      ],
      "text/plain": [
       "<IPython.core.display.Image object>"
      ]
     },
     "execution_count": 9,
     "metadata": {},
     "output_type": "execute_result"
    }
   ],
   "source": [
    "Image(url= \"./DiscoveringInterpretableFeaturesImg/7.png\", width=400)"
   ]
  },
  {
   "cell_type": "code",
   "execution_count": 10,
   "id": "d82e7646",
   "metadata": {},
   "outputs": [
    {
     "data": {
      "text/html": [
       "<img src=\"./DiscoveringInterpretableFeaturesImg/8.png\" width=\"400\"/>"
      ],
      "text/plain": [
       "<IPython.core.display.Image object>"
      ]
     },
     "execution_count": 10,
     "metadata": {},
     "output_type": "execute_result"
    }
   ],
   "source": [
    "Image(url= \"./DiscoveringInterpretableFeaturesImg/8.png\", width=400)"
   ]
  },
  {
   "cell_type": "code",
   "execution_count": 11,
   "id": "756876dc",
   "metadata": {},
   "outputs": [
    {
     "data": {
      "text/html": [
       "<img src=\"./DiscoveringInterpretableFeaturesImg/9.png\" width=\"400\"/>"
      ],
      "text/plain": [
       "<IPython.core.display.Image object>"
      ]
     },
     "execution_count": 11,
     "metadata": {},
     "output_type": "execute_result"
    }
   ],
   "source": [
    "Image(url= \"./DiscoveringInterpretableFeaturesImg/9.png\", width=400)"
   ]
  },
  {
   "cell_type": "code",
   "execution_count": 12,
   "id": "c932addb",
   "metadata": {},
   "outputs": [
    {
     "data": {
      "text/html": [
       "<img src=\"./DiscoveringInterpretableFeaturesImg/10.png\" width=\"400\"/>"
      ],
      "text/plain": [
       "<IPython.core.display.Image object>"
      ]
     },
     "execution_count": 12,
     "metadata": {},
     "output_type": "execute_result"
    }
   ],
   "source": [
    "Image(url= \"./DiscoveringInterpretableFeaturesImg/10.png\", width=400)"
   ]
  },
  {
   "cell_type": "code",
   "execution_count": 13,
   "id": "18fdc7dd",
   "metadata": {},
   "outputs": [
    {
     "data": {
      "text/html": [
       "<img src=\"./DiscoveringInterpretableFeaturesImg/11.png\" width=\"400\"/>"
      ],
      "text/plain": [
       "<IPython.core.display.Image object>"
      ]
     },
     "execution_count": 13,
     "metadata": {},
     "output_type": "execute_result"
    }
   ],
   "source": [
    "Image(url= \"./DiscoveringInterpretableFeaturesImg/11.png\", width=400)"
   ]
  },
  {
   "cell_type": "markdown",
   "id": "04479b20",
   "metadata": {},
   "source": [
    "Non-negative data\n",
    "Which of the following 2-dimensional arrays are examples of non-negative data?\n",
    "\n",
    "1. A tf-idf word-frequency array.\n",
    "2. An array daily stock market price movements (up and down), where each row represents a company.\n",
    "3. An array where rows are customers, columns are products and entries are 0 or 1, indicating whether a customer has purchased a product.\n",
    "\n",
    "the answer is 1 and 3\n",
    "\n",
    "Well done! Stock prices can go down as well as up, so an array of daily stock market price movements is not an example of non-negative data."
   ]
  },
  {
   "cell_type": "markdown",
   "id": "ad49cf46",
   "metadata": {},
   "source": [
    "<h4>Exercise</h4>\n",
    "NMF applied to Wikipedia articles\n",
    "In the video, you saw NMF applied to transform a toy word-frequency array. Now it's your turn to apply NMF, this time using the tf-idf word-frequency array of Wikipedia articles, given as a csr matrix articles. Here, fit the model and transform the articles. In the next exercise, you'll explore the result.\n",
    "\n",
    "<h4>Instructions</h4>\n",
    "<ul>\n",
    "    <li>Import NMF from sklearn.decomposition.</li>\n",
    "    <li>Create an NMF instance called model with 6 components.</li>\n",
    "    <li>Fit the model to the word count data articles.</li>\n",
    "    <li>Use the .transform() method of model to transform articles, and assign the result to nmf_features.</li>\n",
    "    <li>Print nmf_features to get a first idea what it looks like (.round(2) rounds the entries to 2 decimal places.)</li>\n",
    "</ul>"
   ]
  },
  {
   "cell_type": "raw",
   "id": "6fd12c07",
   "metadata": {},
   "source": [
    "# Import NMF\n",
    "from sklearn.decomposition import NMF\n",
    "\n",
    "# Create an NMF instance: model\n",
    "model = NMF(n_components=6)\n",
    "\n",
    "# Fit the model to articles\n",
    "model.fit(articles)\n",
    "\n",
    "# Transform the articles: nmf_features\n",
    "nmf_features = model.transform(articles)\n",
    "\n",
    "# Print the NMF features\n",
    "print(nmf_features.round(2))\n"
   ]
  },
  {
   "cell_type": "raw",
   "id": "4d7cbf31",
   "metadata": {},
   "source": [
    "[[0.   0.   0.   0.   0.   0.44]\n",
    " [0.   0.   0.   0.   0.   0.57]\n",
    " [0.   0.   0.   0.   0.   0.4 ]\n",
    " [0.   0.   0.   0.   0.   0.38]\n",
    " [0.   0.   0.   0.   0.   0.49]\n",
    " [0.01 0.01 0.01 0.03 0.   0.33]\n",
    " [0.   0.   0.02 0.   0.01 0.36]\n",
    " [0.   0.   0.   0.   0.   0.49]\n",
    " [0.02 0.01 0.   0.02 0.03 0.48]\n",
    " [0.01 0.03 0.03 0.07 0.02 0.34]\n",
    " [0.   0.   0.53 0.   0.03 0.  ]\n",
    " [0.   0.   0.36 0.   0.   0.  ]\n",
    " [0.01 0.01 0.31 0.06 0.01 0.02]\n",
    " [0.   0.01 0.34 0.01 0.   0.  ]\n",
    " [0.   0.   0.43 0.   0.04 0.  ]\n",
    " [0.   0.   0.48 0.   0.   0.  ]\n",
    " [0.01 0.02 0.38 0.03 0.   0.01]\n",
    " [0.   0.   0.48 0.   0.   0.  ]\n",
    " [0.   0.01 0.55 0.   0.   0.  ]\n",
    " [0.   0.   0.47 0.   0.   0.  ]\n",
    " [0.   0.01 0.02 0.52 0.06 0.01]\n",
    " [0.   0.   0.   0.51 0.   0.  ]\n",
    " [0.   0.01 0.   0.42 0.   0.  ]\n",
    " [0.   0.   0.   0.44 0.   0.  ]\n",
    " [0.   0.   0.   0.5  0.   0.  ]\n",
    " [0.1  0.09 0.   0.38 0.   0.01]\n",
    " [0.   0.   0.   0.57 0.   0.01]\n",
    " [0.01 0.01 0.   0.47 0.   0.01]\n",
    " [0.   0.   0.   0.58 0.   0.  ]\n",
    " [0.   0.   0.   0.53 0.01 0.01]\n",
    " [0.   0.41 0.   0.   0.   0.  ]\n",
    " [0.   0.61 0.   0.01 0.   0.  ]\n",
    " [0.01 0.26 0.   0.02 0.01 0.  ]\n",
    " [0.   0.64 0.   0.   0.   0.  ]\n",
    " [0.   0.61 0.   0.   0.   0.  ]\n",
    " [0.   0.34 0.   0.   0.   0.  ]\n",
    " [0.01 0.32 0.02 0.   0.01 0.  ]\n",
    " [0.01 0.21 0.01 0.05 0.02 0.01]\n",
    " [0.01 0.47 0.   0.02 0.   0.  ]\n",
    " [0.   0.64 0.   0.   0.   0.  ]\n",
    " [0.   0.   0.   0.   0.48 0.  ]\n",
    " [0.   0.   0.   0.   0.49 0.  ]\n",
    " [0.   0.   0.   0.   0.38 0.01]\n",
    " [0.   0.   0.   0.01 0.54 0.  ]\n",
    " [0.   0.   0.01 0.   0.42 0.  ]\n",
    " [0.   0.   0.   0.   0.51 0.  ]\n",
    " [0.   0.   0.   0.   0.37 0.  ]\n",
    " [0.   0.   0.04 0.   0.23 0.  ]\n",
    " [0.01 0.   0.02 0.01 0.33 0.04]\n",
    " [0.   0.   0.   0.   0.42 0.  ]\n",
    " [0.31 0.   0.   0.   0.   0.  ]\n",
    " [0.37 0.   0.   0.   0.   0.  ]\n",
    " [0.4  0.03 0.   0.02 0.   0.02]\n",
    " [0.38 0.   0.   0.04 0.   0.01]\n",
    " [0.44 0.   0.   0.   0.   0.  ]\n",
    " [0.46 0.   0.   0.   0.   0.  ]\n",
    " [0.28 0.   0.   0.05 0.   0.02]\n",
    " [0.45 0.   0.   0.   0.01 0.  ]\n",
    " [0.29 0.01 0.01 0.01 0.19 0.01]\n",
    " [0.38 0.01 0.   0.1  0.01 0.  ]]"
   ]
  },
  {
   "cell_type": "markdown",
   "id": "075fd8eb",
   "metadata": {},
   "source": [
    "Fantastic - let's explore the meaning of these features in the next exercise!"
   ]
  },
  {
   "cell_type": "markdown",
   "id": "de771a2e",
   "metadata": {},
   "source": [
    "<h4>Exercise</h4>\n",
    "NMF features of the Wikipedia articles\n",
    "Now you will explore the NMF features you created in the previous exercise. A solution to the previous exercise has been pre-loaded, so the array nmf_features is available. Also available is a list titles giving the title of each Wikipedia article.\n",
    "\n",
    "When investigating the features, notice that for both actors, the NMF feature 3 has by far the highest value. This means that both articles are reconstructed using mainly the 3rd NMF component. In the next video, you'll see why: NMF components represent topics (for instance, acting!).\n",
    "\n",
    "<h4>Instructions</h4>\n",
    "<ul>\n",
    "    <li>Import pandas as pd.</li>\n",
    "    <li>Create a DataFrame df from nmf_features using pd.DataFrame(). Set the index to titles using index=titles.</li>\n",
    "    <li>Use the .loc[] accessor of df to select the row with title 'Anne Hathaway', and print the result. These are the NMF features for the article about the actress Anne Hathaway.</li>\n",
    "    <li>Repeat the last step for 'Denzel Washington' (another actor).</li>\n",
    "</ul>"
   ]
  },
  {
   "cell_type": "raw",
   "id": "e7efad15",
   "metadata": {},
   "source": [
    "# Import pandas\n",
    "import pandas as pd\n",
    "\n",
    "# Create a pandas DataFrame: df\n",
    "df = pd.DataFrame(nmf_features, index=titles)\n",
    "\n",
    "# Print the row for 'Anne Hathaway'\n",
    "print(df.loc['Anne Hathaway'])\n",
    "\n",
    "# Print the row for 'Denzel Washington'\n",
    "print(df.loc['Denzel Washington'])\n"
   ]
  },
  {
   "cell_type": "raw",
   "id": "8372bcf5",
   "metadata": {},
   "source": [
    "<script.py> output:\n",
    "    0    0.003845\n",
    "    1    0.000000\n",
    "    2    0.000000\n",
    "    3    0.575711\n",
    "    4    0.000000\n",
    "    5    0.000000\n",
    "    Name: Anne Hathaway, dtype: float64\n",
    "    0    0.000000\n",
    "    1    0.005601\n",
    "    2    0.000000\n",
    "    3    0.422380\n",
    "    4    0.000000\n",
    "    5    0.000000\n",
    "    Name: Denzel Washington, dtype: float64"
   ]
  },
  {
   "cell_type": "markdown",
   "id": "8563145b",
   "metadata": {},
   "source": [
    "Great work! Notice that for both actors, the NMF feature 3 has by far the highest value. This means that both articles are reconstructed using mainly the 3rd NMF component. In the next video, you'll see why: NMF components represent topics (for instance, acting!)."
   ]
  },
  {
   "cell_type": "markdown",
   "id": "d7d513ef",
   "metadata": {},
   "source": [
    "<h4>Exercise</h4>\n",
    "NMF reconstructs samples\n",
    "In this exercise, you'll check your understanding of how NMF reconstructs samples from its components using the NMF feature values. On the right are the components of an NMF model. If the NMF feature values of a sample are [2, 1], then which of the following is most likely to represent the original sample? A pen and paper will help here! You have to apply the same technique Ben used in the video to reconstruct the sample [0.1203 0.1764 0.3195 0.141].\n",
    "\n",
    "<h4>Instructions</h4>\n",
    "Possible Answers\n",
    "\n",
    "[2.2, 1.1, 2.1]."
   ]
  },
  {
   "cell_type": "code",
   "execution_count": 2,
   "id": "2a3d27bb",
   "metadata": {},
   "outputs": [
    {
     "data": {
      "text/html": [
       "<img src=\"./DiscoveringInterpretableFeaturesImg/12.png\" width=\"400\"/>"
      ],
      "text/plain": [
       "<IPython.core.display.Image object>"
      ]
     },
     "execution_count": 2,
     "metadata": {},
     "output_type": "execute_result"
    }
   ],
   "source": [
    "Image(url= \"./DiscoveringInterpretableFeaturesImg/12.png\", width=400)"
   ]
  },
  {
   "cell_type": "code",
   "execution_count": 3,
   "id": "ba63b104",
   "metadata": {},
   "outputs": [
    {
     "data": {
      "text/html": [
       "<img src=\"./DiscoveringInterpretableFeaturesImg/13.png\" width=\"400\"/>"
      ],
      "text/plain": [
       "<IPython.core.display.Image object>"
      ]
     },
     "execution_count": 3,
     "metadata": {},
     "output_type": "execute_result"
    }
   ],
   "source": [
    "Image(url= \"./DiscoveringInterpretableFeaturesImg/13.png\", width=400)"
   ]
  },
  {
   "cell_type": "code",
   "execution_count": 4,
   "id": "02afa7b3",
   "metadata": {},
   "outputs": [
    {
     "data": {
      "text/html": [
       "<img src=\"./DiscoveringInterpretableFeaturesImg/14.png\" width=\"400\"/>"
      ],
      "text/plain": [
       "<IPython.core.display.Image object>"
      ]
     },
     "execution_count": 4,
     "metadata": {},
     "output_type": "execute_result"
    }
   ],
   "source": [
    "Image(url= \"./DiscoveringInterpretableFeaturesImg/14.png\", width=400)"
   ]
  },
  {
   "cell_type": "code",
   "execution_count": 5,
   "id": "efa69edf",
   "metadata": {},
   "outputs": [
    {
     "data": {
      "text/html": [
       "<img src=\"./DiscoveringInterpretableFeaturesImg/15.png\" width=\"400\"/>"
      ],
      "text/plain": [
       "<IPython.core.display.Image object>"
      ]
     },
     "execution_count": 5,
     "metadata": {},
     "output_type": "execute_result"
    }
   ],
   "source": [
    "Image(url= \"./DiscoveringInterpretableFeaturesImg/15.png\", width=400)"
   ]
  },
  {
   "cell_type": "code",
   "execution_count": 6,
   "id": "2fafde56",
   "metadata": {},
   "outputs": [
    {
     "data": {
      "text/html": [
       "<img src=\"./DiscoveringInterpretableFeaturesImg/16.png\" width=\"400\"/>"
      ],
      "text/plain": [
       "<IPython.core.display.Image object>"
      ]
     },
     "execution_count": 6,
     "metadata": {},
     "output_type": "execute_result"
    }
   ],
   "source": [
    "Image(url= \"./DiscoveringInterpretableFeaturesImg/16.png\", width=400)"
   ]
  },
  {
   "cell_type": "code",
   "execution_count": 7,
   "id": "db928391",
   "metadata": {},
   "outputs": [
    {
     "data": {
      "text/html": [
       "<img src=\"./DiscoveringInterpretableFeaturesImg/17.png\" width=\"400\"/>"
      ],
      "text/plain": [
       "<IPython.core.display.Image object>"
      ]
     },
     "execution_count": 7,
     "metadata": {},
     "output_type": "execute_result"
    }
   ],
   "source": [
    "Image(url= \"./DiscoveringInterpretableFeaturesImg/17.png\", width=400)"
   ]
  },
  {
   "cell_type": "code",
   "execution_count": 8,
   "id": "6e4cf3ab",
   "metadata": {},
   "outputs": [
    {
     "data": {
      "text/html": [
       "<img src=\"./DiscoveringInterpretableFeaturesImg/18.png\" width=\"400\"/>"
      ],
      "text/plain": [
       "<IPython.core.display.Image object>"
      ]
     },
     "execution_count": 8,
     "metadata": {},
     "output_type": "execute_result"
    }
   ],
   "source": [
    "Image(url= \"./DiscoveringInterpretableFeaturesImg/18.png\", width=400)"
   ]
  },
  {
   "cell_type": "code",
   "execution_count": 9,
   "id": "efe114e5",
   "metadata": {},
   "outputs": [
    {
     "data": {
      "text/html": [
       "<img src=\"./DiscoveringInterpretableFeaturesImg/19.png\" width=\"400\"/>"
      ],
      "text/plain": [
       "<IPython.core.display.Image object>"
      ]
     },
     "execution_count": 9,
     "metadata": {},
     "output_type": "execute_result"
    }
   ],
   "source": [
    "Image(url= \"./DiscoveringInterpretableFeaturesImg/19.png\", width=400)"
   ]
  },
  {
   "cell_type": "code",
   "execution_count": 10,
   "id": "0ddda753",
   "metadata": {},
   "outputs": [
    {
     "data": {
      "text/html": [
       "<img src=\"./DiscoveringInterpretableFeaturesImg/20.png\" width=\"400\"/>"
      ],
      "text/plain": [
       "<IPython.core.display.Image object>"
      ]
     },
     "execution_count": 10,
     "metadata": {},
     "output_type": "execute_result"
    }
   ],
   "source": [
    "Image(url= \"./DiscoveringInterpretableFeaturesImg/20.png\", width=400)"
   ]
  },
  {
   "cell_type": "markdown",
   "id": "212bd3a7",
   "metadata": {},
   "source": [
    "<h4>Exercise</h4>\n",
    "NMF learns topics of documents\n",
    "In the video, you learned when NMF is applied to documents, the components correspond to topics of documents, and the NMF features reconstruct the documents from the topics. Verify this for yourself for the NMF model that you built earlier using the Wikipedia articles. Previously, you saw that the 3rd NMF feature value was high for the articles about actors Anne Hathaway and Denzel Washington. In this exercise, identify the topic of the corresponding NMF component.\n",
    "\n",
    "The NMF model you built earlier is available as model, while words is a list of the words that label the columns of the word-frequency array.\n",
    "\n",
    "After you are done, take a moment to recognise the topic that the articles about Anne Hathaway and Denzel Washington have in common!\n",
    "\n",
    "<h4>Instructions</h4>\n",
    "<ul>\n",
    "    <li>Import pandas as pd.</li>\n",
    "    <li>Create a DataFrame components_df from model.components_, setting columns=words so that columns are labeled by the words.\n",
    "Print components_df.shape to check the dimensions of the DataFrame.</li>\n",
    "    <li>Use the .iloc[] accessor on the DataFrame components_df to select row 3. Assign the result to component.</li>\n",
    "    <li>Call the .nlargest() method of component, and print the result. This gives the five words with the highest values for that component.</li>\n",
    "</ul>"
   ]
  },
  {
   "cell_type": "raw",
   "id": "a0d278ff",
   "metadata": {},
   "source": [
    "# Import pandas\n",
    "import pandas as pd\n",
    "\n",
    "# Create a DataFrame: components_df\n",
    "components_df = pd.DataFrame(model.components_, columns=words)\n",
    "\n",
    "# Print the shape of the DataFrame\n",
    "print(components_df.shape)\n",
    "\n",
    "# Select row 3: component\n",
    "component = components_df.iloc[3]\n",
    "\n",
    "# Print result of nlargest\n",
    "print(component.nlargest())\n"
   ]
  },
  {
   "cell_type": "raw",
   "id": "54c6604b",
   "metadata": {},
   "source": [
    "(6, 13125)\n",
    "film       0.627877\n",
    "award      0.253131\n",
    "starred    0.245284\n",
    "role       0.211451\n",
    "actress    0.186398\n",
    "Name: 3, dtype: float64"
   ]
  },
  {
   "cell_type": "markdown",
   "id": "4393e7b0",
   "metadata": {},
   "source": [
    "Great work! Take a moment to recognise the topics that the articles about Anne Hathaway and Denzel Washington have in common!"
   ]
  },
  {
   "cell_type": "markdown",
   "id": "a19e8c48",
   "metadata": {},
   "source": [
    "<h4>Exercise</h4>\n",
    "Explore the LED digits dataset\n",
    "In the following exercises, you'll use NMF to decompose grayscale images into their commonly occurring patterns. Firstly, explore the image dataset and see how it is encoded as an array. You are given 100 images as a 2D array samples, where each row represents a single 13x8 image. The images in your dataset are pictures of a LED digital display.\n",
    "\n",
    "<h4>Instructions</h4>\n",
    "<ul>\n",
    "    <li>Import matplotlib.pyplot as plt.</li>\n",
    "    <li>Select row 0 of samples and assign the result to digit. For example, to select column 2 of an array a, you could use a[:,2]. </li>\n",
    "    <li>Remember that since samples is a NumPy array, you can't use the .loc[] or iloc[] accessors to select specific rows or columns.</li>\n",
    "    <li>Print digit. This has been done for you. Notice that it is a 1D array of 0s and 1s.</li>\n",
    "    <li>Use the .reshape() method of digit to get a 2D array with shape (13, 8). Assign the result to bitmap.</li>\n",
    "    <li>Print bitmap, and notice that the 1s show the digit 7!</li>\n",
    "    <li>Use the plt.imshow() function to display bitmap as an image.</li>\n",
    "</ul>"
   ]
  },
  {
   "cell_type": "raw",
   "id": "697f6592",
   "metadata": {},
   "source": [
    "[0. 0. 0. 0. 0. 0. 0. 0. 0. 0. 1. 1. 1. 1. 0. 0. 0. 0. 0. 0. 0. 0. 1. 0.\n",
    " 0. 0. 0. 0. 0. 0. 1. 0. 0. 0. 0. 0. 0. 0. 1. 0. 0. 0. 0. 0. 0. 0. 1. 0.\n",
    " 0. 0. 0. 0. 0. 0. 0. 0. 0. 0. 0. 0. 0. 0. 1. 0. 0. 0. 0. 0. 0. 0. 1. 0.\n",
    " 0. 0. 0. 0. 0. 0. 1. 0. 0. 0. 0. 0. 0. 0. 1. 0. 0. 0. 0. 0. 0. 0. 0. 0.\n",
    " 0. 0. 0. 0. 0. 0. 0. 0.]\n",
    "[[0. 0. 0. 0. 0. 0. 0. 0.]\n",
    " [0. 0. 1. 1. 1. 1. 0. 0.]\n",
    " [0. 0. 0. 0. 0. 0. 1. 0.]\n",
    " [0. 0. 0. 0. 0. 0. 1. 0.]\n",
    " [0. 0. 0. 0. 0. 0. 1. 0.]\n",
    " [0. 0. 0. 0. 0. 0. 1. 0.]\n",
    " [0. 0. 0. 0. 0. 0. 0. 0.]\n",
    " [0. 0. 0. 0. 0. 0. 1. 0.]\n",
    " [0. 0. 0. 0. 0. 0. 1. 0.]\n",
    " [0. 0. 0. 0. 0. 0. 1. 0.]\n",
    " [0. 0. 0. 0. 0. 0. 1. 0.]\n",
    " [0. 0. 0. 0. 0. 0. 0. 0.]\n",
    " [0. 0. 0. 0. 0. 0. 0. 0.]]"
   ]
  },
  {
   "cell_type": "code",
   "execution_count": 12,
   "id": "acdde0b9",
   "metadata": {},
   "outputs": [
    {
     "data": {
      "text/html": [
       "<img src=\"./DiscoveringInterpretableFeaturesImg/21.png\" width=\"400\"/>"
      ],
      "text/plain": [
       "<IPython.core.display.Image object>"
      ]
     },
     "execution_count": 12,
     "metadata": {},
     "output_type": "execute_result"
    }
   ],
   "source": [
    "Image(url= \"./DiscoveringInterpretableFeaturesImg/21.png\", width=400)"
   ]
  },
  {
   "cell_type": "raw",
   "id": "95d4db57",
   "metadata": {},
   "source": [
    "Excellent job! You'll explore this dataset further in the next exercise and see for yourself how NMF can learn the parts of images."
   ]
  },
  {
   "cell_type": "markdown",
   "id": "cd3b7cd8",
   "metadata": {},
   "source": [
    "<h4>Exercise</h4>\n",
    "NMF learns the parts of images\n",
    "Now use what you've learned about NMF to decompose the digits dataset. You are again given the digit images as a 2D array samples. This time, you are also provided with a function show_as_image() that displays the image encoded by any 1D array:\n",
    "<code>\n",
    "def show_as_image(sample):\n",
    "    bitmap = sample.reshape((13, 8))\n",
    "    plt.figure()\n",
    "    plt.imshow(bitmap, cmap='gray', interpolation='nearest')\n",
    "    plt.colorbar()\n",
    "    plt.show()\n",
    "</code>\n",
    "After you are done, take a moment to look through the plots and notice how NMF has expressed the digit as a sum of the components!\n",
    "\n",
    "<h4>Instructions</h4>\n",
    "<ul>\n",
    "    <li>Import NMF from sklearn.decomposition.</li>\n",
    "    <li>Create an NMF instance called model with 7 components. (7 is the number of cells in an LED display).</li>\n",
    "    <li>Apply the .fit_transform() method of model to samples. Assign the result to features.</li>\n",
    "    <li>To each component of the model (accessed via model.components_), apply the show_as_image() function to that component inside the loop.</li>\n",
    "    <li>Assign the row 0 of features to digit_features.</li>\n",
    "    <li>Print digit_features.</li>\n",
    "</ul>"
   ]
  },
  {
   "cell_type": "raw",
   "id": "a8e0c703",
   "metadata": {},
   "source": [
    "# Import NMF\n",
    "from sklearn.decomposition import NMF\n",
    "\n",
    "# Create an NMF model: model\n",
    "model = NMF(n_components=7)\n",
    "\n",
    "# Apply fit_transform to samples: features\n",
    "features = model.fit_transform(samples)\n",
    "\n",
    "# Call show_as_image on each component\n",
    "for component in model.components_:\n",
    "    show_as_image(component)\n",
    "\n",
    "# Assign the 0th row of features: digit_features\n",
    "digit_features = features[0]\n",
    "\n",
    "# Print digit_features\n",
    "print(digit_features)"
   ]
  },
  {
   "cell_type": "raw",
   "id": "c6bf4b8c",
   "metadata": {},
   "source": [
    "[4.76823559e-01 0.00000000e+00 0.00000000e+00 5.90605054e-01\n",
    " 4.81559442e-01 0.00000000e+00 7.37535093e-16]"
   ]
  },
  {
   "cell_type": "markdown",
   "id": "e8f45666",
   "metadata": {},
   "source": [
    "Great work! Take a moment to look through the plots and notice how NMF has expressed the digit as a sum of the components!"
   ]
  },
  {
   "cell_type": "markdown",
   "id": "f19cc6f8",
   "metadata": {},
   "source": [
    "<h4>Exercise</h4>\n",
    "PCA doesn't learn parts\n",
    "Unlike NMF, PCA doesn't learn the parts of things. Its components do not correspond to topics (in the case of documents) or to parts of images, when trained on images. Verify this for yourself by inspecting the components of a PCA model fit to the dataset of LED digit images from the previous exercise. The images are available as a 2D array samples. Also available is a modified version of the show_as_image() function which colors a pixel red if the value is negative.\n",
    "\n",
    "After submitting the answer, notice that the components of PCA do not represent meaningful parts of images of LED digits!\n",
    "\n",
    "<h4>Instructions</h4>\n",
    "<ul>\n",
    "    <li>Import PCA from sklearn.decomposition.</li>\n",
    "    <li>Create a PCA instance called model with 7 components.</li>\n",
    "    <li>Apply the .fit_transform() method of model to samples. Assign the result to features.</li>\n",
    "    <li>To each component of the model (accessed via model.components_), apply the show_as_image() function to that component inside the loop.</li>\n",
    "</ul>"
   ]
  },
  {
   "cell_type": "raw",
   "id": "2ecbbb4e",
   "metadata": {},
   "source": [
    "# Import PCA\n",
    "from sklearn.decomposition import PCA\n",
    "\n",
    "# Create a PCA instance: model\n",
    "model = PCA(n_components=7)\n",
    "\n",
    "# Apply fit_transform to samples: features\n",
    "features = model.fit_transform(samples)\n",
    "\n",
    "# Call show_as_image on each component\n",
    "for component in model.components_:\n",
    "    show_as_image(component)\n",
    "    "
   ]
  },
  {
   "cell_type": "code",
   "execution_count": 13,
   "id": "15b0e019",
   "metadata": {},
   "outputs": [
    {
     "data": {
      "text/html": [
       "<img src=\"./DiscoveringInterpretableFeaturesImg/22.png\" width=\"400\"/>"
      ],
      "text/plain": [
       "<IPython.core.display.Image object>"
      ]
     },
     "execution_count": 13,
     "metadata": {},
     "output_type": "execute_result"
    }
   ],
   "source": [
    "Image(url= \"./DiscoveringInterpretableFeaturesImg/22.png\", width=400)"
   ]
  },
  {
   "cell_type": "markdown",
   "id": "b5aa0972",
   "metadata": {},
   "source": [
    "Great work! Notice that the components of PCA do not represent meaningful parts of images of LED digits!"
   ]
  },
  {
   "cell_type": "markdown",
   "id": "b697cbd6",
   "metadata": {},
   "source": [
    "<h4>Exercise</h4>\n",
    "PCA doesn't learn parts\n",
    "Unlike NMF, PCA doesn't learn the parts of things. Its components do not correspond to topics (in the case of documents) or to parts of images, when trained on images. Verify this for yourself by inspecting the components of a PCA model fit to the dataset of LED digit images from the previous exercise. The images are available as a 2D array samples. Also available is a modified version of the show_as_image() function which colors a pixel red if the value is negative.\n",
    "\n",
    "After submitting the answer, notice that the components of PCA do not represent meaningful parts of images of LED digits!\n",
    "\n",
    "<h4>Instructions</h4>\n",
    "<ul>\n",
    "    <li>Import PCA from sklearn.decomposition.</li>\n",
    "    <li>Create a PCA instance called model with 7 components.</li>\n",
    "    <li>Apply the .fit_transform() method of model to samples. Assign the result to features.</li>\n",
    "    <li>To each component of the model (accessed via model.components_), apply the show_as_image() function to that component inside the loop.</li>\n",
    "</ul>"
   ]
  },
  {
   "cell_type": "raw",
   "id": "6adc0504",
   "metadata": {},
   "source": [
    "# Import PCA\n",
    "from sklearn.decomposition import PCA\n",
    "\n",
    "# Create a PCA instance: model\n",
    "model = PCA(n_components=7)\n",
    "\n",
    "# Apply fit_transform to samples: features\n",
    "features = model.fit_transform(samples)\n",
    "\n",
    "# Call show_as_image on each component\n",
    "for component in model.components_:\n",
    "    show_as_image(component)\n",
    "    "
   ]
  },
  {
   "cell_type": "code",
   "execution_count": 16,
   "id": "ea84587f",
   "metadata": {},
   "outputs": [
    {
     "data": {
      "text/html": [
       "<img src=\"./DiscoveringInterpretableFeaturesImg/23.png\" width=\"400\"/>"
      ],
      "text/plain": [
       "<IPython.core.display.Image object>"
      ]
     },
     "execution_count": 16,
     "metadata": {},
     "output_type": "execute_result"
    }
   ],
   "source": [
    "Image(url= \"./DiscoveringInterpretableFeaturesImg/23.png\", width=400)"
   ]
  },
  {
   "cell_type": "markdown",
   "id": "a5a59ded",
   "metadata": {},
   "source": [
    "<h4>Exercise</h4>\n",
    "Which articles are similar to 'Cristiano Ronaldo'?\n",
    "In the video, you learned how to use NMF features and the cosine similarity to find similar articles. Apply this to your NMF model for popular Wikipedia articles, by finding the articles most similar to the article about the footballer Cristiano Ronaldo. The NMF features you obtained earlier are available as nmf_features, while titles is a list of the article titles.\n",
    "\n",
    "<h4>Instructions</h4>\n",
    "<ul>\n",
    "    <li>Import normalize from sklearn.preprocessing.</li>\n",
    "    <li>Apply the normalize() function to nmf_features. Store the result as norm_features.</li>\n",
    "    <li>Create a DataFrame df from norm_features, using titles as an index.</li>\n",
    "    <li>Use the .loc[] accessor of df to select the row of 'Cristiano Ronaldo'. Assign the result to article.</li>\n",
    "    <li>Apply the .dot() method of df to article to calculate the cosine similarity of every row with article.</li>\n",
    "    <li>Print the result of the .nlargest() method of similarities to display the most similiar articles. This has been done for you, so hit submit to see the result!</li>\n",
    "</ul>"
   ]
  },
  {
   "cell_type": "code",
   "execution_count": 17,
   "id": "9a1e5190",
   "metadata": {},
   "outputs": [
    {
     "data": {
      "text/html": [
       "<img src=\"./DiscoveringInterpretableFeaturesImg/24.png\" width=\"400\"/>"
      ],
      "text/plain": [
       "<IPython.core.display.Image object>"
      ]
     },
     "execution_count": 17,
     "metadata": {},
     "output_type": "execute_result"
    }
   ],
   "source": [
    "Image(url= \"./DiscoveringInterpretableFeaturesImg/24.png\", width=400)"
   ]
  },
  {
   "cell_type": "code",
   "execution_count": 18,
   "id": "07693769",
   "metadata": {},
   "outputs": [
    {
     "data": {
      "text/html": [
       "<img src=\"./DiscoveringInterpretableFeaturesImg/25.png\" width=\"400\"/>"
      ],
      "text/plain": [
       "<IPython.core.display.Image object>"
      ]
     },
     "execution_count": 18,
     "metadata": {},
     "output_type": "execute_result"
    }
   ],
   "source": [
    "Image(url= \"./DiscoveringInterpretableFeaturesImg/25.png\", width=400)"
   ]
  },
  {
   "cell_type": "code",
   "execution_count": 21,
   "id": "29d41e72",
   "metadata": {},
   "outputs": [
    {
     "data": {
      "text/html": [
       "<img src=\"./DiscoveringInterpretableFeaturesImg/26.png\" width=\"400\"/>"
      ],
      "text/plain": [
       "<IPython.core.display.Image object>"
      ]
     },
     "execution_count": 21,
     "metadata": {},
     "output_type": "execute_result"
    }
   ],
   "source": [
    "Image(url= \"./DiscoveringInterpretableFeaturesImg/26.png\", width=400)"
   ]
  },
  {
   "cell_type": "code",
   "execution_count": 22,
   "id": "864ee165",
   "metadata": {},
   "outputs": [
    {
     "data": {
      "text/html": [
       "<img src=\"./DiscoveringInterpretableFeaturesImg/27.png\" width=\"400\"/>"
      ],
      "text/plain": [
       "<IPython.core.display.Image object>"
      ]
     },
     "execution_count": 22,
     "metadata": {},
     "output_type": "execute_result"
    }
   ],
   "source": [
    "Image(url= \"./DiscoveringInterpretableFeaturesImg/27.png\", width=400)"
   ]
  },
  {
   "cell_type": "code",
   "execution_count": 23,
   "id": "b8ddece9",
   "metadata": {},
   "outputs": [
    {
     "data": {
      "text/html": [
       "<img src=\"./DiscoveringInterpretableFeaturesImg/28.png\" width=\"400\"/>"
      ],
      "text/plain": [
       "<IPython.core.display.Image object>"
      ]
     },
     "execution_count": 23,
     "metadata": {},
     "output_type": "execute_result"
    }
   ],
   "source": [
    "Image(url= \"./DiscoveringInterpretableFeaturesImg/28.png\", width=400)"
   ]
  },
  {
   "cell_type": "code",
   "execution_count": 24,
   "id": "171c50be",
   "metadata": {},
   "outputs": [
    {
     "data": {
      "text/html": [
       "<img src=\"./DiscoveringInterpretableFeaturesImg/29.png\" width=\"400\"/>"
      ],
      "text/plain": [
       "<IPython.core.display.Image object>"
      ]
     },
     "execution_count": 24,
     "metadata": {},
     "output_type": "execute_result"
    }
   ],
   "source": [
    "Image(url= \"./DiscoveringInterpretableFeaturesImg/29.png\", width=400)"
   ]
  },
  {
   "cell_type": "code",
   "execution_count": 25,
   "id": "98c768af",
   "metadata": {},
   "outputs": [
    {
     "data": {
      "text/html": [
       "<img src=\"./DiscoveringInterpretableFeaturesImg/30.png\" width=\"400\"/>"
      ],
      "text/plain": [
       "<IPython.core.display.Image object>"
      ]
     },
     "execution_count": 25,
     "metadata": {},
     "output_type": "execute_result"
    }
   ],
   "source": [
    "Image(url= \"./DiscoveringInterpretableFeaturesImg/30.png\", width=400)"
   ]
  },
  {
   "cell_type": "markdown",
   "id": "253b8d02",
   "metadata": {},
   "source": [
    "<h4>Exercise</h4>\n",
    "Which articles are similar to 'Cristiano Ronaldo'?\n",
    "In the video, you learned how to use NMF features and the cosine similarity to find similar articles. Apply this to your NMF model for popular Wikipedia articles, by finding the articles most similar to the article about the footballer Cristiano Ronaldo. The NMF features you obtained earlier are available as nmf_features, while titles is a list of the article titles.\n",
    "\n",
    "<h4>Instructions</h4>\n",
    "<ul>\n",
    "    <li>Import normalize from sklearn.preprocessing.</li>\n",
    "    <li>Apply the normalize() function to nmf_features. Store the result as norm_features.</li>\n",
    "    <li>Create a DataFrame df from norm_features, using titles as an index.</li>\n",
    "    <li>Use the .loc[] accessor of df to select the row of 'Cristiano Ronaldo'. Assign the result to article.</li>\n",
    "    <li>Apply the .dot() method of df to article to calculate the cosine similarity of every row with article.</li>\n",
    "    <li>Print the result of the .nlargest() method of similarities to display the most similiar articles. This has been done for you, so hit submit to see the result!</li>\n",
    "</ul>"
   ]
  },
  {
   "cell_type": "raw",
   "id": "a840e16e",
   "metadata": {},
   "source": [
    "# Perform the necessary imports\n",
    "import pandas as pd\n",
    "from sklearn.preprocessing import normalize\n",
    "\n",
    "# Normalize the NMF features: norm_features\n",
    "norm_features = normalize(nmf_features)\n",
    "\n",
    "# Create a DataFrame: df\n",
    "df = pd.DataFrame(norm_features, index=titles)\n",
    "\n",
    "# Select the row corresponding to 'Cristiano Ronaldo': article\n",
    "article = df.loc['Cristiano Ronaldo']\n",
    "\n",
    "# Compute the dot products: similarities\n",
    "similarities = df.dot(article)\n",
    "\n",
    "# Display those with the largest cosine similarity\n",
    "print(similarities.nlargest())"
   ]
  },
  {
   "cell_type": "raw",
   "id": "2a2f2036",
   "metadata": {},
   "source": [
    "Cristiano Ronaldo                1.000000\n",
    "Franck Ribéry                    0.999972\n",
    "Radamel Falcao                   0.999942\n",
    "Zlatan Ibrahimović               0.999942\n",
    "France national football team    0.999923\n",
    "dtype: float64"
   ]
  },
  {
   "cell_type": "markdown",
   "id": "f400b94a",
   "metadata": {},
   "source": [
    "Great work - although you may need to know a little about football (or soccer, depending on where you're from!) to be able to evaluate for yourself the quality of the computed similarities!"
   ]
  },
  {
   "cell_type": "markdown",
   "id": "84a3a65e",
   "metadata": {},
   "source": [
    "<h4>Exercise</h4>\n",
    "Recommend musical artists part I\n",
    "In this exercise and the next, you'll use what you've learned about NMF to recommend popular music artists! You are given a sparse array artists whose rows correspond to artists and whose columns correspond to users. The entries give the number of times each artist was listened to by each user.\n",
    "\n",
    "In this exercise, build a pipeline and transform the array into normalized NMF features. The first step in the pipeline, MaxAbsScaler, transforms the data so that all users have the same influence on the model, regardless of how many different artists they've listened to. In the next exercise, you'll use the resulting normalized NMF features for recommendation!\n",
    "\n",
    "<h4>Instructions</h4>\n",
    "<ul>\n",
    "    <li>Import:\n",
    "        <ul>\n",
    "            <li>NMF from sklearn.decomposition.</li>\n",
    "            <li>Normalizer and MaxAbsScaler from sklearn.preprocessing.</li>\n",
    "            <li>make_pipeline from sklearn.pipeline.</li>\n",
    "        </ul>\n",
    "    </li>\n",
    "    <li>Create an instance of MaxAbsScaler called scaler.</li>\n",
    "    <li>Create an NMF instance with 20 components called nmf.</li>\n",
    "    <li>Create an instance of Normalizer called normalizer.</li>\n",
    "    <li>Create a pipeline called pipeline that chains together scaler, nmf, and normalizer.</li>\n",
    "    <li>Apply the .fit_transform() method of pipeline to artists. Assign the result to norm_features.</li>\n",
    "</ul>|"
   ]
  },
  {
   "cell_type": "raw",
   "id": "c8e3e558",
   "metadata": {},
   "source": [
    "# Perform the necessary imports\n",
    "from sklearn.decomposition import NMF\n",
    "from sklearn.preprocessing import Normalizer, MaxAbsScaler\n",
    "from sklearn.pipeline import make_pipeline\n",
    "\n",
    "# Create a MaxAbsScaler: scaler\n",
    "scaler = MaxAbsScaler()\n",
    "\n",
    "# Create an NMF model: nmf\n",
    "nmf = NMF(n_components=20)\n",
    "\n",
    "# Create a Normalizer: normalizer\n",
    "normalizer = Normalizer()\n",
    "\n",
    "# Create a pipeline: pipeline\n",
    "pipeline = make_pipeline(scaler, nmf, normalizer)\n",
    "\n",
    "# Apply fit_transform to artists: norm_features\n",
    "norm_features = pipeline.fit_transform(artists)\n"
   ]
  },
  {
   "cell_type": "markdown",
   "id": "e8ef40ad",
   "metadata": {},
   "source": [
    "Excellent work - now that you've computed the normalized NMF features, you'll use them in the next exercise to recommend musical artists!"
   ]
  },
  {
   "cell_type": "markdown",
   "id": "bb37271c",
   "metadata": {},
   "source": [
    "<h4>Exercise</h4>\n",
    "Recommend musical artists part II\n",
    "Suppose you were a big fan of Bruce Springsteen - which other musicial artists might you like? Use your NMF features from the previous exercise and the cosine similarity to find similar musical artists. A solution to the previous exercise has been run, so norm_features is an array containing the normalized NMF features as rows. The names of the musical artists are available as the list artist_names.\n",
    "\n",
    "<h4>Instructions</h4>\n",
    "<ul>\n",
    "    <li>Import pandas as pd.</li>\n",
    "    <li>Create a DataFrame df from norm_features, using artist_names as an index.</li>\n",
    "    <li>Use the .loc[] accessor of df to select the row of 'Bruce Springsteen'. Assign the result to artist.</li>\n",
    "    <li>Apply the .dot() method of df to artist to calculate the dot product of every row with artist. Save the result as similarities.</li>\n",
    "    <li>Print the result of the .nlargest() method of similarities to display the artists most similar to 'Bruce Springsteen'.</li>\n",
    "</ul>"
   ]
  },
  {
   "cell_type": "raw",
   "id": "6b94efdd",
   "metadata": {},
   "source": [
    "# Import pandas\n",
    "import pandas as pd\n",
    "\n",
    "# Create a DataFrame: df\n",
    "df = pd.DataFrame(norm_features, index=artist_names)\n",
    "\n",
    "# Select row of 'Bruce Springsteen': artist\n",
    "artist = df.loc['Bruce Springsteen']\n",
    "\n",
    "# Compute cosine similarities: similarities\n",
    "similarities = df.dot(artist)\n",
    "\n",
    "# Display those with highest cosine similarity\n",
    "print(similarities.nlargest())\n"
   ]
  },
  {
   "cell_type": "raw",
   "id": "713c2488",
   "metadata": {},
   "source": [
    "Bruce Springsteen    1.000000\n",
    "Neil Young           0.955896\n",
    "Van Morrison         0.872452\n",
    "Leonard Cohen        0.864763\n",
    "Bob Dylan            0.859047\n",
    "dtype: float64"
   ]
  },
  {
   "cell_type": "markdown",
   "id": "c20ee878",
   "metadata": {},
   "source": [
    "Well done, and congratulations on reaching the end of the course!"
   ]
  },
  {
   "cell_type": "code",
   "execution_count": null,
   "id": "4f93734d",
   "metadata": {},
   "outputs": [],
   "source": []
  }
 ],
 "metadata": {
  "kernelspec": {
   "display_name": "Python 3 (ipykernel)",
   "language": "python",
   "name": "python3"
  },
  "language_info": {
   "codemirror_mode": {
    "name": "ipython",
    "version": 3
   },
   "file_extension": ".py",
   "mimetype": "text/x-python",
   "name": "python",
   "nbconvert_exporter": "python",
   "pygments_lexer": "ipython3",
   "version": "3.9.7"
  }
 },
 "nbformat": 4,
 "nbformat_minor": 5
}
