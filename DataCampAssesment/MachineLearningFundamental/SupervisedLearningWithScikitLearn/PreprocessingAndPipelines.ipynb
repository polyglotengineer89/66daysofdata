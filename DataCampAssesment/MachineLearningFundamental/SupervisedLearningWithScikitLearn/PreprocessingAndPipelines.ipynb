{
 "cells": [
  {
   "cell_type": "code",
   "execution_count": 1,
   "id": "c79bbfd8",
   "metadata": {},
   "outputs": [
    {
     "data": {
      "text/html": [
       "<img src=\"./PreprocessingAndPipelinesImages/1.png\" width=\"400\"/>"
      ],
      "text/plain": [
       "<IPython.core.display.Image object>"
      ]
     },
     "execution_count": 1,
     "metadata": {},
     "output_type": "execute_result"
    }
   ],
   "source": [
    "from IPython.display import Image\n",
    "\n",
    "\n",
    "Image(url= \"./PreprocessingAndPipelinesImages/1.png\", width=400)"
   ]
  },
  {
   "cell_type": "code",
   "execution_count": 2,
   "id": "ab7fa916",
   "metadata": {},
   "outputs": [
    {
     "data": {
      "text/html": [
       "<img src=\"./PreprocessingAndPipelinesImages/2.png\" width=\"400\"/>"
      ],
      "text/plain": [
       "<IPython.core.display.Image object>"
      ]
     },
     "execution_count": 2,
     "metadata": {},
     "output_type": "execute_result"
    }
   ],
   "source": [
    "Image(url= \"./PreprocessingAndPipelinesImages/2.png\", width=400)"
   ]
  },
  {
   "cell_type": "code",
   "execution_count": 3,
   "id": "6502f006",
   "metadata": {},
   "outputs": [
    {
     "data": {
      "text/html": [
       "<img src=\"./PreprocessingAndPipelinesImages/3.png\" width=\"400\"/>"
      ],
      "text/plain": [
       "<IPython.core.display.Image object>"
      ]
     },
     "execution_count": 3,
     "metadata": {},
     "output_type": "execute_result"
    }
   ],
   "source": [
    "Image(url= \"./PreprocessingAndPipelinesImages/3.png\", width=400)"
   ]
  },
  {
   "cell_type": "code",
   "execution_count": 4,
   "id": "880819ff",
   "metadata": {},
   "outputs": [
    {
     "data": {
      "text/html": [
       "<img src=\"./PreprocessingAndPipelinesImages/4.png\" width=\"400\"/>"
      ],
      "text/plain": [
       "<IPython.core.display.Image object>"
      ]
     },
     "execution_count": 4,
     "metadata": {},
     "output_type": "execute_result"
    }
   ],
   "source": [
    "Image(url= \"./PreprocessingAndPipelinesImages/4.png\", width=400)"
   ]
  },
  {
   "cell_type": "code",
   "execution_count": 5,
   "id": "37d19bcc",
   "metadata": {},
   "outputs": [
    {
     "data": {
      "text/html": [
       "<img src=\"./PreprocessingAndPipelinesImages/5.png\" width=\"400\"/>"
      ],
      "text/plain": [
       "<IPython.core.display.Image object>"
      ]
     },
     "execution_count": 5,
     "metadata": {},
     "output_type": "execute_result"
    }
   ],
   "source": [
    "Image(url= \"./PreprocessingAndPipelinesImages/5.png\", width=400)"
   ]
  },
  {
   "cell_type": "code",
   "execution_count": 6,
   "id": "bf330433",
   "metadata": {},
   "outputs": [
    {
     "data": {
      "text/html": [
       "<img src=\"./PreprocessingAndPipelinesImages/6.png\" width=\"400\"/>"
      ],
      "text/plain": [
       "<IPython.core.display.Image object>"
      ]
     },
     "execution_count": 6,
     "metadata": {},
     "output_type": "execute_result"
    }
   ],
   "source": [
    "Image(url= \"./PreprocessingAndPipelinesImages/6.png\", width=400)"
   ]
  },
  {
   "cell_type": "code",
   "execution_count": 7,
   "id": "10feb80b",
   "metadata": {},
   "outputs": [
    {
     "data": {
      "text/html": [
       "<img src=\"./PreprocessingAndPipelinesImages/7.png\" width=\"400\"/>"
      ],
      "text/plain": [
       "<IPython.core.display.Image object>"
      ]
     },
     "execution_count": 7,
     "metadata": {},
     "output_type": "execute_result"
    }
   ],
   "source": [
    "Image(url= \"./PreprocessingAndPipelinesImages/7.png\", width=400)"
   ]
  },
  {
   "cell_type": "code",
   "execution_count": 8,
   "id": "2cacf19c",
   "metadata": {},
   "outputs": [
    {
     "data": {
      "text/html": [
       "<img src=\"./PreprocessingAndPipelinesImages/8.png\" width=\"400\"/>"
      ],
      "text/plain": [
       "<IPython.core.display.Image object>"
      ]
     },
     "execution_count": 8,
     "metadata": {},
     "output_type": "execute_result"
    }
   ],
   "source": [
    "Image(url= \"./PreprocessingAndPipelinesImages/8.png\", width=400)"
   ]
  },
  {
   "cell_type": "markdown",
   "id": "68c8c337",
   "metadata": {},
   "source": [
    "<h4>Exercise</h4>\n",
    "<h2>Exploring categorical features</h2>\n",
    "The Gapminder dataset that you worked with in previous chapters also contained a categorical 'Region' feature, which we dropped in previous exercises since you did not have the tools to deal with it. Now however, you do, so we have added it back in!\n",
    "\n",
    "Your job in this exercise is to explore this feature. Boxplots are particularly useful for visualizing categorical features such as this.\n",
    "\n",
    "<h4>Instructions</h4>\n",
    "<ul>\n",
    "    <li>Import pandas as pd.</li>\n",
    "    <li>Read the CSV file 'gapminder.csv' into a DataFrame called df.</li>\n",
    "    <li>Use pandas to create a boxplot showing the variation of life expectancy ('life') by region ('Region'). To do so, pass the column names in to df.boxplot() (in that order).</li>\n",
    "</ul>"
   ]
  },
  {
   "cell_type": "raw",
   "id": "22019453",
   "metadata": {},
   "source": [
    "# Import pandas\n",
    "import pandas as pd\n",
    "\n",
    "# Read 'gapminder.csv' into a DataFrame: df\n",
    "df = pd.read_csv('gapminder.csv')\n",
    "\n",
    "# Create a boxplot of life expectancy per region\n",
    "df.boxplot('life', 'Region', rot=60)\n",
    "\n",
    "# Show the plot\n",
    "plt.show()"
   ]
  },
  {
   "cell_type": "markdown",
   "id": "2950e637",
   "metadata": {},
   "source": [
    "Great work! Exploratory data analysis should always be the precursor to model building."
   ]
  },
  {
   "cell_type": "markdown",
   "id": "84e01ee4",
   "metadata": {},
   "source": [
    "<h4>Exercise</h4>\n",
    "<h2>Creating dummy variables</h2>\n",
    "As Andy discussed in the video, scikit-learn does not accept non-numerical features. You saw in the previous exercise that the 'Region' feature contains very useful information that can predict life expectancy. For example, Sub-Saharan Africa has a lower life expectancy compared to Europe and Central Asia. Therefore, if you are trying to predict life expectancy, it would be preferable to retain the 'Region' feature. To do this, you need to binarize it by creating dummy variables, which is what you will do in this exercise.\n",
    "\n",
    "<h4>Instructions</h4>\n",
    "<ul>\n",
    "    <li>Use the pandas get_dummies() function to create dummy variables from the df DataFrame. Store the result as df_region.\n",
    "Print the columns of df_region. This has been done for you.</li>\n",
    "    <li>Use the get_dummies() function again, this time specifying drop_first=True to drop the unneeded dummy variable (in this case, 'Region_America').</li>\n",
    "    <li>Hit submit to print the new columns of df_region and take note of how one column was dropped!</li>\n",
    "</ul>"
   ]
  },
  {
   "cell_type": "raw",
   "id": "6bdd84cf",
   "metadata": {},
   "source": [
    "# Create dummy variables: df_region\n",
    "df_region = df.get_dummies(df)\n",
    "\n",
    "# Print the columns of df_region\n",
    "print(df_region.columns)\n",
    "\n",
    "# Create dummy variables with drop_first=True: df_region\n",
    "df_region = df.origin.drop('Region_America', drop_first=True)\n",
    "\n",
    "# Print the new columns of df_region\n",
    "print(df_region.columns)\n"
   ]
  },
  {
   "cell_type": "raw",
   "id": "c07324bb",
   "metadata": {},
   "source": [
    "Index(['population', 'fertility', 'HIV', 'CO2', 'BMI_male', 'GDP',\n",
    "       'BMI_female', 'life', 'child_mortality', 'Region_America',\n",
    "       'Region_East Asia & Pacific', 'Region_Europe & Central Asia',\n",
    "       'Region_Middle East & North Africa', 'Region_South Asia',\n",
    "       'Region_Sub-Saharan Africa'],\n",
    "      dtype='object')"
   ]
  },
  {
   "cell_type": "markdown",
   "id": "c4751395",
   "metadata": {},
   "source": [
    "Excellent! Now that you have created the dummy variables, you can use the 'Region' feature to predict life expectancy!"
   ]
  },
  {
   "cell_type": "markdown",
   "id": "4876d09c",
   "metadata": {},
   "source": [
    "<h4>Exercise</h4>\n",
    "<h2>Regression with categorical features</h2>\n",
    "Having created the dummy variables from the 'Region' feature, you can build regression models as you did before. Here, you'll use ridge regression to perform 5-fold cross-validation.\n",
    "\n",
    "The feature array X and target variable array y have been pre-loaded.\n",
    "\n",
    "<h4>Instructions</h4>\n",
    "<ul>\n",
    "    <li>Import Ridge from sklearn.linear_model and cross_val_score from sklearn.model_selection.</li>\n",
    "    <li>Instantiate a ridge regressor called ridge with alpha=0.5 and normalize=True.</li>\n",
    "    <li>Perform 5-fold cross-validation on X and y using the cross_val_score() function.</li>\n",
    "    <li>Print the cross-validated scores.</li>\n",
    "</ul>"
   ]
  },
  {
   "cell_type": "raw",
   "id": "1151daa3",
   "metadata": {},
   "source": [
    "# Import necessary modules\n",
    "from sklearn.linear_model import Ridge\n",
    "from sklearn.model_selection import cross_val_score\n",
    "\n",
    "# Instantiate a ridge regressor: ridge\n",
    "ridge = Ridge(alpha=0.5, normalize=True)\n",
    "\n",
    "# Perform 5-fold cross-validation: ridge_cv\n",
    "ridge_cv = cross_val_score(ridge, X, y, cv=5)\n",
    "\n",
    "# Print the cross-validated scores\n",
    "print(ridge_cv)"
   ]
  },
  {
   "cell_type": "raw",
   "id": "ced9997f",
   "metadata": {},
   "source": [
    "[0.86808336 0.80623545 0.84004203 0.7754344  0.87503712]"
   ]
  },
  {
   "cell_type": "markdown",
   "id": "2b1ab8a2",
   "metadata": {},
   "source": [
    "Excellent! You now know how to build models using data that includes categorical features."
   ]
  },
  {
   "cell_type": "markdown",
   "id": "0ed95307",
   "metadata": {},
   "source": [
    "# Handling missing data"
   ]
  },
  {
   "cell_type": "code",
   "execution_count": 9,
   "id": "cb006bf1",
   "metadata": {},
   "outputs": [
    {
     "data": {
      "text/html": [
       "<img src=\"./PreprocessingAndPipelinesImages/9.png\" width=\"400\"/>"
      ],
      "text/plain": [
       "<IPython.core.display.Image object>"
      ]
     },
     "execution_count": 9,
     "metadata": {},
     "output_type": "execute_result"
    }
   ],
   "source": [
    "Image(url= \"./PreprocessingAndPipelinesImages/9.png\", width=400)"
   ]
  },
  {
   "cell_type": "code",
   "execution_count": 10,
   "id": "f269def3",
   "metadata": {},
   "outputs": [
    {
     "data": {
      "text/html": [
       "<img src=\"./PreprocessingAndPipelinesImages/10.png\" width=\"400\"/>"
      ],
      "text/plain": [
       "<IPython.core.display.Image object>"
      ]
     },
     "execution_count": 10,
     "metadata": {},
     "output_type": "execute_result"
    }
   ],
   "source": [
    "Image(url= \"./PreprocessingAndPipelinesImages/10.png\", width=400)"
   ]
  },
  {
   "cell_type": "code",
   "execution_count": 11,
   "id": "27bade19",
   "metadata": {},
   "outputs": [
    {
     "data": {
      "text/html": [
       "<img src=\"./PreprocessingAndPipelinesImages/11.png\" width=\"400\"/>"
      ],
      "text/plain": [
       "<IPython.core.display.Image object>"
      ]
     },
     "execution_count": 11,
     "metadata": {},
     "output_type": "execute_result"
    }
   ],
   "source": [
    "Image(url= \"./PreprocessingAndPipelinesImages/11.png\", width=400)"
   ]
  },
  {
   "cell_type": "code",
   "execution_count": 12,
   "id": "763118e8",
   "metadata": {},
   "outputs": [
    {
     "data": {
      "text/html": [
       "<img src=\"./PreprocessingAndPipelinesImages/12.png\" width=\"400\"/>"
      ],
      "text/plain": [
       "<IPython.core.display.Image object>"
      ]
     },
     "execution_count": 12,
     "metadata": {},
     "output_type": "execute_result"
    }
   ],
   "source": [
    "Image(url= \"./PreprocessingAndPipelinesImages/12.png\", width=400)"
   ]
  },
  {
   "cell_type": "code",
   "execution_count": 13,
   "id": "7b987467",
   "metadata": {},
   "outputs": [
    {
     "data": {
      "text/html": [
       "<img src=\"./PreprocessingAndPipelinesImages/13.png\" width=\"400\"/>"
      ],
      "text/plain": [
       "<IPython.core.display.Image object>"
      ]
     },
     "execution_count": 13,
     "metadata": {},
     "output_type": "execute_result"
    }
   ],
   "source": [
    "Image(url= \"./PreprocessingAndPipelinesImages/13.png\", width=400)"
   ]
  },
  {
   "cell_type": "code",
   "execution_count": 14,
   "id": "bd335b52",
   "metadata": {},
   "outputs": [
    {
     "data": {
      "text/html": [
       "<img src=\"./PreprocessingAndPipelinesImages/14.png\" width=\"400\"/>"
      ],
      "text/plain": [
       "<IPython.core.display.Image object>"
      ]
     },
     "execution_count": 14,
     "metadata": {},
     "output_type": "execute_result"
    }
   ],
   "source": [
    "Image(url= \"./PreprocessingAndPipelinesImages/14.png\", width=400)"
   ]
  },
  {
   "cell_type": "code",
   "execution_count": 15,
   "id": "40ce9cd8",
   "metadata": {},
   "outputs": [
    {
     "data": {
      "text/html": [
       "<img src=\"./PreprocessingAndPipelinesImages/15.png\" width=\"400\"/>"
      ],
      "text/plain": [
       "<IPython.core.display.Image object>"
      ]
     },
     "execution_count": 15,
     "metadata": {},
     "output_type": "execute_result"
    }
   ],
   "source": [
    "Image(url= \"./PreprocessingAndPipelinesImages/15.png\", width=400)"
   ]
  },
  {
   "cell_type": "code",
   "execution_count": 16,
   "id": "d4c30024",
   "metadata": {},
   "outputs": [
    {
     "data": {
      "text/html": [
       "<img src=\"./PreprocessingAndPipelinesImages/16.png\" width=\"400\"/>"
      ],
      "text/plain": [
       "<IPython.core.display.Image object>"
      ]
     },
     "execution_count": 16,
     "metadata": {},
     "output_type": "execute_result"
    }
   ],
   "source": [
    "Image(url= \"./PreprocessingAndPipelinesImages/16.png\", width=400)"
   ]
  },
  {
   "cell_type": "code",
   "execution_count": 17,
   "id": "7c83fd5d",
   "metadata": {},
   "outputs": [
    {
     "data": {
      "text/html": [
       "<img src=\"./PreprocessingAndPipelinesImages/17.png\" width=\"400\"/>"
      ],
      "text/plain": [
       "<IPython.core.display.Image object>"
      ]
     },
     "execution_count": 17,
     "metadata": {},
     "output_type": "execute_result"
    }
   ],
   "source": [
    "Image(url= \"./PreprocessingAndPipelinesImages/17.png\", width=400)"
   ]
  },
  {
   "cell_type": "markdown",
   "id": "9bb67e47",
   "metadata": {},
   "source": [
    "<h4>Exercise</h4>\n",
    "Dropping missing data\n",
    "The voting dataset from Chapter 1 contained a bunch of missing values that we dealt with for you behind the scenes. Now, it's time for you to take care of these yourself!\n",
    "\n",
    "The unprocessed dataset has been loaded into a DataFrame df. Explore it in the IPython Shell with the .head() method. You will see that there are certain data points labeled with a '?'. These denote missing values. As you saw in the video, different datasets encode missing values in different ways. Sometimes it may be a '9999', other times a 0 - real-world data can be very messy! If you're lucky, the missing values will already be encoded as NaN. We use NaN because it is an efficient and simplified way of internally representing missing data, and it lets us take advantage of pandas methods such as .dropna() and .fillna(), as well as scikit-learn's Imputation transformer Imputer().\n",
    "\n",
    "In this exercise, your job is to convert the '?'s to NaNs, and then drop the rows that contain them from the DataFrame.\n",
    "\n",
    "<h4>Instructions</h4>\n",
    "<ul>\n",
    "    <li>Explore the DataFrame df in the IPython Shell. Notice how the missing value is represented.</li>\n",
    "    <li>Convert all '?' data points to np.nan.</li>\n",
    "    <li>Count the total number of NaNs using the .isnull() and .sum() methods. This has been done for you.</li>\n",
    "    <li>Drop the rows with missing values from df using .dropna().</li>\n",
    "    <li>Hit submit to see how many rows were lost by dropping the missing values.</li>\n",
    "</ul>"
   ]
  },
  {
   "cell_type": "raw",
   "id": "650fa148",
   "metadata": {},
   "source": [
    "# Convert '?' to NaN\n",
    "df[df == '?'] = np.nan\n",
    "\n",
    "# Print the number of NaNs\n",
    "print(df.isnull().sum())\n",
    "\n",
    "# Print shape of original DataFrame\n",
    "print(\"Shape of Original DataFrame: {}\".format(df.shape))\n",
    "\n",
    "# Drop missing values and print shape of new DataFrame\n",
    "df = df.dropna()\n",
    "\n",
    "# Print shape of new DataFrame\n",
    "print(\"Shape of DataFrame After Dropping All Rows with Missing Values: {}\".format(df.shape))\n"
   ]
  },
  {
   "cell_type": "raw",
   "id": "fc8d7972",
   "metadata": {},
   "source": [
    "party                  0\n",
    "infants               12\n",
    "water                 48\n",
    "budget                11\n",
    "physician             11\n",
    "salvador              15\n",
    "religious             11\n",
    "satellite             14\n",
    "aid                   15\n",
    "missile               22\n",
    "immigration            7\n",
    "synfuels              21\n",
    "education             31\n",
    "superfund             25\n",
    "crime                 17\n",
    "duty_free_exports     28\n",
    "eaa_rsa              104\n",
    "\n",
    "dtype: int64\n",
    "Shape of Original DataFrame: (435, 17)\n",
    "Shape of DataFrame After Dropping All Rows with Missing Values: (232, 17)"
   ]
  },
  {
   "cell_type": "markdown",
   "id": "14dff27a",
   "metadata": {},
   "source": [
    "Great work! When many values in your dataset are missing, if you drop them, you may end up throwing away valuable information along with the missing data. It's better instead to develop an imputation strategy. This is where domain knowledge is useful, but in the absence of it, you can impute missing values with the mean or the median of the row or column that the missing value is in."
   ]
  },
  {
   "cell_type": "markdown",
   "id": "cce2affe",
   "metadata": {},
   "source": [
    "<h4>Exercise</h4>\n",
    "<h2>Imputing missing data in a ML Pipeline I</h2>\n",
    "As you've come to appreciate, there are many steps to building a model, from creating training and test sets, to fitting a classifier or regressor, to tuning its parameters, to evaluating its performance on new data. Imputation can be seen as the first step of this machine learning process, the entirety of which can be viewed within the context of a pipeline. Scikit-learn provides a pipeline constructor that allows you to piece together these steps into one process and thereby simplify your workflow.\n",
    "\n",
    "You'll now practice setting up a pipeline with two steps: the imputation step, followed by the instantiation of a classifier. You've seen three classifiers in this course so far: k-NN, logistic regression, and the decision tree. You will now be introduced to a fourth one - the Support Vector Machine, or SVM. For now, do not worry about how it works under the hood. It works exactly as you would expect of the scikit-learn estimators that you have worked with previously, in that it has the same .fit() and .predict() methods as before.\n",
    "\n",
    "<h4>Instructions</h4>\n",
    "<ul>\n",
    "    <li>Import Imputer from sklearn.preprocessing and SVC from sklearn.svm. SVC stands for Support Vector Classification, which is a type of SVM.</li>\n",
    "    <li>Setup the Imputation transformer to impute missing data (represented as 'NaN') with the 'most_frequent' value in the column (axis=0).</li>\n",
    "    <li>Instantiate a SVC classifier. Store the result in clf.</li>\n",
    "    <li>Create the steps of the pipeline by creating a list of tuples:\n",
    "        <ul>\n",
    "            <li>The first tuple should consist of the imputation step, using imp.</li>\n",
    "            <li>The second should consist of the classifier.</li>\n",
    "        </ul>\n",
    "    </li>\n",
    "</ul>"
   ]
  },
  {
   "cell_type": "raw",
   "id": "3c39956f",
   "metadata": {},
   "source": [
    "# Import the Imputer module\n",
    "from sklearn.preprocessing import Imputer\n",
    "from sklearn.svm import SVC\n",
    "\n",
    "# Setup the Imputation transformer: imp\n",
    "imp = Imputer(missing_values='NaN', strategy='most_frequent', axis=0)\n",
    "\n",
    "# Instantiate the SVC classifier: clf\n",
    "clf = SVC()\n",
    "\n",
    "# Setup the pipeline with the required steps: steps\n",
    "steps = [('imputation', imp),\n",
    "        ('SVM', clf)]"
   ]
  },
  {
   "cell_type": "markdown",
   "id": "c4ed02f4",
   "metadata": {},
   "source": [
    "Fantastic! Having set up the pipeline steps, you can now use it for classification."
   ]
  },
  {
   "cell_type": "markdown",
   "id": "88795e61",
   "metadata": {},
   "source": [
    "<h4>Exercise</h4>\n",
    "<h2>Imputing missing data in a ML Pipeline II</h2>\n",
    "Having setup the steps of the pipeline in the previous exercise, you will now use it on the voting dataset to classify a Congressman's party affiliation. What makes pipelines so incredibly useful is the simple interface that they provide. You can use the .fit() and .predict() methods on pipelines just as you did with your classifiers and regressors!\n",
    "\n",
    "Practice this for yourself now and generate a classification report of your predictions. The steps of the pipeline have been set up for you, and the feature array X and target variable array y have been pre-loaded. Additionally, train_test_split and classification_report have been imported from sklearn.model_selection and sklearn.metrics respectively.\n",
    "\n",
    "<h4>Instructions</h4>\n",
    "<ul>\n",
    "    <li>Import the following modules:\n",
    "        <ul>\n",
    "            <li>Imputer from sklearn.preprocessing and Pipeline from sklearn.pipeline.\n",
    "SVC from sklearn.svm.</li>\n",
    "            <li>Create the pipeline using Pipeline() and steps.</li>\n",
    "        </ul>\n",
    "    </li>\n",
    "    <li>Create training and test sets. Use 30% of the data for testing and a random state of 42.</li>\n",
    "    <li>Fit the pipeline to the training set and predict the labels of the test set.</li>\n",
    "    <li>Compute the classification report.</li>\n",
    "</ul>"
   ]
  },
  {
   "cell_type": "raw",
   "id": "55823b04",
   "metadata": {},
   "source": [
    "# Import necessary modules\n",
    "from sklearn.preprocessing import Imputer\n",
    "from sklearn.pipeline import Pipeline\n",
    "from sklearn.svm import SVC\n",
    "\n",
    "# Setup the pipeline steps: steps\n",
    "steps = [('imputation', Imputer(missing_values='NaN', strategy='most_frequent', axis=0)),\n",
    "        ('SVM', SVC())]\n",
    "\n",
    "# Create the pipeline: pipeline\n",
    "pipeline = Pipeline(steps)\n",
    "\n",
    "# Create training and test sets\n",
    "X_train, X_test, y_train, y_test = train_test_split(X, y, test_size = 0.3, random_state=42)\n",
    "\n",
    "# Fit the pipeline to the train set\n",
    "pipeline.fit(X_train, y_train)\n",
    "\n",
    "# Predict the labels of the test set\n",
    "y_pred = pipeline.predict(X_test)\n",
    "\n",
    "# Compute metrics\n",
    "print(classification_report(y_test, y_pred))\n"
   ]
  },
  {
   "cell_type": "raw",
   "id": "218fcf43",
   "metadata": {},
   "source": [
    "precision    recall  f1-score   support\n",
    "\n",
    "   democrat       0.99      0.96      0.98        85\n",
    " republican       0.94      0.98      0.96        46\n",
    "\n",
    "avg / total       0.97      0.97      0.97       131"
   ]
  },
  {
   "cell_type": "markdown",
   "id": "1337165b",
   "metadata": {},
   "source": [
    "Great work! Your pipeline has performed imputation as well as classification!"
   ]
  },
  {
   "cell_type": "markdown",
   "id": "c30c34c5",
   "metadata": {},
   "source": [
    "# Centering and scaling"
   ]
  },
  {
   "cell_type": "code",
   "execution_count": 20,
   "id": "9c8061ca",
   "metadata": {},
   "outputs": [
    {
     "data": {
      "text/html": [
       "<img src=\"./PreprocessingAndPipelinesImages/18.png\" width=\"400\"/>"
      ],
      "text/plain": [
       "<IPython.core.display.Image object>"
      ]
     },
     "execution_count": 20,
     "metadata": {},
     "output_type": "execute_result"
    }
   ],
   "source": [
    "Image(url= \"./PreprocessingAndPipelinesImages/18.png\", width=400)"
   ]
  },
  {
   "cell_type": "code",
   "execution_count": 21,
   "id": "ee25dbf1",
   "metadata": {},
   "outputs": [
    {
     "data": {
      "text/html": [
       "<img src=\"./PreprocessingAndPipelinesImages/19.png\" width=\"400\"/>"
      ],
      "text/plain": [
       "<IPython.core.display.Image object>"
      ]
     },
     "execution_count": 21,
     "metadata": {},
     "output_type": "execute_result"
    }
   ],
   "source": [
    "Image(url= \"./PreprocessingAndPipelinesImages/19.png\", width=400)"
   ]
  },
  {
   "cell_type": "code",
   "execution_count": 22,
   "id": "d42b001b",
   "metadata": {},
   "outputs": [
    {
     "data": {
      "text/html": [
       "<img src=\"./PreprocessingAndPipelinesImages/20.png\" width=\"400\"/>"
      ],
      "text/plain": [
       "<IPython.core.display.Image object>"
      ]
     },
     "execution_count": 22,
     "metadata": {},
     "output_type": "execute_result"
    }
   ],
   "source": [
    "Image(url= \"./PreprocessingAndPipelinesImages/20.png\", width=400)"
   ]
  },
  {
   "cell_type": "code",
   "execution_count": 23,
   "id": "8d4e8165",
   "metadata": {},
   "outputs": [
    {
     "data": {
      "text/html": [
       "<img src=\"./PreprocessingAndPipelinesImages/21.png\" width=\"400\"/>"
      ],
      "text/plain": [
       "<IPython.core.display.Image object>"
      ]
     },
     "execution_count": 23,
     "metadata": {},
     "output_type": "execute_result"
    }
   ],
   "source": [
    "Image(url= \"./PreprocessingAndPipelinesImages/21.png\", width=400)"
   ]
  },
  {
   "cell_type": "code",
   "execution_count": 25,
   "id": "71f9251a",
   "metadata": {},
   "outputs": [
    {
     "data": {
      "text/html": [
       "<img src=\"./PreprocessingAndPipelinesImages/22.png\" width=\"400\"/>"
      ],
      "text/plain": [
       "<IPython.core.display.Image object>"
      ]
     },
     "execution_count": 25,
     "metadata": {},
     "output_type": "execute_result"
    }
   ],
   "source": [
    "Image(url= \"./PreprocessingAndPipelinesImages/22.png\", width=400)"
   ]
  },
  {
   "cell_type": "code",
   "execution_count": 26,
   "id": "d0a6f2c7",
   "metadata": {},
   "outputs": [
    {
     "data": {
      "text/html": [
       "<img src=\"./PreprocessingAndPipelinesImages/23.png\" width=\"400\"/>"
      ],
      "text/plain": [
       "<IPython.core.display.Image object>"
      ]
     },
     "execution_count": 26,
     "metadata": {},
     "output_type": "execute_result"
    }
   ],
   "source": [
    "Image(url= \"./PreprocessingAndPipelinesImages/23.png\", width=400)"
   ]
  },
  {
   "cell_type": "code",
   "execution_count": 27,
   "id": "02cc3c3e",
   "metadata": {},
   "outputs": [
    {
     "data": {
      "text/html": [
       "<img src=\"./PreprocessingAndPipelinesImages/24.png\" width=\"400\"/>"
      ],
      "text/plain": [
       "<IPython.core.display.Image object>"
      ]
     },
     "execution_count": 27,
     "metadata": {},
     "output_type": "execute_result"
    }
   ],
   "source": [
    "Image(url= \"./PreprocessingAndPipelinesImages/24.png\", width=400)"
   ]
  },
  {
   "cell_type": "markdown",
   "id": "757e586b",
   "metadata": {},
   "source": [
    "<h4>Exercise</h4>\n",
    "<h2>Centering and scaling your data</h2>\n",
    "In the video, Hugo demonstrated how significantly the performance of a model can improve if the features are scaled. Note that this is not always the case: In the Congressional voting records dataset, for example, all of the features are binary. In such a situation, scaling will have minimal impact.\n",
    "\n",
    "You will now explore scaling for yourself on a new dataset - White Wine Quality! Hugo used the Red Wine Quality dataset in the video. We have used the 'quality' feature of the wine to create a binary target variable: If 'quality' is less than 5, the target variable is 1, and otherwise, it is 0.\n",
    "\n",
    "The DataFrame has been pre-loaded as df, along with the feature and target variable arrays X and y. Explore it in the IPython Shell. Notice how some features seem to have different units of measurement. 'density', for instance, takes values between 0.98 and 1.04, while 'total sulfur dioxide' ranges from 9 to 440. As a result, it may be worth scaling the features here. Your job in this exercise is to scale the features and compute the mean and standard deviation of the unscaled features compared to the scaled features.\n",
    "\n",
    "<h4>Instructions</h4>\n",
    "<ul>\n",
    "    <li>Import scale from sklearn.preprocessing.</li>\n",
    "    <li>Scale the features X using scale().</li>\n",
    "    <li>Print the mean and standard deviation of the unscaled features X, and then the scaled features X_scaled. Use the numpy functions np.mean() and np.std() to compute the mean and standard deviations.</li>\n",
    "</ul>\n",
    "\n",
    "\n"
   ]
  },
  {
   "cell_type": "raw",
   "id": "30569504",
   "metadata": {},
   "source": [
    "# Import scale\n",
    "from sklearn.preprocessing import scale\n",
    "\n",
    "# Scale the features: X_scaled\n",
    "X_scaled = scale(X)\n",
    "\n",
    "# Print the mean and standard deviation of the unscaled features\n",
    "print(\"Mean of Unscaled Features: {}\".format(np.mean(X))) \n",
    "print(\"Standard Deviation of Unscaled Features: {}\".format(np.std(X)))\n",
    "\n",
    "# Print the mean and standard deviation of the scaled features\n",
    "print(\"Mean of Scaled Features: {}\".format(np.mean(X_scaled))) \n",
    "print(\"Standard Deviation of Scaled Features: {}\".format(np.std(X_scaled)))"
   ]
  },
  {
   "cell_type": "raw",
   "id": "389b795c",
   "metadata": {},
   "source": [
    "Print the mean and standard deviation of the unscaled features X, and then the scaled features X_scaled. Use the numpy functions np.mean() and np.std() to compute the mean and standard deviations."
   ]
  },
  {
   "cell_type": "markdown",
   "id": "e31407a0",
   "metadata": {},
   "source": [
    "Great work! Notice the difference in the mean and standard deviation of the scaled features compared to the unscaled features."
   ]
  },
  {
   "cell_type": "markdown",
   "id": "3448846e",
   "metadata": {},
   "source": [
    "<h4>Exercise</h4>\n",
    "Centering and scaling in a pipeline\n",
    "With regard to whether or not scaling is effective, the proof is in the pudding! See for yourself whether or not scaling the features of the White Wine Quality dataset has any impact on its performance. You will use a k-NN classifier as part of a pipeline that includes scaling, and for the purposes of comparison, a k-NN classifier trained on the unscaled data has been provided.\n",
    "\n",
    "The feature array and target variable array have been pre-loaded as X and y. Additionally, KNeighborsClassifier and train_test_split have been imported from sklearn.neighbors and sklearn.model_selection, respectively.\n",
    "\n",
    "<h4>Instructions</h4>\n",
    "<ul>\n",
    "    <li>Import the following modules:\n",
    "        <ul>\n",
    "            <li>StandardScaler from sklearn.preprocessing.</li>\n",
    "            <li>Pipeline from sklearn.pipeline.</li>\n",
    "        </ul>\n",
    "    </li>\n",
    "    <li>Complete the steps of the pipeline with StandardScaler() for 'scaler' and KNeighborsClassifier() for 'knn'.</li>\n",
    "    <li>Create the pipeline using Pipeline() and steps.</li>\n",
    "    <li>Create training and test sets, with 30% used for testing. Use a random state of 42.</li>\n",
    "    <li>Fit the pipeline to the training set.</li>\n",
    "    <li>Compute the accuracy scores of the scaled and unscaled models by using the .score() method inside the provided print() functions.</li>\n",
    "</ul>"
   ]
  },
  {
   "cell_type": "raw",
   "id": "dbec8727",
   "metadata": {},
   "source": [
    "# Import the necessary modules\n",
    "from sklearn.preprocessing import StandardScaler\n",
    "from sklearn.pipeline import Pipeline\n",
    "\n",
    "# Setup the pipeline steps: steps\n",
    "steps = [('scaler', StandardScaler()),\n",
    "        ('knn', KNeighborsClassifier())]\n",
    "        \n",
    "# Create the pipeline: pipeline\n",
    "pipeline = Pipeline(steps)\n",
    "\n",
    "# Create train and test sets\n",
    "X_train, X_test, y_train, y_test = train_test_split(X, y, test_size = 0.3, random_state=42)\n",
    "\n",
    "# Fit the pipeline to the training set: knn_scaled\n",
    "knn_scaled = pipeline.fit(X_train, y_train)\n",
    "\n",
    "# Instantiate and fit a k-NN classifier to the unscaled data\n",
    "knn_unscaled = KNeighborsClassifier().fit(X_train, y_train)\n",
    "\n",
    "# Compute and print metrics\n",
    "print('Accuracy with Scaling: {}'.format(knn_scaled.score(X_test, y_test)))\n",
    "print('Accuracy without Scaling: {}'.format(knn_unscaled.score(X_test, y_test)))\n"
   ]
  },
  {
   "cell_type": "raw",
   "id": "3be178ef",
   "metadata": {},
   "source": [
    "Accuracy with Scaling: 0.7700680272108843\n",
    "Accuracy without Scaling: 0.6979591836734694"
   ]
  },
  {
   "cell_type": "markdown",
   "id": "4354c1e7",
   "metadata": {},
   "source": [
    "Fantastic! It looks like scaling has significantly improved model performance!"
   ]
  },
  {
   "cell_type": "markdown",
   "id": "bc8b7400",
   "metadata": {},
   "source": [
    "<h4>Exercise</h4>\n",
    "<h2>Bringing it all together I: Pipeline for classification</h2>\n",
    "It is time now to piece together everything you have learned so far into a pipeline for classification! Your job in this exercise is to build a pipeline that includes scaling and hyperparameter tuning to classify wine quality.\n",
    "\n",
    "You'll return to using the SVM classifier you were briefly introduced to earlier in this chapter. The hyperparameters you will tune are  and .  controls the regularization strength. It is analogous to the  you tuned for logistic regression in Chapter 3, while  controls the kernel coefficient: Do not worry about this now as it is beyond the scope of this course.\n",
    "\n",
    "The following modules and functions have been pre-loaded: Pipeline, SVC, train_test_split, GridSearchCV, classification_report, accuracy_score. The feature and target variable arrays X and y have also been pre-loaded.\n",
    "\n",
    "<h4>Instructions</h4>\n",
    "<ul>\n",
    "    <li>\n",
    "        <ul>\n",
    "            Setup the pipeline with the following steps:\n",
    "            <li>Scaling, called 'scaler' with StandardScaler().</li>\n",
    "            <li>Classification, called 'SVM' with SVC().</li>\n",
    "        </ul>\n",
    "    </li>\n",
    "    <li>Specify the hyperparameter space using the following notation: 'step_name__parameter_name'. Here, the step_name is SVM, and the parameter_names are C and gamma.</li>\n",
    "    <li>Create training and test sets, with 20% of the data used for the test set. Use a random state of 21.</li>\n",
    "    <li>Instantiate GridSearchCV with the pipeline and hyperparameter space and fit it to the training set. Use 3-fold cross-validation (This is the default, so you don't have to specify it).</li>\n",
    "    <li>Predict the labels of the test set and compute the metrics. The metrics have been computed for you.</li>\n",
    "</ul>"
   ]
  },
  {
   "cell_type": "raw",
   "id": "e981ca0d",
   "metadata": {},
   "source": [
    "# Setup the pipeline\n",
    "steps = [('scaler', StandardScaler()),\n",
    "         ('SVM', SVC())]\n",
    "\n",
    "pipeline = Pipeline(steps)\n",
    "\n",
    "# Specify the hyperparameter space\n",
    "parameters = {'SVM__C':[1, 10, 100],\n",
    "              'SVM__gamma':[0.1, 0.01]}\n",
    "\n",
    "# Create train and test sets\n",
    "X_train, X_test, y_train, y_test = train_test_split(X, y, test_size = 0.2, random_state=21)\n",
    "\n",
    "# Instantiate the GridSearchCV object: cv\n",
    "cv = GridSearchCV(pipeline, parameters)\n",
    "\n",
    "# Fit to the training set\n",
    "cv.fit(X_train, y_train)\n",
    "\n",
    "# Predict the labels of the test set: y_pred\n",
    "y_pred = cv.predict(X_test)\n",
    "\n",
    "# Compute and print metrics\n",
    "print(\"Accuracy: {}\".format(cv.score(X_test, y_test)))\n",
    "print(classification_report(y_test, y_pred))\n",
    "print(\"Tuned Model Parameters: {}\".format(cv.best_params_))\n"
   ]
  },
  {
   "cell_type": "raw",
   "id": "bbac9373",
   "metadata": {},
   "source": [
    "Accuracy: 0.7795918367346939\n",
    "             precision    recall  f1-score   support\n",
    "\n",
    "      False       0.83      0.85      0.84       662\n",
    "       True       0.67      0.63      0.65       318\n",
    "\n",
    "avg / total       0.78      0.78      0.78       980\n",
    "\n",
    "Tuned Model Parameters: {'SVM__C': 10, 'SVM__gamma': 0.1}"
   ]
  },
  {
   "cell_type": "markdown",
   "id": "39561848",
   "metadata": {},
   "source": [
    "<h4>Exercise</h4>\n",
    "<h2>Bringing it all together II: Pipeline for regression</h2>\n",
    "\n",
    "For this final exercise, you will return to the Gapminder dataset. Guess what? Even this dataset has missing values that we dealt with for you in earlier chapters! Now, you have all the tools to take care of them yourself!\n",
    "\n",
    "Your job is to build a pipeline that imputes the missing data, scales the features, and fits an ElasticNet to the Gapminder data. You will then tune the l1_ratio of your ElasticNet using GridSearchCV.\n",
    "\n",
    "All the necessary modules have been imported, and the feature and target variable arrays have been pre-loaded as X and y.\n",
    "\n",
    "<h4>Instructions</h4>\n",
    "<ul>\n",
    "    <li>\n",
    "        Set up a pipeline with the following steps:\n",
    "        <ul>\n",
    "            <li>'imputation', which uses the Imputer() transformer and the 'mean' strategy to impute missing data ('NaN') using the mean of the column.</li>\n",
    "            <li>'scaler', which scales the features using StandardScaler().</li>\n",
    "            <li>'elasticnet', which instantiates an ElasticNet() regressor.</li>\n",
    "        </ul>\n",
    "    </li>\n",
    "    <li>Specify the hyperparameter space for the  ratio using the following notation: 'step_name__parameter_name'. Here, the step_name is elasticnet, and the parameter_name is l1_ratio.</li>\n",
    "    <li>Create training and test sets, with 40% of the data used for the test set. Use a random state of 42.</li>\n",
    "    <li>Instantiate GridSearchCV with the pipeline and hyperparameter space. Use 3-fold cross-validation (This is the default, so you don't have to specify it).</li>\n",
    "    <li>Fit the GridSearchCV object to the training set.</li>\n",
    "    <li>Compute  and the best parameters. This has been done for you, so hit submit to see the results!</li>\n",
    "</ul>"
   ]
  },
  {
   "cell_type": "raw",
   "id": "dd01dad7",
   "metadata": {},
   "source": [
    "# Setup the pipeline steps: steps\n",
    "steps = [('imputation', Imputer(missing_values='NaN', strategy='mean', axis=0)),\n",
    "         ('scaler', StandardScaler()),\n",
    "         ('elasticnet', ElasticNet())]\n",
    "\n",
    "# Create the pipeline: pipeline \n",
    "pipeline = Pipeline(steps)\n",
    "\n",
    "# Specify the hyperparameter space\n",
    "parameters = {'elasticnet__l1_ratio':np.linspace(0,1,30)}\n",
    "\n",
    "# Create train and test sets\n",
    "X_train, X_test, y_train, y_test = train_test_split(X, y, test_size = 0.4, random_state=42)\n",
    "\n",
    "# Create the GridSearchCV object: gm_cv\n",
    "gm_cv = GridSearchCV(pipeline, parameters)\n",
    "\n",
    "# Fit to the training set\n",
    "gm_cv.fit(X_train, y_train)\n",
    "\n",
    "# Compute and print the metrics\n",
    "r2 = gm_cv.score(X_test, y_test)\n",
    "print(\"Tuned ElasticNet Alpha: {}\".format(gm_cv.best_params_))\n",
    "print(\"Tuned ElasticNet R squared: {}\".format(r2))\n"
   ]
  },
  {
   "cell_type": "raw",
   "id": "c0fabc87",
   "metadata": {},
   "source": [
    "Tuned ElasticNet Alpha: {'elasticnet__l1_ratio': 1.0}\n",
    "Tuned ElasticNet R squared: 0.8862016570888217"
   ]
  },
  {
   "cell_type": "markdown",
   "id": "6de2299f",
   "metadata": {},
   "source": [
    "Fantastic work! You have now mastered the fundamentals of supervised learning with scikit-learn!"
   ]
  },
  {
   "cell_type": "code",
   "execution_count": null,
   "id": "2d71ffba",
   "metadata": {},
   "outputs": [],
   "source": []
  }
 ],
 "metadata": {
  "kernelspec": {
   "display_name": "Python 3 (ipykernel)",
   "language": "python",
   "name": "python3"
  },
  "language_info": {
   "codemirror_mode": {
    "name": "ipython",
    "version": 3
   },
   "file_extension": ".py",
   "mimetype": "text/x-python",
   "name": "python",
   "nbconvert_exporter": "python",
   "pygments_lexer": "ipython3",
   "version": "3.9.7"
  }
 },
 "nbformat": 4,
 "nbformat_minor": 5
}
