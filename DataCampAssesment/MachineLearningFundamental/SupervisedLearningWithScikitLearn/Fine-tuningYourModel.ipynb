{
 "cells": [
  {
   "cell_type": "markdown",
   "id": "1c6d0883",
   "metadata": {},
   "source": [
    "<h3>Fine-Tuning</h3>"
   ]
  },
  {
   "cell_type": "code",
   "execution_count": 3,
   "id": "fd7d3e2d",
   "metadata": {},
   "outputs": [
    {
     "data": {
      "text/html": [
       "<img src=\"./FineTuningImages/1.png\" width=\"400\"/>"
      ],
      "text/plain": [
       "<IPython.core.display.Image object>"
      ]
     },
     "execution_count": 3,
     "metadata": {},
     "output_type": "execute_result"
    }
   ],
   "source": [
    "from IPython.display import Image\n",
    "\n",
    "\n",
    "Image(url= \"./FineTuningImages/1.png\", width=400)"
   ]
  },
  {
   "cell_type": "code",
   "execution_count": 2,
   "id": "cf28fe32",
   "metadata": {},
   "outputs": [
    {
     "data": {
      "text/html": [
       "<img src=\"./FineTuningImages/2.png\" width=\"400\"/>"
      ],
      "text/plain": [
       "<IPython.core.display.Image object>"
      ]
     },
     "execution_count": 2,
     "metadata": {},
     "output_type": "execute_result"
    }
   ],
   "source": [
    "Image(url= \"./FineTuningImages/2.png\", width=400)"
   ]
  },
  {
   "cell_type": "markdown",
   "id": "14128e79",
   "metadata": {},
   "source": [
    "<h3>Exercise</h3>\n",
    "Metrics for classification\n",
    "In Chapter 1, you evaluated the performance of your k-NN classifier based on its accuracy. However, as Andy discussed, accuracy is not always an informative metric. In this exercise, you will dive more deeply into evaluating the performance of binary classifiers by computing a confusion matrix and generating a classification report.\n",
    "\n",
    "You may have noticed in the video that the classification report consisted of three rows, and an additional support column. The support gives the number of samples of the true response that lie in that class - so in the video example, the support was the number of Republicans or Democrats in the test set on which the classification report was computed. The precision, recall, and f1-score columns, then, gave the respective metrics for that particular class.\n",
    "\n",
    "Here, you'll work with the PIMA Indians dataset obtained from the UCI Machine Learning Repository. The goal is to predict whether or not a given female patient will contract diabetes based on features such as BMI, age, and number of pregnancies. Therefore, it is a binary classification problem. A target value of 0 indicates that the patient does not have diabetes, while a value of 1 indicates that the patient does have diabetes. As in Chapters 1 and 2, the dataset has been preprocessed to deal with missing values.\n",
    "\n",
    "The dataset has been loaded into a DataFrame df and the feature and target variable arrays X and y have been created for you. In addition, sklearn.model_selection.train_test_split and sklearn.neighbors.KNeighborsClassifier have already been imported.\n",
    "\n",
    "Your job is to train a k-NN classifier to the data and evaluate its performance by generating a confusion matrix and classification report.\n",
    "\n",
    "\n",
    "<h3>Instructions</h3>\n",
    "<ul>\n",
    "    <li>Import classification_report and confusion_matrix from sklearn.metrics.</li>\n",
    "    <li>Create training and testing sets with 40% of the data used for testing. Use a random state of 42.</li>\n",
    "    <li>Instantiate a k-NN classifier with 6 neighbors, fit it to the training data, and predict the labels of the test set.</li>\n",
    "    <li>Compute and print the confusion matrix and classification report using the confusion_matrix() and classification_report() functions.</li>\n",
    "</ul>"
   ]
  },
  {
   "cell_type": "raw",
   "id": "33f720a4",
   "metadata": {},
   "source": [
    "# Import necessary modules\n",
    "from sklearn.model_selection import train_test_split\n",
    "from sklearn.metrics import classification_report, confusion_matrix\n",
    "from sklearn.neighbors import KNeighborsClassifier\n",
    "\n",
    "# Create training and test set\n",
    "X_train, X_test, y_train, y_test = train_test_split(X, y, test_size = 0.4, random_state=42)\n",
    "\n",
    "# Instantiate a k-NN classifier: knn\n",
    "knn = KNeighborsClassifier(n_neighbors = 6)\n",
    "\n",
    "# Fit the classifier to the training data\n",
    "knn.fit(X_train,y_train)\n",
    "\n",
    "# Predict the labels of the test data: y_pred\n",
    "y_pred = knn.predict(X_test)\n",
    "\n",
    "# Generate the confusion matrix and classification report\n",
    "print(classification_report(y_test, y_pred))\n",
    "print(confusion_matrix(y_test, y_pred))\n"
   ]
  },
  {
   "cell_type": "raw",
   "id": "6d018164",
   "metadata": {},
   "source": [
    " precision    recall  f1-score   support\n",
    "\n",
    "          0       0.77      0.85      0.81       206\n",
    "          1       0.62      0.49      0.55       102\n",
    "\n",
    "avg / total       0.72      0.73      0.72       308\n",
    "\n",
    "[[176  30]\n",
    " [ 52  50]]"
   ]
  },
  {
   "cell_type": "markdown",
   "id": "27e9fbf0",
   "metadata": {},
   "source": [
    "Excellent work! By analyzing the confusion matrix and classification report, you can get a much better understanding of your classifier's performance."
   ]
  },
  {
   "cell_type": "markdown",
   "id": "149db574",
   "metadata": {},
   "source": [
    "<h2>Logistic regression and the ROC curve</h2>"
   ]
  },
  {
   "cell_type": "code",
   "execution_count": 4,
   "id": "fd915bf3",
   "metadata": {},
   "outputs": [
    {
     "data": {
      "text/html": [
       "<img src=\"./FineTuningImages/3.png\" width=\"400\"/>"
      ],
      "text/plain": [
       "<IPython.core.display.Image object>"
      ]
     },
     "execution_count": 4,
     "metadata": {},
     "output_type": "execute_result"
    }
   ],
   "source": [
    "Image(url= \"./FineTuningImages/3.png\", width=400)"
   ]
  },
  {
   "cell_type": "code",
   "execution_count": 5,
   "id": "6def7eee",
   "metadata": {},
   "outputs": [
    {
     "data": {
      "text/html": [
       "<img src=\"./FineTuningImages/4.png\" width=\"400\"/>"
      ],
      "text/plain": [
       "<IPython.core.display.Image object>"
      ]
     },
     "execution_count": 5,
     "metadata": {},
     "output_type": "execute_result"
    }
   ],
   "source": [
    "Image(url= \"./FineTuningImages/4.png\", width=400)"
   ]
  },
  {
   "cell_type": "code",
   "execution_count": 6,
   "id": "ff6038b8",
   "metadata": {},
   "outputs": [
    {
     "data": {
      "text/html": [
       "<img src=\"./FineTuningImages/5.png\" width=\"400\"/>"
      ],
      "text/plain": [
       "<IPython.core.display.Image object>"
      ]
     },
     "execution_count": 6,
     "metadata": {},
     "output_type": "execute_result"
    }
   ],
   "source": [
    "Image(url= \"./FineTuningImages/5.png\", width=400)"
   ]
  },
  {
   "cell_type": "code",
   "execution_count": 7,
   "id": "5f5900d8",
   "metadata": {},
   "outputs": [
    {
     "data": {
      "text/html": [
       "<img src=\"./FineTuningImages/6.png\" width=\"400\"/>"
      ],
      "text/plain": [
       "<IPython.core.display.Image object>"
      ]
     },
     "execution_count": 7,
     "metadata": {},
     "output_type": "execute_result"
    }
   ],
   "source": [
    "Image(url= \"./FineTuningImages/6.png\", width=400)"
   ]
  },
  {
   "cell_type": "code",
   "execution_count": 8,
   "id": "ed6c1a99",
   "metadata": {},
   "outputs": [
    {
     "data": {
      "text/html": [
       "<img src=\"./FineTuningImages/7.png\" width=\"400\"/>"
      ],
      "text/plain": [
       "<IPython.core.display.Image object>"
      ]
     },
     "execution_count": 8,
     "metadata": {},
     "output_type": "execute_result"
    }
   ],
   "source": [
    "Image(url= \"./FineTuningImages/7.png\", width=400)"
   ]
  },
  {
   "cell_type": "code",
   "execution_count": 9,
   "id": "d1eef2a8",
   "metadata": {},
   "outputs": [
    {
     "data": {
      "text/html": [
       "<img src=\"./FineTuningImages/8.png\" width=\"400\"/>"
      ],
      "text/plain": [
       "<IPython.core.display.Image object>"
      ]
     },
     "execution_count": 9,
     "metadata": {},
     "output_type": "execute_result"
    }
   ],
   "source": [
    "Image(url= \"./FineTuningImages/8.png\", width=400)"
   ]
  },
  {
   "cell_type": "code",
   "execution_count": 10,
   "id": "541c3eb7",
   "metadata": {},
   "outputs": [
    {
     "data": {
      "text/html": [
       "<img src=\"./FineTuningImages/9.png\" width=\"400\"/>"
      ],
      "text/plain": [
       "<IPython.core.display.Image object>"
      ]
     },
     "execution_count": 10,
     "metadata": {},
     "output_type": "execute_result"
    }
   ],
   "source": [
    "Image(url= \"./FineTuningImages/9.png\", width=400)"
   ]
  },
  {
   "cell_type": "code",
   "execution_count": 11,
   "id": "21846d1d",
   "metadata": {},
   "outputs": [
    {
     "data": {
      "text/html": [
       "<img src=\"./FineTuningImages/10.png\" width=\"400\"/>"
      ],
      "text/plain": [
       "<IPython.core.display.Image object>"
      ]
     },
     "execution_count": 11,
     "metadata": {},
     "output_type": "execute_result"
    }
   ],
   "source": [
    "Image(url= \"./FineTuningImages/10.png\", width=400)"
   ]
  },
  {
   "cell_type": "code",
   "execution_count": 12,
   "id": "d7f34903",
   "metadata": {},
   "outputs": [
    {
     "data": {
      "text/html": [
       "<img src=\"./FineTuningImages/11.png\" width=\"400\"/>"
      ],
      "text/plain": [
       "<IPython.core.display.Image object>"
      ]
     },
     "execution_count": 12,
     "metadata": {},
     "output_type": "execute_result"
    }
   ],
   "source": [
    "Image(url= \"./FineTuningImages/11.png\", width=400)"
   ]
  },
  {
   "cell_type": "code",
   "execution_count": 13,
   "id": "666fa138",
   "metadata": {},
   "outputs": [
    {
     "data": {
      "text/html": [
       "<img src=\"./FineTuningImages/12.png\" width=\"400\"/>"
      ],
      "text/plain": [
       "<IPython.core.display.Image object>"
      ]
     },
     "execution_count": 13,
     "metadata": {},
     "output_type": "execute_result"
    }
   ],
   "source": [
    "Image(url= \"./FineTuningImages/12.png\", width=400)"
   ]
  },
  {
   "cell_type": "code",
   "execution_count": 14,
   "id": "32c4a625",
   "metadata": {},
   "outputs": [
    {
     "data": {
      "text/html": [
       "<img src=\"./FineTuningImages/13.png\" width=\"400\"/>"
      ],
      "text/plain": [
       "<IPython.core.display.Image object>"
      ]
     },
     "execution_count": 14,
     "metadata": {},
     "output_type": "execute_result"
    }
   ],
   "source": [
    "Image(url= \"./FineTuningImages/13.png\", width=400)"
   ]
  },
  {
   "cell_type": "code",
   "execution_count": 15,
   "id": "a01c2629",
   "metadata": {},
   "outputs": [
    {
     "data": {
      "text/html": [
       "<img src=\"./FineTuningImages/14.png\" width=\"400\"/>"
      ],
      "text/plain": [
       "<IPython.core.display.Image object>"
      ]
     },
     "execution_count": 15,
     "metadata": {},
     "output_type": "execute_result"
    }
   ],
   "source": [
    "Image(url= \"./FineTuningImages/14.png\", width=400)"
   ]
  },
  {
   "cell_type": "markdown",
   "id": "6f5e01c3",
   "metadata": {},
   "source": [
    "<h3>Exercise</h3>\n",
    "<h2>Building a logistic regression model</h2>\n",
    "Time to build your first logistic regression model! As Hugo showed in the video, scikit-learn makes it very easy to try different models, since the Train-Test-Split/Instantiate/Fit/Predict paradigm applies to all classifiers and regressors - which are known in scikit-learn as 'estimators'. You'll see this now for yourself as you train a logistic regression model on exactly the same data as in the previous exercise. Will it outperform k-NN? There's only one way to find out!\n",
    "\n",
    "The feature and target variable arrays X and y have been pre-loaded, and train_test_split has been imported for you from sklearn.model_selection.\n",
    "\n",
    "<h3>Instructions</h3>\n",
    "<ul>\n",
    "    <li> Import:\n",
    "        <ul>\n",
    "            <li>LogisticRegression from sklearn.linear_model.</li>\n",
    "            <li>confusion_matrix and classification_report from sklearn.metrics.</li>\n",
    "        </ul>\n",
    "    </li>\n",
    "    <li>Create training and test sets with 40% (or 0.4) of the data used for testing. Use a random state of 42. This has been done for you.</li>\n",
    "    <li>Instantiate a LogisticRegression classifier called logreg.</li>\n",
    "    <li>Fit the classifier to the training data and predict the labels of the test set.</li>\n",
    "    <li>Compute and print the confusion matrix and classification report. This has been done for you, so hit submit to see how logistic regression compares to k-NN!</li>\n",
    "</ul>"
   ]
  },
  {
   "cell_type": "raw",
   "id": "4265ddb2",
   "metadata": {},
   "source": [
    "# Import the necessary modules\n",
    "from sklearn.linear_model import LogisticRegression\n",
    "from sklearn.metrics import confusion_matrix, classification_report\n",
    "\n",
    "# Create training and test sets\n",
    "X_train, X_test, y_train, y_test = train_test_split(X, y, test_size = 0.4, random_state=42)\n",
    "\n",
    "# Create the classifier: logreg\n",
    "logreg = LogisticRegression()\n",
    "\n",
    "# Fit the classifier to the training data\n",
    "logreg.fit(X_train, y_train)\n",
    "\n",
    "# Predict the labels of the test set: y_pred\n",
    "y_pred = logreg.predict(X_test)\n",
    "\n",
    "# Compute and print the confusion matrix and classification report\n",
    "print(confusion_matrix(y_test, y_pred))\n",
    "print(classification_report(y_test, y_pred))"
   ]
  },
  {
   "cell_type": "raw",
   "id": "bd6a941a",
   "metadata": {},
   "source": [
    "precision    recall  f1-score   support\n",
    "\n",
    "          0       0.83      0.85      0.84       206\n",
    "          1       0.69      0.66      0.67       102\n",
    "\n",
    "avg / total       0.79      0.79      0.79       308"
   ]
  },
  {
   "cell_type": "code",
   "execution_count": null,
   "id": "8a424437",
   "metadata": {},
   "outputs": [],
   "source": []
  },
  {
   "cell_type": "markdown",
   "id": "ddee439d",
   "metadata": {},
   "source": [
    "You now know how to use logistic regression for binary classification - great work! Logistic regression is used in a variety of machine learning applications and will become a vital part of your data science toolbox."
   ]
  },
  {
   "cell_type": "markdown",
   "id": "2a4c5ba6",
   "metadata": {},
   "source": [
    "<h4>Exercise</h4>\n",
    "<h3>Plotting an ROC curve</h3>\n",
    "Great job in the previous exercise - you now have a new addition to your toolbox of classifiers!\n",
    "\n",
    "Classification reports and confusion matrices are great methods to quantitatively evaluate model performance, while ROC curves provide a way to visually evaluate models. As Hugo demonstrated in the video, most classifiers in scikit-learn have a .predict_proba() method which returns the probability of a given sample being in a particular class. Having built a logistic regression model, you'll now evaluate its performance by plotting an ROC curve. In doing so, you'll make use of the .predict_proba() method and become familiar with its functionality.\n",
    "\n",
    "Here, you'll continue working with the PIMA Indians diabetes dataset. The classifier has already been fit to the training data and is available as logreg.\n",
    "\n",
    "<h3>Instructions</h3>\n",
    "<ul>\n",
    "    <li>Import roc_curve from sklearn.metrics.</li>\n",
    "    <li>Using the logreg classifier, which has been fit to the training data, compute the predicted probabilities of the labels of the test set X_test. Save the result as y_pred_prob.</li>\n",
    "    <li>Use the roc_curve() function with y_test and y_pred_prob and unpack the result into the variables fpr, tpr, and thresholds.\n",
    "Plot the ROC curve with fpr on the x-axis and tpr on the y-axis.</li>\n",
    "</ul>"
   ]
  },
  {
   "cell_type": "raw",
   "id": "5c43fdf0",
   "metadata": {},
   "source": [
    "# Import necessary modules\n",
    "from sklearn.metrics import roc_curve\n",
    "\n",
    "# Compute predicted probabilities: y_pred_prob\n",
    "y_pred_prob = logreg.predict_proba(X_test)[:,1]\n",
    "\n",
    "# Generate ROC curve values: fpr, tpr, thresholds\n",
    "fpr, tpr, thresholds = roc_curve(y_test, y_pred_prob)\n",
    "\n",
    "# Plot ROC curve\n",
    "plt.plot([0, 1], [0, 1], 'k--')\n",
    "plt.plot(fpr, tpr)\n",
    "plt.xlabel('False Positive Rate')\n",
    "plt.ylabel('True Positive Rate')\n",
    "plt.title('ROC Curve')\n",
    "plt.show()"
   ]
  },
  {
   "cell_type": "code",
   "execution_count": 16,
   "id": "6001a71f",
   "metadata": {},
   "outputs": [
    {
     "data": {
      "text/html": [
       "<img src=\"./FineTuningImages/15.png\" width=\"400\"/>"
      ],
      "text/plain": [
       "<IPython.core.display.Image object>"
      ]
     },
     "execution_count": 16,
     "metadata": {},
     "output_type": "execute_result"
    }
   ],
   "source": [
    "Image(url= \"./FineTuningImages/15.png\", width=400)"
   ]
  },
  {
   "cell_type": "markdown",
   "id": "f74ff586",
   "metadata": {},
   "source": [
    "Excellent! This ROC curve provides a nice visual way to assess your classifier's performance."
   ]
  },
  {
   "cell_type": "markdown",
   "id": "4acb657c",
   "metadata": {},
   "source": [
    "<h4>Exercise</h4>\n",
    "Precision-recall Curve\n",
    "When looking at your ROC curve, you may have noticed that the y-axis (True positive rate) is also known as recall. Indeed, in addition to the ROC curve, there are other ways to visually evaluate model performance. One such way is the precision-recall curve, which is generated by plotting the precision and recall for different thresholds. As a reminder, precision and recall are defined as:\n",
    "\n",
    "On the right, a precision-recall curve has been generated for the diabetes dataset. The classification report and confusion matrix are displayed in the IPython Shell.\n",
    "\n",
    "Study the precision-recall curve and then consider the statements given below. Choose the one statement that is not true. Note that here, the class is positive (1) if the individual has diabetes.\n",
    "\n",
    "<h4>Instructions</h4>\n",
    "\n",
    "Possible Answers\n",
    "<ul>\n",
    "    <li>A recall of 1 corresponds to a classifier with a low threshold in which all females who contract diabetes were correctly classified as such, at the expense of many misclassifications of those who did not have diabetes.</li>\n",
    "    <li>Precision is undefined for a classifier which makes no positive predictions, that is, classifies everyone as not having diabetes.\n",
    "</li>\n",
    "    <li>When the threshold is very close to 1, precision is also 1, because the classifier is absolutely certain about its predictions.</li>\n",
    "    <li>Precision and recall take true negatives into consideration.</li>\n",
    "</ul>"
   ]
  },
  {
   "cell_type": "code",
   "execution_count": 17,
   "id": "5e77fa95",
   "metadata": {},
   "outputs": [
    {
     "data": {
      "text/html": [
       "<img src=\"./FineTuningImages/16.png\" width=\"400\"/>"
      ],
      "text/plain": [
       "<IPython.core.display.Image object>"
      ]
     },
     "execution_count": 17,
     "metadata": {},
     "output_type": "execute_result"
    }
   ],
   "source": [
    "Image(url= \"./FineTuningImages/16.png\", width=400)"
   ]
  },
  {
   "cell_type": "markdown",
   "id": "cb4a359e",
   "metadata": {},
   "source": [
    "Great work! True negatives do not appear at all in the definitions of precision and recall."
   ]
  },
  {
   "cell_type": "code",
   "execution_count": 18,
   "id": "09377131",
   "metadata": {},
   "outputs": [
    {
     "data": {
      "text/html": [
       "<img src=\"./FineTuningImages/17.png\" width=\"400\"/>"
      ],
      "text/plain": [
       "<IPython.core.display.Image object>"
      ]
     },
     "execution_count": 18,
     "metadata": {},
     "output_type": "execute_result"
    }
   ],
   "source": [
    "Image(url= \"./FineTuningImages/17.png\", width=400)"
   ]
  },
  {
   "cell_type": "code",
   "execution_count": 19,
   "id": "151e0af0",
   "metadata": {},
   "outputs": [
    {
     "data": {
      "text/html": [
       "<img src=\"./FineTuningImages/18.png\" width=\"400\"/>"
      ],
      "text/plain": [
       "<IPython.core.display.Image object>"
      ]
     },
     "execution_count": 19,
     "metadata": {},
     "output_type": "execute_result"
    }
   ],
   "source": [
    "Image(url= \"./FineTuningImages/18.png\", width=400)"
   ]
  },
  {
   "cell_type": "code",
   "execution_count": 20,
   "id": "983c2e15",
   "metadata": {},
   "outputs": [
    {
     "data": {
      "text/html": [
       "<img src=\"./FineTuningImages/19.png\" width=\"400\"/>"
      ],
      "text/plain": [
       "<IPython.core.display.Image object>"
      ]
     },
     "execution_count": 20,
     "metadata": {},
     "output_type": "execute_result"
    }
   ],
   "source": [
    "Image(url= \"./FineTuningImages/19.png\", width=400)"
   ]
  },
  {
   "cell_type": "markdown",
   "id": "49912e80",
   "metadata": {},
   "source": [
    "<h4>Exercise</h4>\n",
    "AUC computation\n",
    "Say you have a binary classifier that in fact is just randomly making guesses. It would be correct approximately 50% of the time, and the resulting ROC curve would be a diagonal line in which the True Positive Rate and False Positive Rate are always equal. The Area under this ROC curve would be 0.5. This is one way in which the AUC, which Hugo discussed in the video, is an informative metric to evaluate a model. If the AUC is greater than 0.5, the model is better than random guessing. Always a good sign!\n",
    "\n",
    "In this exercise, you'll calculate AUC scores using the roc_auc_score() function from sklearn.metrics as well as by performing cross-validation on the diabetes dataset.\n",
    "\n",
    "X and y, along with training and test sets X_train, X_test, y_train, y_test, have been pre-loaded for you, and a logistic regression classifier logreg has been fit to the training data.\n",
    "\n",
    "<h4>Instructions</h4>\n",
    "<ul>\n",
    "    <li>Import roc_auc_score from sklearn.metrics and cross_val_score from sklearn.model_selection.</li>\n",
    "    <li>Using the logreg classifier, which has been fit to the training data, compute the predicted probabilities of the labels of the test set X_test. Save the result as y_pred_prob.</li>\n",
    "    <li>Compute the AUC score using the roc_auc_score() function, the test set labels y_test, and the predicted probabilities y_pred_prob.</li>\n",
    "    <li>Compute the AUC scores by performing 5-fold cross-validation. Use the cross_val_score() function and specify the scoring parameter to be 'roc_auc'.</li>\n",
    "</ul>"
   ]
  },
  {
   "cell_type": "raw",
   "id": "efd46648",
   "metadata": {},
   "source": [
    "# Import necessary modules\n",
    "from sklearn.metrics import roc_auc_score\n",
    "from sklearn.model_selection import cross_val_score\n",
    "\n",
    "# Compute predicted probabilities: y_pred_prob\n",
    "y_pred_prob = logreg.predict_proba(X_test)[:,1]\n",
    "\n",
    "# Compute and print AUC score\n",
    "print(\"AUC: {}\".format(roc_auc_score(y_test, y_pred_prob)))\n",
    "\n",
    "# Compute cross-validated AUC scores: cv_auc\n",
    "cv_auc = cross_val_score(logreg, X, y, cv=5, scoring='roc_auc')\n",
    "\n",
    "# Print list of AUC scores\n",
    "print(\"AUC scores computed using 5-fold cross-validation: {}\".format(cv_auc))\n"
   ]
  },
  {
   "cell_type": "code",
   "execution_count": 22,
   "id": "28777bb9",
   "metadata": {},
   "outputs": [
    {
     "data": {
      "text/html": [
       "<img src=\"./FineTuningImages/20.png\" width=\"400\"/>"
      ],
      "text/plain": [
       "<IPython.core.display.Image object>"
      ]
     },
     "execution_count": 22,
     "metadata": {},
     "output_type": "execute_result"
    }
   ],
   "source": [
    "Image(url= \"./FineTuningImages/20.png\", width=400)"
   ]
  },
  {
   "cell_type": "markdown",
   "id": "39b1f785",
   "metadata": {},
   "source": [
    "Great work! You now have a number of different methods you can use to evaluate your model's performance."
   ]
  },
  {
   "cell_type": "markdown",
   "id": "39f06636",
   "metadata": {},
   "source": [
    "<h2>Hyper Parameter</h2>"
   ]
  },
  {
   "cell_type": "code",
   "execution_count": 23,
   "id": "3e5d88e2",
   "metadata": {},
   "outputs": [
    {
     "data": {
      "text/html": [
       "<img src=\"./FineTuningImages/21.png\" width=\"400\"/>"
      ],
      "text/plain": [
       "<IPython.core.display.Image object>"
      ]
     },
     "execution_count": 23,
     "metadata": {},
     "output_type": "execute_result"
    }
   ],
   "source": [
    "Image(url= \"./FineTuningImages/21.png\", width=400)"
   ]
  },
  {
   "cell_type": "code",
   "execution_count": 24,
   "id": "6884413f",
   "metadata": {},
   "outputs": [
    {
     "data": {
      "text/html": [
       "<img src=\"./FineTuningImages/22.png\" width=\"400\"/>"
      ],
      "text/plain": [
       "<IPython.core.display.Image object>"
      ]
     },
     "execution_count": 24,
     "metadata": {},
     "output_type": "execute_result"
    }
   ],
   "source": [
    "Image(url= \"./FineTuningImages/22.png\", width=400)"
   ]
  },
  {
   "cell_type": "code",
   "execution_count": 25,
   "id": "d9547dfe",
   "metadata": {},
   "outputs": [
    {
     "data": {
      "text/html": [
       "<img src=\"./FineTuningImages/23.png\" width=\"400\"/>"
      ],
      "text/plain": [
       "<IPython.core.display.Image object>"
      ]
     },
     "execution_count": 25,
     "metadata": {},
     "output_type": "execute_result"
    }
   ],
   "source": [
    "Image(url= \"./FineTuningImages/23.png\", width=400)"
   ]
  },
  {
   "cell_type": "code",
   "execution_count": 26,
   "id": "71d77ea7",
   "metadata": {},
   "outputs": [
    {
     "data": {
      "text/html": [
       "<img src=\"./FineTuningImages/24.png\" width=\"400\"/>"
      ],
      "text/plain": [
       "<IPython.core.display.Image object>"
      ]
     },
     "execution_count": 26,
     "metadata": {},
     "output_type": "execute_result"
    }
   ],
   "source": [
    "Image(url= \"./FineTuningImages/24.png\", width=400)"
   ]
  },
  {
   "cell_type": "markdown",
   "id": "6d1f697d",
   "metadata": {},
   "source": [
    "<h3>Exercise</h3>\n",
    "\n",
    "<h2>Hyperparameter tuning with GridSearchCV</h2>\n",
    "Hugo demonstrated how to tune the n_neighbors parameter of the KNeighborsClassifier() using GridSearchCV on the voting dataset. You will now practice this yourself, but by using logistic regression on the diabetes dataset instead!\n",
    "\n",
    "Like the alpha parameter of lasso and ridge regularization that you saw earlier, logistic regression also has a regularization parameter: .  controls the inverse of the regularization strength, and this is what you will tune in this exercise. A large  can lead to an overfit model, while a small  can lead to an underfit model.\n",
    "\n",
    "The hyperparameter space for  has been setup for you. Your job is to use GridSearchCV and logistic regression to find the optimal  in this hyperparameter space. The feature array is available as X and target variable array is available as y.\n",
    "\n",
    "You may be wondering why you aren't asked to split the data into training and test sets. Good observation! Here, we want you to focus on the process of setting up the hyperparameter grid and performing grid-search cross-validation. In practice, you will indeed want to hold out a portion of your data for evaluation purposes, and you will learn all about this in the next video!\n",
    "\n",
    "<h3>Instructions</h3>\n",
    "<ul>\n",
    "    <li>Import LogisticRegression from sklearn.linear_model and GridSearchCV from sklearn.model_selection.</li>\n",
    "    <li>Setup the hyperparameter grid by using c_space as the grid of values to tune  over.</li>\n",
    "    <li>Instantiate a logistic regression classifier called logreg.</li>\n",
    "    <li>Use GridSearchCV with 5-fold cross-validation to tune :\n",
    "        <ul>\n",
    "            <li>Inside GridSearchCV(), specify the classifier, parameter grid, and number of folds to use.</li>\n",
    "            <li>Use the .fit() method on the GridSearchCV object to fit it to the data X and y.</li>\n",
    "        </ul>\n",
    "    </li>\n",
    "    <li>Print the best parameter and best score obtained from GridSearchCV by accessing the best_params_ and best_score_ attributes of logreg_cv.</li>\n",
    "</ul>"
   ]
  },
  {
   "cell_type": "raw",
   "id": "ee71bbd4",
   "metadata": {},
   "source": [
    "# Import necessary modules\n",
    "from sklearn.linear_model import LogisticRegression\n",
    "from sklearn.model_selection import GridSearchCV\n",
    "\n",
    "# Setup the hyperparameter grid\n",
    "c_space = np.logspace(-5, 8, 15)\n",
    "param_grid = {'C': c_space}\n",
    "\n",
    "# Instantiate a logistic regression classifier: logreg\n",
    "logreg = LogisticRegression()\n",
    "\n",
    "# Instantiate the GridSearchCV object: logreg_cv\n",
    "logreg_cv = GridSearchCV(logreg, param_grid, cv=5)\n",
    "\n",
    "# Fit it to the data\n",
    "logreg_cv.fit(X, y)\n",
    "\n",
    "# Print the tuned parameters and score\n",
    "print(\"Tuned Logistic Regression Parameters: {}\".format(logreg_cv.best_params_)) \n",
    "print(\"Best score is {}\".format(logreg_cv.best_score_))\n"
   ]
  },
  {
   "cell_type": "markdown",
   "id": "ec288608",
   "metadata": {},
   "source": [
    "Good job! It looks like a 'C' of 3.727 results in the best performance."
   ]
  },
  {
   "cell_type": "markdown",
   "id": "3c7e79cd",
   "metadata": {},
   "source": [
    "<h4>Exercise</h4>\n",
    "Hyperparameter tuning with RandomizedSearchCV\n",
    "GridSearchCV can be computationally expensive, especially if you are searching over a large hyperparameter space and dealing with multiple hyperparameters. A solution to this is to use RandomizedSearchCV, in which not all hyperparameter values are tried out. Instead, a fixed number of hyperparameter settings is sampled from specified probability distributions. You'll practice using RandomizedSearchCV in this exercise and see how this works.\n",
    "\n",
    "Here, you'll also be introduced to a new model: the Decision Tree. Don't worry about the specifics of how this model works. Just like k-NN, linear regression, and logistic regression, decision trees in scikit-learn have .fit() and .predict() methods that you can use in exactly the same way as before. Decision trees have many parameters that can be tuned, such as max_features, max_depth, and min_samples_leaf: This makes it an ideal use case for RandomizedSearchCV.\n",
    "\n",
    "As before, the feature array X and target variable array y of the diabetes dataset have been pre-loaded. The hyperparameter settings have been specified for you. Your goal is to use RandomizedSearchCV to find the optimal hyperparameters. Go for it!\n",
    "\n",
    "<h4>Instructions</h4>\n",
    "<ul>\n",
    "    <li>Import DecisionTreeClassifier from sklearn.tree and RandomizedSearchCV from sklearn.model_selection.</li>\n",
    "    <li>Specify the parameters and distributions to sample from. This has been done for you.</li>\n",
    "    <li>Instantiate a DecisionTreeClassifier.</li>\n",
    "    <li>Use RandomizedSearchCV with 5-fold cross-validation to tune the hyperparameters:\n",
    "        <ul>\n",
    "            <li>Inside RandomizedSearchCV(), specify the classifier, parameter distribution, and number of folds to use.</li>\n",
    "            <li>Use the .fit() method on the RandomizedSearchCV object to fit it to the data X and y.</li>\n",
    "        </ul>\n",
    "    </li>\n",
    "    <li>Print the best parameter and best score obtained from RandomizedSearchCV by accessing the best_params_ and best_score_ attributes of tree_cv</li>\n",
    "</ul>"
   ]
  },
  {
   "cell_type": "raw",
   "id": "56c05488",
   "metadata": {},
   "source": [
    "# Import necessary modules\n",
    "from scipy.stats import randint\n",
    "from sklearn.tree import DecisionTreeClassifier\n",
    "from sklearn.model_selection import RandomizedSearchCV\n",
    "\n",
    "# Setup the parameters and distributions to sample from: param_dist\n",
    "param_dist = {\"max_depth\": [3, None],\n",
    "              \"max_features\": randint(1, 9),\n",
    "              \"min_samples_leaf\": randint(1, 9),\n",
    "              \"criterion\": [\"gini\", \"entropy\"]}\n",
    "\n",
    "# Instantiate a Decision Tree classifier: tree\n",
    "tree = DecisionTreeClassifier()\n",
    "\n",
    "# Instantiate the RandomizedSearchCV object: tree_cv\n",
    "tree_cv = RandomizedSearchCV(tree, param_dist, cv=5)\n",
    "\n",
    "# Fit it to the data\n",
    "tree_cv.fit(X, y)\n",
    "\n",
    "# Print the tuned parameters and score\n",
    "print(\"Tuned Decision Tree Parameters: {}\".format(tree_cv.best_params_))\n",
    "print(\"Best score is {}\".format(tree_cv.best_score_))\n"
   ]
  },
  {
   "cell_type": "raw",
   "id": "36300774",
   "metadata": {},
   "source": [
    " Tuned Decision Tree Parameters: {'criterion': 'gini', 'max_depth': 3, 'max_features': 5, 'min_samples_leaf': 2}\n",
    "    Best score is 0.7395833333333334"
   ]
  },
  {
   "cell_type": "markdown",
   "id": "e891a02c",
   "metadata": {},
   "source": [
    "Great work! You'll see a lot more of decision trees and RandomizedSearchCV as you continue your machine learning journey. Note that RandomizedSearchCV will never outperform GridSearchCV. Instead, it is valuable because it saves on computation time."
   ]
  },
  {
   "cell_type": "markdown",
   "id": "fd6cf04c",
   "metadata": {},
   "source": [
    "<h2>Hold-out set for final evaluation</h2>"
   ]
  },
  {
   "cell_type": "code",
   "execution_count": 29,
   "id": "512d8df4",
   "metadata": {},
   "outputs": [
    {
     "data": {
      "text/html": [
       "<img src=\"./FineTuningImages/25.png\" width=\"400\"/>"
      ],
      "text/plain": [
       "<IPython.core.display.Image object>"
      ]
     },
     "execution_count": 29,
     "metadata": {},
     "output_type": "execute_result"
    }
   ],
   "source": [
    "Image(url= \"./FineTuningImages/25.png\", width=400)"
   ]
  },
  {
   "cell_type": "markdown",
   "id": "c98ee61c",
   "metadata": {},
   "source": [
    "Correct! The idea is to tune the model's hyperparameters on the training set, and then evaluate its performance on the hold-out set which it has never seen before."
   ]
  },
  {
   "cell_type": "markdown",
   "id": "0bf82802",
   "metadata": {},
   "source": [
    "<h4>Exercise</h4>\n",
    "Hold-out set in practice I: Classification\n",
    "You will now practice evaluating a model with tuned hyperparameters on a hold-out set. The feature array and target variable array from the diabetes dataset have been pre-loaded as X and y.\n",
    "\n",
    "In addition to , logistic regression has a 'penalty' hyperparameter which specifies whether to use 'l1' or 'l2' regularization. Your job in this exercise is to create a hold-out set, tune the 'C' and 'penalty' hyperparameters of a logistic regression classifier using GridSearchCV on the training set.\n",
    "\n",
    "<h4>Instructions</h4>\n",
    "<ul>\n",
    "    <li> Create the hyperparameter grid:\n",
    "        <ul>\n",
    "            <li>Use the array c_space as the grid of values for 'C'.</li>\n",
    "            <li>For 'penalty', specify a list consisting of 'l1' and 'l2'.</li>\n",
    "        </ul>\n",
    "    </li>\n",
    "    <li>Instantiate a logistic regression classifier.</li>\n",
    "    <li>Create training and test sets. Use a test_size of 0.4 and random_state of 42. In practice, the test set here will function as the hold-out set.</li>\n",
    "    <li>Tune the hyperparameters on the training set using GridSearchCV with 5-folds. This involves first instantiating the GridSearchCV object with the correct parameters and then fitting it to the training data.</li>\n",
    "    <li>Print the best parameter and best score obtained from GridSearchCV by accessing the best_params_ and best_score_ attributes of logreg_cv.</li>\n",
    "</ul>"
   ]
  },
  {
   "cell_type": "raw",
   "id": "51cfa8cc",
   "metadata": {},
   "source": [
    "# Import necessary modules\n",
    "from sklearn.model_selection import train_test_split\n",
    "from sklearn.linear_model import LogisticRegression\n",
    "from sklearn.model_selection import GridSearchCV\n",
    "\n",
    "# Create the hyperparameter grid\n",
    "c_space = np.logspace(-5, 8, 15)\n",
    "param_grid = {'C': c_space, 'penalty': ['l1', 'l2']}\n",
    "\n",
    "# Instantiate the logistic regression classifier: logreg\n",
    "logreg = LogisticRegression()\n",
    "\n",
    "# Create train and test sets\n",
    "X_train, X_test, y_train, y_test = train_test_split(X, y, test_size=0.4, random_state=42)\n",
    "\n",
    "# Instantiate the GridSearchCV object: logreg_cv\n",
    "logreg_cv = GridSearchCV(logreg, param_grid, cv=5)\n",
    "\n",
    "# Fit it to the training data\n",
    "logreg_cv.fit(X_train, y_train)\n",
    "\n",
    "# Print the optimal parameters and best score\n",
    "print(\"Tuned Logistic Regression Parameter: {}\".format(logreg_cv.best_params_))\n",
    "print(\"Tuned Logistic Regression Accuracy: {}\".format(logreg_cv.best_score_))\n"
   ]
  },
  {
   "cell_type": "raw",
   "id": "3621ff56",
   "metadata": {},
   "source": [
    "Tuned Logistic Regression Parameter: {'C': 0.4393970560760795, 'penalty': 'l1'}\n",
    "    Tuned Logistic Regression Accuracy: 0.7652173913043478"
   ]
  },
  {
   "cell_type": "markdown",
   "id": "64088ada",
   "metadata": {},
   "source": [
    "Excellent work! You're really mastering the fundamentals of classification!"
   ]
  },
  {
   "cell_type": "markdown",
   "id": "b3d90ab6",
   "metadata": {},
   "source": [
    "<h4>Exercise</h4>\n",
    "<h2>Hold-out set in practice II: Regression</h2>\n",
    "Remember lasso and ridge regression from the previous chapter? Lasso used the  penalty to regularize, while ridge used the  penalty. There is another type of regularized regression known as the elastic net. In elastic net regularization, the penalty term is a linear combination of the  and  penalties:\n",
    "\n",
    "\n",
    "In scikit-learn, this term is represented by the 'l1_ratio' parameter: An 'l1_ratio' of 1 corresponds to an  penalty, and anything lower is a combination of  and .\n",
    "\n",
    "In this exercise, you will GridSearchCV to tune the 'l1_ratio' of an elastic net model trained on the Gapminder data. As in the previous exercise, use a hold-out set to evaluate your model's performance.\n",
    "\n",
    "<h4>Instructions</h4>\n",
    "<ul>\n",
    "    <li>Import the following modules:\n",
    "        <ul>\n",
    "            <li>ElasticNet from sklearn.linear_model.</li>\n",
    "            <li>mean_squared_error from sklearn.metrics.</li>\n",
    "            <li>GridSearchCV and train_test_split from sklearn.model_selection.</li>\n",
    "        </ul>\n",
    "    </li>\n",
    "    <li>Create training and test sets, with 40% of the data used for the test set. Use a random state of 42.</li>\n",
    "    <li>Specify the hyperparameter grid for 'l1_ratio' using l1_space as the grid of values to search over.</li>\n",
    "    <li>Instantiate the ElasticNet regressor.</li>\n",
    "    <li>Use GridSearchCV with 5-fold cross-validation to tune 'l1_ratio' on the training data X_train and y_train. This involves first instantiating the GridSearchCV object with the correct parameters and then fitting it to the training data.</li>\n",
    "    <li>Predict on the test set and compute the  and mean squared error.</li>\n",
    "</ul>"
   ]
  },
  {
   "cell_type": "raw",
   "id": "020d1b1a",
   "metadata": {},
   "source": [
    "# Import necessary modules\n",
    "from sklearn.linear_model import ElasticNet\n",
    "from sklearn.metrics import mean_squared_error\n",
    "from sklearn.model_selection import GridSearchCV\n",
    "from sklearn.model_selection import train_test_split\n",
    "\n",
    "# Create train and test sets\n",
    "X_train, X_test, y_train, y_test = train_test_split(X, y, test_size=0.4, random_state=42)\n",
    "\n",
    "# Create the hyperparameter grid\n",
    "l1_space = np.linspace(0, 1, 30)\n",
    "param_grid = {'l1_ratio': l1_space}\n",
    "\n",
    "# Instantiate the ElasticNet regressor: elastic_net\n",
    "elastic_net = ElasticNet()\n",
    "\n",
    "# Setup the GridSearchCV object: gm_cv\n",
    "gm_cv = GridSearchCV(elastic_net, param_grid, cv=5)\n",
    "\n",
    "# Fit it to the training data\n",
    "gm_cv.fit(X_train, y_train)\n",
    "\n",
    "# Predict on the test set and compute metrics\n",
    "y_pred = gm_cv.predict(X_test)\n",
    "r2 = gm_cv.score(X_test, y_test)\n",
    "mse = mean_squared_error(y_test, y_pred)\n",
    "print(\"Tuned ElasticNet l1 ratio: {}\".format(gm_cv.best_params_))\n",
    "print(\"Tuned ElasticNet R squared: {}\".format(r2))\n",
    "print(\"Tuned ElasticNet MSE: {}\".format(mse))\n"
   ]
  },
  {
   "cell_type": "raw",
   "id": "bfecd6f3",
   "metadata": {},
   "source": [
    "Tuned ElasticNet l1 ratio: {'l1_ratio': 0.20689655172413793}\n",
    "    Tuned ElasticNet R squared: 0.8668305372460283\n",
    "    Tuned ElasticNet MSE: 10.05791413339844"
   ]
  },
  {
   "cell_type": "markdown",
   "id": "7762ff93",
   "metadata": {},
   "source": [
    "Fantastic! Now that you understand how to fine-tune your models, it's time to learn about preprocessing techniques and how to piece together all the different stages of the machine learning process into a pipeline!"
   ]
  },
  {
   "cell_type": "code",
   "execution_count": null,
   "id": "f899b817",
   "metadata": {},
   "outputs": [],
   "source": []
  }
 ],
 "metadata": {
  "kernelspec": {
   "display_name": "Python 3 (ipykernel)",
   "language": "python",
   "name": "python3"
  },
  "language_info": {
   "codemirror_mode": {
    "name": "ipython",
    "version": 3
   },
   "file_extension": ".py",
   "mimetype": "text/x-python",
   "name": "python",
   "nbconvert_exporter": "python",
   "pygments_lexer": "ipython3",
   "version": "3.9.7"
  }
 },
 "nbformat": 4,
 "nbformat_minor": 5
}
